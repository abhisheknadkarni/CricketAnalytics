{
 "cells": [
  {
   "cell_type": "code",
   "execution_count": 1,
   "id": "b83f28f0",
   "metadata": {},
   "outputs": [],
   "source": [
    "import moviepy.editor as mp\n",
    "import numpy as np\n",
    "import librosa\n",
    "from scipy.signal import find_peaks"
   ]
  },
  {
   "cell_type": "code",
   "execution_count": null,
   "id": "4f497be0",
   "metadata": {},
   "outputs": [],
   "source": [
    "# Load the video file\n",
    "video_path = \"../Media/knocks/Knocks_01.mp4\"\n",
    "video_clip = mp.VideoFileClip(video_path)\n",
    "\n",
    "# Convert the video to audio\n",
    "audio = video_clip.audio.to_soundarray()\n",
    "\n",
    "# Convert audio to mono if it's stereo\n",
    "if audio.ndim > 1:\n",
    "    audio = np.mean(audio, axis=1)\n",
    "\n",
    "# Choose or create a reference audio pattern for bat tapping\n",
    "# For example, you can create a simple tapping pattern\n",
    "# using np.zeros and set certain time intervals to a non-zero value\n",
    "# Adjust the pattern based on your specific use case\n",
    "bat_tapping_pattern = np.zeros_like(audio)\n",
    "bat_tapping_pattern[::5000] = 1.0  # Adjust interval as needed\n",
    "\n",
    "# Calculate the similarity between the video audio and the bat tapping pattern\n",
    "cross_correlation = np.correlate(audio, bat_tapping_pattern, mode='full')\n",
    "\n",
    "# Threshold for detecting bat tapping sound\n",
    "threshold = 0.5 * np.max(cross_correlation)\n",
    "\n",
    "# Find peaks above the threshold using scipy's find_peaks\n",
    "peaks, _ = find_peaks(cross_correlation, height=threshold, distance=10)\n",
    "\n",
    "# Count the number of peaks\n",
    "num_ball_taps = len(peaks)\n",
    "\n",
    "print(\"Number of ball tappings detected:\", num_ball_taps)\n"
   ]
  },
  {
   "cell_type": "code",
   "execution_count": null,
   "id": "aac41552",
   "metadata": {},
   "outputs": [],
   "source": []
  },
  {
   "cell_type": "code",
   "execution_count": null,
   "id": "1c863dc8",
   "metadata": {},
   "outputs": [],
   "source": []
  },
  {
   "cell_type": "code",
   "execution_count": null,
   "id": "3cbe62b7",
   "metadata": {},
   "outputs": [],
   "source": []
  },
  {
   "cell_type": "code",
   "execution_count": null,
   "id": "559d9b7d",
   "metadata": {},
   "outputs": [],
   "source": []
  },
  {
   "cell_type": "code",
   "execution_count": null,
   "id": "f9736eff",
   "metadata": {},
   "outputs": [],
   "source": []
  }
 ],
 "metadata": {
  "kernelspec": {
   "display_name": "Python 3 (ipykernel)",
   "language": "python",
   "name": "python3"
  },
  "language_info": {
   "codemirror_mode": {
    "name": "ipython",
    "version": 3
   },
   "file_extension": ".py",
   "mimetype": "text/x-python",
   "name": "python",
   "nbconvert_exporter": "python",
   "pygments_lexer": "ipython3",
   "version": "3.9.13"
  }
 },
 "nbformat": 4,
 "nbformat_minor": 5
}
