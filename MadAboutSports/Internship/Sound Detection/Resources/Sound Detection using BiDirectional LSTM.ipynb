{
 "cells": [
  {
   "cell_type": "code",
   "execution_count": null,
   "id": "26d82205",
   "metadata": {},
   "outputs": [],
   "source": [
    "import numpy as np\n",
    "import librosa\n",
    "\n",
    "import os \n",
    "os.environ['KMP_DUPLICATE_LIB_OK']='True'\n",
    "\n",
    "import tensorflow as tf\n",
    "from tensorflow.keras.models import Sequential\n",
    "from tensorflow.keras.layers import Bidirectional, LSTM, Dense, Dropout"
   ]
  },
  {
   "cell_type": "code",
   "execution_count": null,
   "id": "cdc1478d",
   "metadata": {},
   "outputs": [],
   "source": [
    "# Function to extract features from audio file\n",
    "def extract_features(audio_file):\n",
    "    y, sr = librosa.load(audio_file, sr=None)\n",
    "    mfccs = librosa.feature.mfcc(y=y, sr=sr, n_mfcc=13)\n",
    "    return mfccs.T\n"
   ]
  },
  {
   "cell_type": "code",
   "execution_count": null,
   "id": "22205d0c",
   "metadata": {},
   "outputs": [],
   "source": [
    "# Load the labeled dataset\n",
    "def load_dataset(directory_path):\n",
    "    X, y = [], []\n",
    "\n",
    "    for filename in os.listdir(directory_path):\n",
    "        if filename.endswith(\".mp4\"):\n",
    "            audio_path = os.path.join(directory_path, filename)\n",
    "            \n",
    "            label = 1 if \"hit\" in filename else 0  # Assuming filenames contain \"hit\" for hits\n",
    "            features = extract_features(audio_path)\n",
    "            \n",
    "            X.append(features)\n",
    "            y.append(label)\n",
    "            \n",
    "            print(np.unique(y))\n",
    "\n",
    "    return np.array(X), np.array(y)"
   ]
  },
  {
   "cell_type": "code",
   "execution_count": null,
   "id": "b63ebed2",
   "metadata": {},
   "outputs": [],
   "source": [
    "# Build Bi-directional LSTM model\n",
    "def build_model(input_shape):\n",
    "    model = Sequential()\n",
    "    model.add(Bidirectional(LSTM(128, return_sequences=True), input_shape=input_shape))\n",
    "    model.add(Dropout(0.3))\n",
    "    model.add(Bidirectional(LSTM(128)))\n",
    "    model.add(Dense(1, activation='sigmoid'))\n",
    "\n",
    "    model.compile(optimizer='adam', loss='binary_crossentropy', metrics=['accuracy'])\n",
    "    return model\n"
   ]
  },
  {
   "cell_type": "code",
   "execution_count": null,
   "id": "c4a09a29",
   "metadata": {},
   "outputs": [],
   "source": [
    "# Main function for training and testing the model\n",
    "def TestModel():\n",
    "    # Load the dataset\n",
    "    directory_path = \"../Media/videos_to_be_processed\"\n",
    "    X, y = load_dataset(directory_path)\n",
    "\n",
    "    # Extract features from audio files\n",
    "    X_features = [extract_features(audio_file) for audio_file in X]\n",
    "\n",
    "    # Convert list to numpy array\n",
    "    X_features = np.array(X_features)\n",
    "\n",
    "    # Build the model\n",
    "    input_shape = X_features.shape[1:]\n",
    "    model = build_model(input_shape)\n",
    "\n",
    "    # Train the model\n",
    "    model.fit(X_features, y, epochs=10, batch_size=32, validation_split=0.2)\n",
    "\n",
    "    # Save the trained model\n",
    "    model.save('sound_detection_model.h5')"
   ]
  },
  {
   "cell_type": "code",
   "execution_count": null,
   "id": "e98fc8c4",
   "metadata": {},
   "outputs": [],
   "source": [
    "TestModel()"
   ]
  },
  {
   "cell_type": "code",
   "execution_count": null,
   "id": "67d1f765",
   "metadata": {},
   "outputs": [],
   "source": []
  },
  {
   "cell_type": "code",
   "execution_count": null,
   "id": "87d701b7",
   "metadata": {},
   "outputs": [],
   "source": []
  },
  {
   "cell_type": "code",
   "execution_count": null,
   "id": "6e6c405e",
   "metadata": {},
   "outputs": [],
   "source": []
  },
  {
   "cell_type": "code",
   "execution_count": null,
   "id": "12039a9b",
   "metadata": {},
   "outputs": [],
   "source": []
  },
  {
   "cell_type": "code",
   "execution_count": null,
   "id": "f8cfdab1",
   "metadata": {},
   "outputs": [],
   "source": []
  },
  {
   "cell_type": "code",
   "execution_count": null,
   "id": "f78c0c38",
   "metadata": {},
   "outputs": [],
   "source": []
  },
  {
   "cell_type": "code",
   "execution_count": null,
   "id": "57e43f11",
   "metadata": {},
   "outputs": [],
   "source": []
  },
  {
   "cell_type": "code",
   "execution_count": null,
   "id": "8f2277f7",
   "metadata": {},
   "outputs": [],
   "source": []
  }
 ],
 "metadata": {
  "kernelspec": {
   "display_name": "Python 3 (ipykernel)",
   "language": "python",
   "name": "python3"
  },
  "language_info": {
   "codemirror_mode": {
    "name": "ipython",
    "version": 3
   },
   "file_extension": ".py",
   "mimetype": "text/x-python",
   "name": "python",
   "nbconvert_exporter": "python",
   "pygments_lexer": "ipython3",
   "version": "3.9.13"
  }
 },
 "nbformat": 4,
 "nbformat_minor": 5
}
