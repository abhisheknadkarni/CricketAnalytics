{
 "cells": [
  {
   "cell_type": "code",
   "execution_count": 1,
   "id": "12cc00eb",
   "metadata": {},
   "outputs": [],
   "source": [
    "import os\n",
    "import librosa\n",
    "import moviepy.editor as mp\n",
    "import numpy as np\n",
    "from sklearn.ensemble import RandomForestClassifier"
   ]
  },
  {
   "cell_type": "code",
   "execution_count": 2,
   "id": "3f0ee61b",
   "metadata": {},
   "outputs": [],
   "source": [
    "def extract_features(audio_path):\n",
    "    y, sr = librosa.load(audio_path)\n",
    "\n",
    "    # Example feature extraction - customize based on your data\n",
    "    chroma_stft = librosa.feature.chroma_stft(y=y, sr=sr)\n",
    "    mfccs = librosa.feature.mfcc(y=y, sr=sr)\n",
    "    spectral_contrast = librosa.feature.spectral_contrast(y=y, sr=sr)\n",
    "    rms = librosa.feature.rms(y=y)[0]\n",
    "\n",
    "    # Ensure all feature arrays have the same number of columns\n",
    "    min_len = min(chroma_stft.shape[1], mfccs.shape[1], spectral_contrast.shape[1], rms.shape[0])\n",
    "    chroma_stft = chroma_stft[:, :min_len]\n",
    "    mfccs = mfccs[:, :min_len]\n",
    "    spectral_contrast = spectral_contrast[:, :min_len]\n",
    "    rms = rms[:min_len]\n",
    "\n",
    "    return chroma_stft, mfccs, spectral_contrast, rms"
   ]
  },
  {
   "cell_type": "code",
   "execution_count": 3,
   "id": "8bf73bc1",
   "metadata": {},
   "outputs": [],
   "source": [
    "def train_classifier(features, labels):\n",
    "    clf = RandomForestClassifier(n_estimators=100, random_state=42)\n",
    "    clf.fit(features, labels)\n",
    "    return clf"
   ]
  },
  {
   "cell_type": "code",
   "execution_count": 4,
   "id": "2de04bfb",
   "metadata": {},
   "outputs": [],
   "source": [
    "def detect_bat_hit(classifier, audio_features):\n",
    "    predictions = classifier.predict(audio_features)\n",
    "    return predictions"
   ]
  },
  {
   "cell_type": "code",
   "execution_count": 5,
   "id": "fe43dd6a",
   "metadata": {},
   "outputs": [],
   "source": [
    "def initiate_process():\n",
    "    # Replace 'positive_samples' and 'negative_samples' with your \n",
    "    # actual directories containing positive and negative samples\n",
    "    positive_samples_dir = '../Media/positive_samples'\n",
    "    negative_samples_dir = '../Media/negative_samples'\n",
    "\n",
    "    # Read video files from a directory\n",
    "    video_directory = '../Media/videos_to_be_processed'\n",
    "    video_files = [f for f in os.listdir(video_directory) if f.endswith('.mp4')]\n",
    "    \n",
    "    #----------------------------------------------------\n",
    "    \n",
    "    # Extract features for positive samples (bat hits)\n",
    "    positive_features = []\n",
    "    positive_labels = []\n",
    "    for positive_audio_file in os.listdir(positive_samples_dir):\n",
    "        positive_audio_path = os.path.join(positive_samples_dir, positive_audio_file)\n",
    "        features = extract_features(positive_audio_path)\n",
    "        for feat in features:\n",
    "            flattened_feat = feat.flatten()\n",
    "            #print(f\"Shape before flattening: {feat.shape}, Shape after flattening: {flattened_feat.shape}\")\n",
    "            positive_features.append(flattened_feat)\n",
    "            positive_labels.append(1)  # Positive label for bat hit\n",
    "\n",
    "    # Extract features for negative samples (non-bat hits)\n",
    "    negative_features = []\n",
    "    negative_labels = []\n",
    "    for negative_audio_file in os.listdir(negative_samples_dir):\n",
    "        negative_audio_path = os.path.join(negative_samples_dir, negative_audio_file)\n",
    "        features = extract_features(negative_audio_path)\n",
    "        for feat in features:\n",
    "            flattened_feat = feat.flatten()\n",
    "            #print(f\"Shape before flattening: {feat.shape}, Shape after flattening: {flattened_feat.shape}\")\n",
    "            negative_features.append(flattened_feat)\n",
    "            negative_labels.append(0)  # Negative label for non-bat hit\n",
    "\n",
    "    # Ensure all feature arrays have the same number of columns\n",
    "    min_len = min(len(positive_features), len(negative_features))\n",
    "    positive_features = positive_features[:min_len]\n",
    "    negative_features = negative_features[:min_len]\n",
    "\n",
    "    # Combine positive and negative samples\n",
    "    all_features = np.concatenate([positive_features, negative_features], axis=0)\n",
    "    all_labels = np.concatenate([positive_labels, negative_labels])\n",
    "\n",
    "    # Ensure all feature arrays have the same number of columns\n",
    "    min_len = min(len(positive_features), len(negative_features))\n",
    "    all_features = all_features[:min_len]\n",
    "    all_labels = all_labels[:min_len]\n",
    "    \n",
    "    #----------------------------------------------------\n",
    "    \n",
    "    # Train the classifier\n",
    "    classifier = train_classifier(all_features, all_labels.reshape(-1))\n",
    "\n",
    "    # Test the classifier on video files from the directory\n",
    "    for video_file in video_files:\n",
    "        video_path = os.path.join(video_directory, video_file)\n",
    "        audio_path = 'temp_audio.wav'\n",
    "\n",
    "        # Extract audio from video\n",
    "        video_clip = mp.VideoFileClip(video_path)\n",
    "        video_clip.audio.write_audiofile(audio_path, fps=video_clip.fps)\n",
    "\n",
    "        # Extract features for the test video\n",
    "        test_chroma_stft, test_mfccs, test_spectral_contrast, test_rms = extract_features(audio_path)\n",
    "        test_features = np.vstack((test_chroma_stft, test_mfccs, test_spectral_contrast, test_rms)).T\n",
    "\n",
    "        # Detect bat hits using the trained classifier\n",
    "        predictions = detect_bat_hit(classifier, test_features)\n",
    "\n",
    "        # Check if there are any positive predictions indicating a bat hit\n",
    "        if 1 in predictions:\n",
    "            print(f\"Cricket ball hit the bat in {video_file}\")\n",
    "        else:\n",
    "            print(f\"No cricket ball hit the bat in {video_file}\")"
   ]
  },
  {
   "cell_type": "code",
   "execution_count": 6,
   "id": "c7cac7fb",
   "metadata": {},
   "outputs": [
    {
     "ename": "ValueError",
     "evalue": "setting an array element with a sequence. The requested array has an inhomogeneous shape after 1 dimensions. The detected shape was (12,) + inhomogeneous part.",
     "output_type": "error",
     "traceback": [
      "\u001b[0;31m---------------------------------------------------------------------------\u001b[0m",
      "\u001b[0;31mValueError\u001b[0m                                Traceback (most recent call last)",
      "\u001b[0;32m/var/folders/jn/vn4rr64x6kz2cx2s6lzslsfc0000gp/T/ipykernel_93215/1821720398.py\u001b[0m in \u001b[0;36m<module>\u001b[0;34m\u001b[0m\n\u001b[0;32m----> 1\u001b[0;31m \u001b[0minitiate_process\u001b[0m\u001b[0;34m(\u001b[0m\u001b[0;34m)\u001b[0m\u001b[0;34m\u001b[0m\u001b[0;34m\u001b[0m\u001b[0m\n\u001b[0m",
      "\u001b[0;32m/var/folders/jn/vn4rr64x6kz2cx2s6lzslsfc0000gp/T/ipykernel_93215/395841083.py\u001b[0m in \u001b[0;36minitiate_process\u001b[0;34m()\u001b[0m\n\u001b[1;32m     41\u001b[0m \u001b[0;34m\u001b[0m\u001b[0m\n\u001b[1;32m     42\u001b[0m     \u001b[0;31m# Combine positive and negative samples\u001b[0m\u001b[0;34m\u001b[0m\u001b[0;34m\u001b[0m\u001b[0m\n\u001b[0;32m---> 43\u001b[0;31m     \u001b[0mall_features\u001b[0m \u001b[0;34m=\u001b[0m \u001b[0mnp\u001b[0m\u001b[0;34m.\u001b[0m\u001b[0mconcatenate\u001b[0m\u001b[0;34m(\u001b[0m\u001b[0;34m[\u001b[0m\u001b[0mpositive_features\u001b[0m\u001b[0;34m,\u001b[0m \u001b[0mnegative_features\u001b[0m\u001b[0;34m]\u001b[0m\u001b[0;34m,\u001b[0m \u001b[0maxis\u001b[0m\u001b[0;34m=\u001b[0m\u001b[0;36m0\u001b[0m\u001b[0;34m)\u001b[0m\u001b[0;34m\u001b[0m\u001b[0;34m\u001b[0m\u001b[0m\n\u001b[0m\u001b[1;32m     44\u001b[0m     \u001b[0mall_labels\u001b[0m \u001b[0;34m=\u001b[0m \u001b[0mnp\u001b[0m\u001b[0;34m.\u001b[0m\u001b[0mconcatenate\u001b[0m\u001b[0;34m(\u001b[0m\u001b[0;34m[\u001b[0m\u001b[0mpositive_labels\u001b[0m\u001b[0;34m,\u001b[0m \u001b[0mnegative_labels\u001b[0m\u001b[0;34m]\u001b[0m\u001b[0;34m)\u001b[0m\u001b[0;34m\u001b[0m\u001b[0;34m\u001b[0m\u001b[0m\n\u001b[1;32m     45\u001b[0m \u001b[0;34m\u001b[0m\u001b[0m\n",
      "\u001b[0;32m~/opt/anaconda3/lib/python3.9/site-packages/numpy/core/overrides.py\u001b[0m in \u001b[0;36mconcatenate\u001b[0;34m(*args, **kwargs)\u001b[0m\n",
      "\u001b[0;31mValueError\u001b[0m: setting an array element with a sequence. The requested array has an inhomogeneous shape after 1 dimensions. The detected shape was (12,) + inhomogeneous part."
     ]
    }
   ],
   "source": [
    "initiate_process()"
   ]
  },
  {
   "cell_type": "code",
   "execution_count": null,
   "id": "241ee7b5",
   "metadata": {},
   "outputs": [],
   "source": []
  },
  {
   "cell_type": "code",
   "execution_count": null,
   "id": "3f43a184",
   "metadata": {},
   "outputs": [],
   "source": []
  },
  {
   "cell_type": "code",
   "execution_count": null,
   "id": "007ac403",
   "metadata": {},
   "outputs": [],
   "source": []
  },
  {
   "cell_type": "code",
   "execution_count": null,
   "id": "3d1604dd",
   "metadata": {},
   "outputs": [],
   "source": []
  },
  {
   "cell_type": "code",
   "execution_count": null,
   "id": "79f22838",
   "metadata": {},
   "outputs": [],
   "source": []
  }
 ],
 "metadata": {
  "kernelspec": {
   "display_name": "Python 3 (ipykernel)",
   "language": "python",
   "name": "python3"
  },
  "language_info": {
   "codemirror_mode": {
    "name": "ipython",
    "version": 3
   },
   "file_extension": ".py",
   "mimetype": "text/x-python",
   "name": "python",
   "nbconvert_exporter": "python",
   "pygments_lexer": "ipython3",
   "version": "3.9.13"
  }
 },
 "nbformat": 4,
 "nbformat_minor": 5
}
