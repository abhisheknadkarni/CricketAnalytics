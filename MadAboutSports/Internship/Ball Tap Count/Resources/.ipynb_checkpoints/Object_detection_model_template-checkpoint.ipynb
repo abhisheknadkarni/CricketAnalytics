{
 "cells": [
  {
   "cell_type": "markdown",
   "id": "7f597c52",
   "metadata": {},
   "source": [
    "## Imports"
   ]
  },
  {
   "cell_type": "code",
   "execution_count": null,
   "id": "eeb1f22f",
   "metadata": {},
   "outputs": [],
   "source": [
    "import os\n",
    "import ultralytics\n",
    "import numpy as np\n",
    "import pandas as pd\n",
    "import mediapipe as mp\n",
    "from ultralytics import YOLO\n",
    "from tqdm import tqdm, trange\n",
    "import matplotlib.pyplot as plt"
   ]
  },
  {
   "cell_type": "markdown",
   "id": "c75822d8",
   "metadata": {},
   "source": [
    "## Source"
   ]
  },
  {
   "cell_type": "code",
   "execution_count": null,
   "id": "3740a1ee",
   "metadata": {},
   "outputs": [],
   "source": [
    "# dataset url\n",
    "# https://universe.roboflow.com/rique01101999-gmail-com/persedatasetrealcones/dataset/1"
   ]
  },
  {
   "cell_type": "markdown",
   "id": "4dc5e33d",
   "metadata": {},
   "source": [
    "## Export"
   ]
  },
  {
   "cell_type": "code",
   "execution_count": null,
   "id": "cb94bd96",
   "metadata": {},
   "outputs": [],
   "source": [
    "# export dataset to yolov8 format"
   ]
  },
  {
   "cell_type": "markdown",
   "id": "8745b0bd",
   "metadata": {},
   "source": [
    "## Create folders"
   ]
  },
  {
   "cell_type": "code",
   "execution_count": null,
   "id": "21336e7d",
   "metadata": {},
   "outputs": [],
   "source": [
    "parent_folder = 'cone_roboflow_v3'"
   ]
  },
  {
   "cell_type": "code",
   "execution_count": null,
   "id": "6ce750cc",
   "metadata": {},
   "outputs": [],
   "source": [
    "# create two main folders for storing data and results\n",
    "os.mkdir(f'../data/{parent_folder}/training_results')\n",
    "os.mkdir(f'../data/{parent_folder}/yolo_data')\n",
    "\n",
    "os.mkdir(f'../data/{parent_folder}/yolo_data/images')\n",
    "os.mkdir(f'../data/{parent_folder}/yolo_data/labels')\n",
    "\n",
    "os.mkdir(f'../data/{parent_folder}/yolo_data/images/train/')\n",
    "os.mkdir(f'../data/{parent_folder}/yolo_data/images/val/')\n",
    "\n",
    "os.mkdir(f'../data/{parent_folder}/yolo_data/labels/train/')\n",
    "os.mkdir(f'../data/{parent_folder}/yolo_data/labels/val/')\n",
    "\n",
    "os.mkdir(f'../data/{parent_folder}/yolo_data/test/')"
   ]
  },
  {
   "cell_type": "markdown",
   "id": "77f379db",
   "metadata": {},
   "source": [
    "## Move files"
   ]
  },
  {
   "cell_type": "code",
   "execution_count": null,
   "id": "d6923cd9",
   "metadata": {},
   "outputs": [],
   "source": [
    "def move_files(src_dir, dst_dir):\n",
    "\n",
    "    files_to_move = os.listdir(src_dir)\n",
    "\n",
    "    for f in files_to_move:\n",
    "        src_path = os.path.join(src_dir, f)\n",
    "        dst_path = os.path.join(dst_dir, f)\n",
    "        os.rename(src_path, dst_path)"
   ]
  },
  {
   "cell_type": "code",
   "execution_count": null,
   "id": "2736cb22",
   "metadata": {},
   "outputs": [],
   "source": [
    "# move train images \n",
    "src_dir = f'../data/{parent_folder}/train/images/'\n",
    "dst_dir = f'../data/{parent_folder}/yolo_data/images/train/'\n",
    "move_files(src_dir, dst_dir)\n",
    "\n",
    "# move train labels \n",
    "src_dir = f'../data/{parent_folder}/train/labels/'\n",
    "dst_dir = f'../data/{parent_folder}/yolo_data/labels/train/'\n",
    "move_files(src_dir, dst_dir)\n",
    "\n",
    "# move valid images \n",
    "src_dir = f'../data/{parent_folder}/valid/images/'\n",
    "dst_dir = f'../data/{parent_folder}/yolo_data/images/val/'\n",
    "move_files(src_dir, dst_dir)\n",
    "\n",
    "# move valid labels \n",
    "src_dir = f'../data/{parent_folder}/valid/labels/'\n",
    "dst_dir = f'../data/{parent_folder}/yolo_data/labels/val/'\n",
    "move_files(src_dir, dst_dir)\n",
    "\n",
    "# move test images \n",
    "src_dir = f'../data/{parent_folder}/test/images/'\n",
    "dst_dir = f'../data/{parent_folder}/yolo_data/test'\n",
    "move_files(src_dir, dst_dir)\n",
    "\n",
    "# move test labels \n",
    "src_dir = f'../data/{parent_folder}/test/labels/'\n",
    "dst_dir = f'../data/{parent_folder}/yolo_data/test/'\n",
    "move_files(src_dir, dst_dir)"
   ]
  },
  {
   "cell_type": "markdown",
   "id": "38015e5f",
   "metadata": {},
   "source": [
    "## Training"
   ]
  },
  {
   "cell_type": "code",
   "execution_count": null,
   "id": "3db1c668",
   "metadata": {},
   "outputs": [],
   "source": [
    "!yolo task=detect mode=train model=yolov8s.pt \\\n",
    "data=/Users/davidgladson/Downloads/kpro/projects/cone_drill/data/cone_roboflow_v3/data.yaml \\\n",
    "epochs=10 \\\n",
    "project=/Users/davidgladson/Downloads/kpro/projects/cone_drill/data/cone_roboflow_v3/training_results \\\n",
    "name=cone"
   ]
  },
  {
   "cell_type": "code",
   "execution_count": null,
   "id": "fc2a1e51",
   "metadata": {},
   "outputs": [],
   "source": []
  },
  {
   "cell_type": "markdown",
   "id": "17361438",
   "metadata": {},
   "source": [
    "## Convert .pt to .tflite"
   ]
  },
  {
   "cell_type": "code",
   "execution_count": null,
   "id": "9c0db817",
   "metadata": {},
   "outputs": [],
   "source": [
    "!yolo export model=../../../projects/cone_drill/data/cone_roboflow_v3/training_results/cone2/weights/best.pt format=tflite "
   ]
  },
  {
   "cell_type": "code",
   "execution_count": null,
   "id": "e533d05d",
   "metadata": {},
   "outputs": [],
   "source": []
  },
  {
   "cell_type": "markdown",
   "id": "fff69aaf",
   "metadata": {},
   "source": [
    "## Test on a sample image"
   ]
  },
  {
   "cell_type": "code",
   "execution_count": null,
   "id": "36d4b1ec",
   "metadata": {},
   "outputs": [],
   "source": [
    "model = YOLO('../data/cone_roboflow_v3/training_results/cone2/weights/best_saved_model/best_float16.tflite')"
   ]
  },
  {
   "cell_type": "code",
   "execution_count": null,
   "id": "5fc4bc98",
   "metadata": {},
   "outputs": [],
   "source": [
    "img = cv2.imread('cone_drill_sample_2.png')\n",
    "f = cv2.cvtColor(img, cv2.COLOR_BGR2RGB)\n",
    "\n",
    "plt.imshow(f)\n",
    "plt.show()"
   ]
  },
  {
   "cell_type": "code",
   "execution_count": null,
   "id": "1bf0a758",
   "metadata": {},
   "outputs": [],
   "source": [
    "results = model(img, show=False,conf=0.1,save=False)\n",
    "\n",
    "boxes_arr = results[0].boxes.xyxy\n",
    "boxes_conf = results[0].boxes.conf\n",
    "boxes_clas = results[0].boxes.cls\n",
    "boxes_name = results[0].names\n",
    "\n",
    "box_color = {0:'yellow'}\n",
    "conf_threshold = 0.1\n",
    "\n",
    "plt.figure(figsize = (10,10))\n",
    "plt.imshow(f)\n",
    "\n",
    "for i in range(len(boxes_arr)):\n",
    "\n",
    "    arr = boxes_arr[i]\n",
    "    conf = boxes_conf[i]\n",
    "    cls = boxes_clas[i]\n",
    "    \n",
    "    if conf >= conf_threshold:\n",
    "    \n",
    "        r1_x = arr[0]\n",
    "        r1_y = arr[1]\n",
    "        r1_w = abs(arr[0] - arr[2])\n",
    "        r1_h = abs(arr[1] - arr[3])\n",
    "        rec1 = plt.Rectangle((r1_x, r1_y), r1_w, r1_h, edgecolor=box_color[cls.item()], facecolor='none', linewidth = 3)\n",
    "        plt.gca().add_patch(rec1)\n",
    "\n",
    "plt.show()"
   ]
  },
  {
   "cell_type": "code",
   "execution_count": null,
   "id": "dcb46fec",
   "metadata": {},
   "outputs": [],
   "source": []
  },
  {
   "cell_type": "markdown",
   "id": "c364c898",
   "metadata": {},
   "source": [
    "## Pose estimation"
   ]
  },
  {
   "cell_type": "code",
   "execution_count": null,
   "id": "bc5e875c",
   "metadata": {},
   "outputs": [],
   "source": [
    "# Initialize MediaPipe Pose\n",
    "mp_pose = mp.solutions.pose\n",
    "pose = mp_pose.Pose()"
   ]
  },
  {
   "cell_type": "code",
   "execution_count": null,
   "id": "25f5391f",
   "metadata": {},
   "outputs": [],
   "source": [
    "def show_pose(im):\n",
    "    results = pose.process(im)\n",
    "    if results.pose_landmarks:\n",
    "\n",
    "        mp_drawing = mp.solutions.drawing_utils\n",
    "        image_with_landmarks = im.copy()\n",
    "        mp_drawing.draw_landmarks(image_with_landmarks, results.pose_landmarks, mp_pose.POSE_CONNECTIONS)\n",
    "        image_with_landmarks = cv2.cvtColor(image_with_landmarks, cv2.COLOR_BGR2RGB)\n",
    "\n",
    "        plt.figure(figsize = (10,10))\n",
    "        plt.imshow(image_with_landmarks)\n",
    "        plt.show()\n",
    "\n",
    "    else:\n",
    "        plt.figure(figsize = (10,10))\n",
    "        plt.imshow(im)\n",
    "        plt.show()"
   ]
  },
  {
   "cell_type": "code",
   "execution_count": null,
   "id": "f0fbf9a0",
   "metadata": {},
   "outputs": [],
   "source": [
    "# test on sample image\n",
    "# show_pose(img)"
   ]
  },
  {
   "cell_type": "code",
   "execution_count": null,
   "id": "63428512",
   "metadata": {},
   "outputs": [],
   "source": []
  },
  {
   "cell_type": "markdown",
   "id": "f329f7b7",
   "metadata": {},
   "source": [
    "## Preprocessing functions"
   ]
  },
  {
   "cell_type": "code",
   "execution_count": null,
   "id": "748882d3",
   "metadata": {},
   "outputs": [],
   "source": [
    "def pre_zero(val, precision):\n",
    "\n",
    "    val = str(val)\n",
    "    if len(val) < precision:\n",
    "        val = str(0)*(precision - len(val)) + val\n",
    "        \n",
    "    return val"
   ]
  },
  {
   "cell_type": "code",
   "execution_count": null,
   "id": "e1a32e6f",
   "metadata": {},
   "outputs": [],
   "source": [
    "def point_inside_bbox(point, bbox):\n",
    "    x, y = point\n",
    "    x1, y1, w, h = bbox\n",
    "    return x1 <= x <= x1 + w and y1 <= y <= y1 + h"
   ]
  },
  {
   "cell_type": "markdown",
   "id": "7d93204d",
   "metadata": {},
   "source": [
    "## Convert input video to frames"
   ]
  },
  {
   "cell_type": "code",
   "execution_count": null,
   "id": "f630a644",
   "metadata": {},
   "outputs": [],
   "source": [
    "# convert video into frames and save frames in a folder\n",
    "def video_to_frames(cap, video_name, precision):\n",
    "    frame_count = 0\n",
    "\n",
    "    while True:\n",
    "        ret, frame = cap.read()\n",
    "\n",
    "        if not ret:\n",
    "            break\n",
    "\n",
    "      # crop frame\n",
    "      # frame = frame[:,:1600]\n",
    "\n",
    "        frame_count += 1\n",
    "        \n",
    "        if frame_count%1000 == 0:\n",
    "            print(frame_count)\n",
    "        \n",
    "        \n",
    "        idx = pre_zero(frame_count, precision)\n",
    "        output_path = f'frames/{video_name}/{video_name}_frame_{idx}.jpg'\n",
    "        cv2.imwrite(output_path, frame)"
   ]
  },
  {
   "cell_type": "code",
   "execution_count": null,
   "id": "f445ffdc",
   "metadata": {},
   "outputs": [],
   "source": [
    "# set precision\n",
    "precision = 6\n",
    "\n",
    "# set path\n",
    "video_path = '../data/videos/sample_video.mp4'\n",
    "cap = cv2.VideoCapture(video_path)\n",
    "\n",
    "# fps, resolution\n",
    "original_fps = int(cap.get(cv2.CAP_PROP_FPS))\n",
    "original_width = int(cap.get(cv2.CAP_PROP_FRAME_WIDTH))\n",
    "original_height = int(cap.get(cv2.CAP_PROP_FRAME_HEIGHT))\n",
    "\n",
    "# Get the total number of frames in the video\n",
    "total_frames = int(cap.get(cv2.CAP_PROP_FRAME_COUNT))"
   ]
  },
  {
   "cell_type": "code",
   "execution_count": null,
   "id": "a67e1f3e",
   "metadata": {},
   "outputs": [],
   "source": [
    "# get video name\n",
    "video_name = video_path.split('.')[-2].split('/')[-1]"
   ]
  },
  {
   "cell_type": "code",
   "execution_count": null,
   "id": "c7f51f11",
   "metadata": {},
   "outputs": [],
   "source": [
    "cap = cv2.VideoCapture(video_path)\n",
    "\n",
    "# check if a folder exists\n",
    "folder_path = f'../data/frames/{video_name}'\n",
    "\n",
    "if os.path.exists(folder_path) and os.path.isdir(folder_path):\n",
    "    print('path exists')\n",
    "else:\n",
    "\n",
    "    os.makedirs(f'frames/{video_name}')\n",
    "    print('folder added')\n",
    "\n",
    "    # add frames\n",
    "    video_to_frames(cap, video_name, precision)\n",
    "    print('frames added')"
   ]
  },
  {
   "cell_type": "code",
   "execution_count": null,
   "id": "6c50bb61",
   "metadata": {},
   "outputs": [],
   "source": []
  },
  {
   "cell_type": "code",
   "execution_count": null,
   "id": "4f900c2c",
   "metadata": {},
   "outputs": [],
   "source": []
  },
  {
   "cell_type": "code",
   "execution_count": null,
   "id": "0abb8172",
   "metadata": {},
   "outputs": [],
   "source": []
  },
  {
   "cell_type": "markdown",
   "id": "d81392d1",
   "metadata": {},
   "source": [
    "## Write to video"
   ]
  },
  {
   "cell_type": "code",
   "execution_count": null,
   "id": "ec8fcf8b",
   "metadata": {},
   "outputs": [],
   "source": [
    "frames_folder = f'../data/pose_frames/'\n",
    "output_video_name = f'output_video_v2.mp4'\n",
    "\n",
    "image_files = [os.path.join(frames_folder, i) for i in os.listdir(frames_folder)]\n",
    "image_files = sorted(image_files)\n",
    "image_files = image_files[1:]\n",
    "\n",
    "sample_img = cv2.imread(image_files[0])\n",
    "frame_size = (sample_img.shape[1], sample_img.shape[0])\n",
    "\n",
    "fourcc = cv2.VideoWriter_fourcc(*'mp4v')\n",
    "out = cv2.VideoWriter(output_video_name, fourcc, 29, frame_size)\n",
    "\n",
    "for image_file in image_files:\n",
    "    frame = cv2.imread(image_file)\n",
    "    out.write(frame)\n",
    "\n",
    "out.release()"
   ]
  },
  {
   "cell_type": "code",
   "execution_count": null,
   "id": "85df08b8",
   "metadata": {},
   "outputs": [],
   "source": []
  },
  {
   "cell_type": "code",
   "execution_count": null,
   "id": "e905413c",
   "metadata": {},
   "outputs": [],
   "source": []
  },
  {
   "cell_type": "code",
   "execution_count": null,
   "id": "8a1c463d",
   "metadata": {},
   "outputs": [],
   "source": []
  }
 ],
 "metadata": {
  "kernelspec": {
   "display_name": "Python 3 (ipykernel)",
   "language": "python",
   "name": "python3"
  },
  "language_info": {
   "codemirror_mode": {
    "name": "ipython",
    "version": 3
   },
   "file_extension": ".py",
   "mimetype": "text/x-python",
   "name": "python",
   "nbconvert_exporter": "python",
   "pygments_lexer": "ipython3",
   "version": "3.9.13"
  }
 },
 "nbformat": 4,
 "nbformat_minor": 5
}
