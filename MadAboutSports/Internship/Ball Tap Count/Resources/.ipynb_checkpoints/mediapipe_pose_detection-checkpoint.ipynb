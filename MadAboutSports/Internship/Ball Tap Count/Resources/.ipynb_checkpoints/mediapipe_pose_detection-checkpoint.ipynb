{
 "cells": [
  {
   "cell_type": "markdown",
   "id": "a054538a",
   "metadata": {},
   "source": [
    "## Imports"
   ]
  },
  {
   "cell_type": "code",
   "execution_count": null,
   "id": "bfa5686c",
   "metadata": {},
   "outputs": [],
   "source": [
    "# imports\n",
    "import os\n",
    "import cv2\n",
    "import mediapipe as mp\n",
    "import matplotlib.pyplot as plt"
   ]
  },
  {
   "cell_type": "markdown",
   "id": "f287a7fe",
   "metadata": {},
   "source": [
    "## Load sample images"
   ]
  },
  {
   "cell_type": "code",
   "execution_count": null,
   "id": "6bd0049c",
   "metadata": {},
   "outputs": [],
   "source": [
    "# Load the images\n",
    "im1 = cv2.imread('../Media/images/tap_ref.png')\n",
    "#im2 = cv2.imread('../data/images/cropped_GX030259_frame_023749.jpg')"
   ]
  },
  {
   "cell_type": "markdown",
   "id": "a46b4e8d",
   "metadata": {},
   "source": [
    "## Load mediapipe model"
   ]
  },
  {
   "cell_type": "code",
   "execution_count": null,
   "id": "9ef8f2d4",
   "metadata": {},
   "outputs": [],
   "source": [
    "# Initialize MediaPipe Pose\n",
    "mp_pose = mp.solutions.pose\n",
    "pose = mp_pose.Pose()"
   ]
  },
  {
   "cell_type": "code",
   "execution_count": null,
   "id": "a95321ac",
   "metadata": {},
   "outputs": [],
   "source": [
    "def show_pose(im):\n",
    "    results = pose.process(im)\n",
    "    if results.pose_landmarks:\n",
    "\n",
    "        mp_drawing = mp.solutions.drawing_utils\n",
    "        image_with_landmarks = im.copy()\n",
    "        mp_drawing.draw_landmarks(image_with_landmarks, results.pose_landmarks, mp_pose.POSE_CONNECTIONS)\n",
    "        image_with_landmarks = cv2.cvtColor(image_with_landmarks, cv2.COLOR_BGR2RGB)\n",
    "\n",
    "        plt.figure(figsize = (10,10))\n",
    "        plt.imshow(image_with_landmarks)\n",
    "        plt.show()\n",
    "\n",
    "    else:\n",
    "        plt.figure(figsize = (10,10))\n",
    "        plt.imshow(im)\n",
    "        plt.show()"
   ]
  },
  {
   "cell_type": "markdown",
   "id": "d215d1ae",
   "metadata": {},
   "source": [
    "## Test on sample images"
   ]
  },
  {
   "cell_type": "code",
   "execution_count": null,
   "id": "08a3a303",
   "metadata": {},
   "outputs": [],
   "source": [
    "show_pose(im1)"
   ]
  },
  {
   "cell_type": "markdown",
   "id": "3787f55c",
   "metadata": {},
   "source": [
    "## Get coordinates of each point"
   ]
  },
  {
   "cell_type": "markdown",
   "id": "b16bfc28",
   "metadata": {},
   "source": [
    "https://developers.google.com/mediapipe/solutions/vision/pose_landmarker"
   ]
  },
  {
   "cell_type": "code",
   "execution_count": null,
   "id": "d42fa244",
   "metadata": {},
   "outputs": [],
   "source": [
    "im = cv2.imread('../data/images/cropped_GX030259_frame_023749.jpg')\n",
    "h, w, c = im.shape\n",
    "landmark_temp = {}\n",
    "\n",
    "left_toe_idx = 31\n",
    "left_ankle_idx = 27\n",
    "right_toe_idx = 32\n",
    "right_ankle_idx = 28\n",
    "left_wrist_idx = 15\n",
    "right_wrist_idx = 16\n",
    "\n",
    "results = pose.process(im)\n",
    "if results.pose_landmarks:\n",
    "    mp_drawing = mp.solutions.drawing_utils\n",
    "    image_with_landmarks = im.copy()\n",
    "    mp_drawing.draw_landmarks(image_with_landmarks, results.pose_landmarks, mp_pose.POSE_CONNECTIONS)\n",
    "\n",
    "    mark = results.pose_landmarks.landmark\n",
    "    landmark_temp['LEFT_FOOT_INDEX'] = mark[left_toe_idx].x*w, mark[left_toe_idx].y*h\n",
    "    landmark_temp['LEFT_ANKLE'] = mark[left_ankle_idx].x*w, mark[left_ankle_idx].y*h\n",
    "    landmark_temp['RIGHT_FOOT_INDEX'] = mark[right_toe_idx].x*w, mark[right_toe_idx].y*h\n",
    "    landmark_temp['RIGHT_ANKLE'] = mark[right_ankle_idx].x*w, mark[right_ankle_idx].y*h\n",
    "    landmark_temp['LEFT_WRIST'] = mark[left_wrist_idx].x*w, mark[left_wrist_idx].y*h\n",
    "    landmark_temp['RIGHT_WRIST'] = mark[right_wrist_idx].x*w, mark[right_wrist_idx].y*h\n"
   ]
  },
  {
   "cell_type": "code",
   "execution_count": null,
   "id": "f90fdc4b",
   "metadata": {},
   "outputs": [],
   "source": [
    "print(landmark_temp)"
   ]
  },
  {
   "cell_type": "code",
   "execution_count": null,
   "id": "02e5cd44",
   "metadata": {},
   "outputs": [],
   "source": []
  }
 ],
 "metadata": {
  "kernelspec": {
   "display_name": "Python 3 (ipykernel)",
   "language": "python",
   "name": "python3"
  },
  "language_info": {
   "codemirror_mode": {
    "name": "ipython",
    "version": 3
   },
   "file_extension": ".py",
   "mimetype": "text/x-python",
   "name": "python",
   "nbconvert_exporter": "python",
   "pygments_lexer": "ipython3",
   "version": "3.9.13"
  }
 },
 "nbformat": 4,
 "nbformat_minor": 5
}
