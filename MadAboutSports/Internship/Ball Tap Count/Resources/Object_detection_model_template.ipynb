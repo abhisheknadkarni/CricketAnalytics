{
 "cells": [
  {
   "cell_type": "markdown",
   "id": "7f597c52",
   "metadata": {},
   "source": [
    "## Imports"
   ]
  },
  {
   "cell_type": "code",
   "execution_count": 1,
   "id": "eeb1f22f",
   "metadata": {},
   "outputs": [],
   "source": [
    "import os\n",
    "import ultralytics\n",
    "import numpy as np\n",
    "import pandas as pd\n",
    "import mediapipe as mp\n",
    "from ultralytics import YOLO\n",
    "from tqdm import tqdm, trange\n",
    "import matplotlib.pyplot as plt"
   ]
  },
  {
   "cell_type": "markdown",
   "id": "c75822d8",
   "metadata": {},
   "source": [
    "## Source"
   ]
  },
  {
   "cell_type": "code",
   "execution_count": 2,
   "id": "3740a1ee",
   "metadata": {},
   "outputs": [],
   "source": [
    "# dataset url\n",
    "# https://universe.roboflow.com/rique01101999-gmail-com/persedatasetrealcones/dataset/1"
   ]
  },
  {
   "cell_type": "markdown",
   "id": "4dc5e33d",
   "metadata": {},
   "source": [
    "## Export"
   ]
  },
  {
   "cell_type": "code",
   "execution_count": 10,
   "id": "cb94bd96",
   "metadata": {},
   "outputs": [],
   "source": [
    "# export dataset to yolov8 format"
   ]
  },
  {
   "cell_type": "markdown",
   "id": "8745b0bd",
   "metadata": {},
   "source": [
    "## Create folders"
   ]
  },
  {
   "cell_type": "code",
   "execution_count": 3,
   "id": "21336e7d",
   "metadata": {},
   "outputs": [],
   "source": [
    "parent_folder = 'cone_roboflow_v3'"
   ]
  },
  {
   "cell_type": "code",
   "execution_count": 4,
   "id": "6ce750cc",
   "metadata": {},
   "outputs": [],
   "source": [
    "# create two main folders for storing data and results\n",
    "os.mkdir(f'../data/{parent_folder}/training_results')\n",
    "os.mkdir(f'../data/{parent_folder}/yolo_data')\n",
    "\n",
    "os.mkdir(f'../data/{parent_folder}/yolo_data/images')\n",
    "os.mkdir(f'../data/{parent_folder}/yolo_data/labels')\n",
    "\n",
    "os.mkdir(f'../data/{parent_folder}/yolo_data/images/train/')\n",
    "os.mkdir(f'../data/{parent_folder}/yolo_data/images/val/')\n",
    "\n",
    "os.mkdir(f'../data/{parent_folder}/yolo_data/labels/train/')\n",
    "os.mkdir(f'../data/{parent_folder}/yolo_data/labels/val/')\n",
    "\n",
    "os.mkdir(f'../data/{parent_folder}/yolo_data/test/')"
   ]
  },
  {
   "cell_type": "markdown",
   "id": "77f379db",
   "metadata": {},
   "source": [
    "## Move files"
   ]
  },
  {
   "cell_type": "code",
   "execution_count": 5,
   "id": "d6923cd9",
   "metadata": {},
   "outputs": [],
   "source": [
    "def move_files(src_dir, dst_dir):\n",
    "\n",
    "    files_to_move = os.listdir(src_dir)\n",
    "\n",
    "    for f in files_to_move:\n",
    "        src_path = os.path.join(src_dir, f)\n",
    "        dst_path = os.path.join(dst_dir, f)\n",
    "        os.rename(src_path, dst_path)"
   ]
  },
  {
   "cell_type": "code",
   "execution_count": 7,
   "id": "2736cb22",
   "metadata": {},
   "outputs": [],
   "source": [
    "# move train images \n",
    "src_dir = f'../data/{parent_folder}/train/images/'\n",
    "dst_dir = f'../data/{parent_folder}/yolo_data/images/train/'\n",
    "move_files(src_dir, dst_dir)\n",
    "\n",
    "# move train labels \n",
    "src_dir = f'../data/{parent_folder}/train/labels/'\n",
    "dst_dir = f'../data/{parent_folder}/yolo_data/labels/train/'\n",
    "move_files(src_dir, dst_dir)\n",
    "\n",
    "# move valid images \n",
    "src_dir = f'../data/{parent_folder}/valid/images/'\n",
    "dst_dir = f'../data/{parent_folder}/yolo_data/images/val/'\n",
    "move_files(src_dir, dst_dir)\n",
    "\n",
    "# move valid labels \n",
    "src_dir = f'../data/{parent_folder}/valid/labels/'\n",
    "dst_dir = f'../data/{parent_folder}/yolo_data/labels/val/'\n",
    "move_files(src_dir, dst_dir)\n",
    "\n",
    "# move test images \n",
    "src_dir = f'../data/{parent_folder}/test/images/'\n",
    "dst_dir = f'../data/{parent_folder}/yolo_data/test'\n",
    "move_files(src_dir, dst_dir)\n",
    "\n",
    "# move test labels \n",
    "src_dir = f'../data/{parent_folder}/test/labels/'\n",
    "dst_dir = f'../data/{parent_folder}/yolo_data/test/'\n",
    "move_files(src_dir, dst_dir)"
   ]
  },
  {
   "cell_type": "markdown",
   "id": "38015e5f",
   "metadata": {},
   "source": [
    "## Training"
   ]
  },
  {
   "cell_type": "code",
   "execution_count": 9,
   "id": "3db1c668",
   "metadata": {},
   "outputs": [
    {
     "name": "stdout",
     "output_type": "stream",
     "text": [
      "New https://pypi.org/project/ultralytics/8.1.24 available 😃 Update with 'pip install -U ultralytics'\n",
      "Ultralytics YOLOv8.0.227 🚀 Python-3.8.8 torch-2.0.1 CPU (Intel Core(TM) i7-9750H 2.60GHz)\n",
      "\u001b[34m\u001b[1mengine/trainer: \u001b[0mtask=detect, mode=train, model=yolov8s.pt, data=/Users/davidgladson/Downloads/kpro/projects/cone_drill/data/cone_roboflow_v3/data.yaml, epochs=10, patience=50, batch=16, imgsz=640, save=True, save_period=-1, cache=False, device=None, workers=8, project=/Users/davidgladson/Downloads/kpro/projects/cone_drill/data/cone_roboflow_v3/training_results, name=cone2, exist_ok=False, pretrained=True, optimizer=auto, verbose=True, seed=0, deterministic=True, single_cls=False, rect=False, cos_lr=False, close_mosaic=10, resume=False, amp=True, fraction=1.0, profile=False, freeze=None, overlap_mask=True, mask_ratio=4, dropout=0.0, val=True, split=val, save_json=False, save_hybrid=False, conf=None, iou=0.7, max_det=300, half=False, dnn=False, plots=True, source=None, vid_stride=1, stream_buffer=False, visualize=False, augment=False, agnostic_nms=False, classes=None, retina_masks=False, show=False, save_frames=False, save_txt=False, save_conf=False, save_crop=False, show_labels=True, show_conf=True, show_boxes=True, line_width=None, format=torchscript, keras=False, optimize=False, int8=False, dynamic=False, simplify=False, opset=None, workspace=4, nms=False, lr0=0.01, lrf=0.01, momentum=0.937, weight_decay=0.0005, warmup_epochs=3.0, warmup_momentum=0.8, warmup_bias_lr=0.1, box=7.5, cls=0.5, dfl=1.5, pose=12.0, kobj=1.0, label_smoothing=0.0, nbs=64, hsv_h=0.015, hsv_s=0.7, hsv_v=0.4, degrees=0.0, translate=0.1, scale=0.5, shear=0.0, perspective=0.0, flipud=0.0, fliplr=0.5, mosaic=1.0, mixup=0.0, copy_paste=0.0, cfg=None, tracker=botsort.yaml, save_dir=/Users/davidgladson/Downloads/kpro/projects/cone_drill/data/cone_roboflow_v3/training_results/cone2\n",
      "Overriding model.yaml nc=80 with nc=1\n",
      "\n",
      "                   from  n    params  module                                       arguments                     \n",
      "  0                  -1  1       928  ultralytics.nn.modules.conv.Conv             [3, 32, 3, 2]                 \n",
      "  1                  -1  1     18560  ultralytics.nn.modules.conv.Conv             [32, 64, 3, 2]                \n",
      "  2                  -1  1     29056  ultralytics.nn.modules.block.C2f             [64, 64, 1, True]             \n",
      "  3                  -1  1     73984  ultralytics.nn.modules.conv.Conv             [64, 128, 3, 2]               \n",
      "  4                  -1  2    197632  ultralytics.nn.modules.block.C2f             [128, 128, 2, True]           \n",
      "  5                  -1  1    295424  ultralytics.nn.modules.conv.Conv             [128, 256, 3, 2]              \n",
      "  6                  -1  2    788480  ultralytics.nn.modules.block.C2f             [256, 256, 2, True]           \n",
      "  7                  -1  1   1180672  ultralytics.nn.modules.conv.Conv             [256, 512, 3, 2]              \n",
      "  8                  -1  1   1838080  ultralytics.nn.modules.block.C2f             [512, 512, 1, True]           \n",
      "  9                  -1  1    656896  ultralytics.nn.modules.block.SPPF            [512, 512, 5]                 \n",
      " 10                  -1  1         0  torch.nn.modules.upsampling.Upsample         [None, 2, 'nearest']          \n",
      " 11             [-1, 6]  1         0  ultralytics.nn.modules.conv.Concat           [1]                           \n",
      " 12                  -1  1    591360  ultralytics.nn.modules.block.C2f             [768, 256, 1]                 \n",
      " 13                  -1  1         0  torch.nn.modules.upsampling.Upsample         [None, 2, 'nearest']          \n",
      " 14             [-1, 4]  1         0  ultralytics.nn.modules.conv.Concat           [1]                           \n",
      " 15                  -1  1    148224  ultralytics.nn.modules.block.C2f             [384, 128, 1]                 \n",
      " 16                  -1  1    147712  ultralytics.nn.modules.conv.Conv             [128, 128, 3, 2]              \n",
      " 17            [-1, 12]  1         0  ultralytics.nn.modules.conv.Concat           [1]                           \n",
      " 18                  -1  1    493056  ultralytics.nn.modules.block.C2f             [384, 256, 1]                 \n",
      " 19                  -1  1    590336  ultralytics.nn.modules.conv.Conv             [256, 256, 3, 2]              \n",
      " 20             [-1, 9]  1         0  ultralytics.nn.modules.conv.Concat           [1]                           \n",
      " 21                  -1  1   1969152  ultralytics.nn.modules.block.C2f             [768, 512, 1]                 \n",
      " 22        [15, 18, 21]  1   2116435  ultralytics.nn.modules.head.Detect           [1, [128, 256, 512]]          \n",
      "Model summary: 225 layers, 11135987 parameters, 11135971 gradients, 28.6 GFLOPs\n",
      "\n",
      "Transferred 349/355 items from pretrained weights\n",
      "\u001b[34m\u001b[1mTensorBoard: \u001b[0mStart with 'tensorboard --logdir /Users/davidgladson/Downloads/kpro/projects/cone_drill/data/cone_roboflow_v3/training_results/cone2', view at http://localhost:6006/\n",
      "Freezing layer 'model.22.dfl.conv.weight'\n",
      "\u001b[34m\u001b[1mtrain: \u001b[0mScanning /Users/davidgladson/Downloads/kpro/projects/cone_drill/data/cone\u001b[0m\n",
      "\u001b[34m\u001b[1mtrain: \u001b[0mWARNING ⚠️ /Users/davidgladson/Downloads/kpro/projects/cone_drill/data/cone_roboflow_v3/yolo_data/images/train/4_z8126b7d060d92d74599e0618_f103ee1115bfb3493_d20170226_m021731_c001_v0001038_t0047_png.rf.f5e0e84ffdb9a31cb28c9ff09842fd8a.jpg: 1 duplicate labels removed\n",
      "\u001b[34m\u001b[1mtrain: \u001b[0mWARNING ⚠️ /Users/davidgladson/Downloads/kpro/projects/cone_drill/data/cone_roboflow_v3/yolo_data/images/train/4_z8126b7d060d92d74599e0618_f103ee1115bfb3990_d20170226_m022155_c001_v0001038_t0047_png.rf.2b7b15250e3273e878afeca6321f8e9c.jpg: 1 duplicate labels removed\n",
      "\u001b[34m\u001b[1mtrain: \u001b[0mWARNING ⚠️ /Users/davidgladson/Downloads/kpro/projects/cone_drill/data/cone_roboflow_v3/yolo_data/images/train/4_z8126b7d060d92d74599e0618_f103ee1115bfb3de2_d20170226_m022524_c001_v0001038_t0047_png.rf.dd5174b0f955693759c882a7f89163fb.jpg: 1 duplicate labels removed\n",
      "\u001b[34m\u001b[1mtrain: \u001b[0mWARNING ⚠️ /Users/davidgladson/Downloads/kpro/projects/cone_drill/data/cone_roboflow_v3/yolo_data/images/train/4_z8126b7d060d92d74599e0618_f103ee1115bfb41ca_d20170226_m022825_c001_v0001038_t0047_png.rf.56220a5efd58167414f544350031b958.jpg: 2 duplicate labels removed\n",
      "\u001b[34m\u001b[1mtrain: \u001b[0mWARNING ⚠️ /Users/davidgladson/Downloads/kpro/projects/cone_drill/data/cone_roboflow_v3/yolo_data/images/train/4_z8126b7d060d92d74599e0618_f103ee1115bfb509b_d20170226_m024101_c001_v0001038_t0047_png.rf.7a3905da4ff059fb0602d2f607bdacd0.jpg: 4 duplicate labels removed\n",
      "\u001b[34m\u001b[1mtrain: \u001b[0mWARNING ⚠️ /Users/davidgladson/Downloads/kpro/projects/cone_drill/data/cone_roboflow_v3/yolo_data/images/train/4_z8126b7d060d92d74599e0618_f103ee1115bfb5341_d20170226_m024311_c001_v0001038_t0047_png.rf.cd6515c59edac1e7bf8111b16c5424f5.jpg: 2 duplicate labels removed\n",
      "\u001b[34m\u001b[1mtrain: \u001b[0mWARNING ⚠️ /Users/davidgladson/Downloads/kpro/projects/cone_drill/data/cone_roboflow_v3/yolo_data/images/train/4_z8126b7d060d92d74599e0618_f103ee1115bfb5bb0_d20170226_m025011_c001_v0001038_t0047_png.rf.d95a873e956aadbeff48fe4b9f98bdf3.jpg: 3 duplicate labels removed\n",
      "\u001b[34m\u001b[1mtrain: \u001b[0mWARNING ⚠️ /Users/davidgladson/Downloads/kpro/projects/cone_drill/data/cone_roboflow_v3/yolo_data/images/train/4_z8126b7d060d92d74599e0618_f103ee1115bfb5ede_d20170226_m025244_c001_v0001038_t0047_png.rf.b27f15fb10dca603795062a79d4d0103.jpg: 2 duplicate labels removed\n",
      "\u001b[34m\u001b[1mtrain: \u001b[0mWARNING ⚠️ /Users/davidgladson/Downloads/kpro/projects/cone_drill/data/cone_roboflow_v3/yolo_data/images/train/4_z8126b7d060d92d74599e0618_f103ee1115bfb6452_d20170226_m025717_c001_v0001038_t0047_png.rf.8e1f9b081550c8d390f343f70edf9462.jpg: 1 duplicate labels removed\n",
      "\u001b[34m\u001b[1mtrain: \u001b[0mWARNING ⚠️ /Users/davidgladson/Downloads/kpro/projects/cone_drill/data/cone_roboflow_v3/yolo_data/images/train/4_z8126b7d060d92d74599e0618_f103ee1115bfb657b_d20170226_m025816_c001_v0001038_t0047_png.rf.24dbf284ead20007d4d24ca6993bb29b.jpg: 2 duplicate labels removed\n",
      "\u001b[34m\u001b[1mtrain: \u001b[0mWARNING ⚠️ /Users/davidgladson/Downloads/kpro/projects/cone_drill/data/cone_roboflow_v3/yolo_data/images/train/4_z8126b7d060d92d74599e0618_f103ee1115bfb6f31_d20170226_m030611_c001_v0001038_t0047_png.rf.38caa7f6597657ab865079b0dee66b84.jpg: 1 duplicate labels removed\n",
      "\u001b[34m\u001b[1mtrain: \u001b[0mWARNING ⚠️ /Users/davidgladson/Downloads/kpro/projects/cone_drill/data/cone_roboflow_v3/yolo_data/images/train/4_z8126b7d060d92d74599e0618_f103ee1115bfb72a9_d20170226_m030906_c001_v0001038_t0047_png.rf.f3c7ad13b067a788868e87c49b7e1b7a.jpg: 1 duplicate labels removed\n",
      "\u001b[34m\u001b[1mtrain: \u001b[0mWARNING ⚠️ /Users/davidgladson/Downloads/kpro/projects/cone_drill/data/cone_roboflow_v3/yolo_data/images/train/4_z8126b7d060d92d74599e0618_f103ee1115bfb74de_d20170226_m031051_c001_v0001038_t0047_png.rf.35720364c7306c958919c949d4718579.jpg: 2 duplicate labels removed\n",
      "\u001b[34m\u001b[1mtrain: \u001b[0mWARNING ⚠️ /Users/davidgladson/Downloads/kpro/projects/cone_drill/data/cone_roboflow_v3/yolo_data/images/train/4_z8126b7d060d92d74599e0618_f103ee1115bfb7e74_d20170226_m031816_c001_v0001038_t0047_png.rf.6a776d85ad85ad34b600b8bc54a9e044.jpg: 2 duplicate labels removed\n",
      "\u001b[34m\u001b[1mtrain: \u001b[0mWARNING ⚠️ /Users/davidgladson/Downloads/kpro/projects/cone_drill/data/cone_roboflow_v3/yolo_data/images/train/4_z8126b7d060d92d74599e0618_f103ee1115bfb829a_d20170226_m032129_c001_v0001038_t0047_png.rf.580f412e890f1bf5779b723974c35ba5.jpg: 2 duplicate labels removed\n",
      "\u001b[34m\u001b[1mtrain: \u001b[0mWARNING ⚠️ /Users/davidgladson/Downloads/kpro/projects/cone_drill/data/cone_roboflow_v3/yolo_data/images/train/4_z8126b7d060d92d74599e0618_f103ee1115bfb8591_d20170226_m032337_c001_v0001038_t0047_png.rf.2fba66b934d5e10edcdd03030ce5515e.jpg: 2 duplicate labels removed\n",
      "\u001b[34m\u001b[1mtrain: \u001b[0mWARNING ⚠️ /Users/davidgladson/Downloads/kpro/projects/cone_drill/data/cone_roboflow_v3/yolo_data/images/train/4_z8126b7d060d92d74599e0618_f103ee1115bfb8612_d20170226_m032404_c001_v0001038_t0047_png.rf.7333146ac3a8aced47e0091a7b5528ed.jpg: 1 duplicate labels removed\n",
      "\u001b[34m\u001b[1mtrain: \u001b[0mWARNING ⚠️ /Users/davidgladson/Downloads/kpro/projects/cone_drill/data/cone_roboflow_v3/yolo_data/images/train/4_z8126b7d060d92d74599e0618_f103ee1115bfb87a4_d20170226_m032510_c001_v0001038_t0047_png.rf.88a5dfd445bae5bf44d921516d52efcf.jpg: 2 duplicate labels removed\n",
      "\u001b[34m\u001b[1mtrain: \u001b[0mWARNING ⚠️ /Users/davidgladson/Downloads/kpro/projects/cone_drill/data/cone_roboflow_v3/yolo_data/images/train/4_z8126b7d060d92d74599e0618_f103ee1115bfb8dc3_d20170226_m032939_c001_v0001038_t0047_png.rf.b43dabaefe9a057f84343723218f1282.jpg: 1 duplicate labels removed\n",
      "\u001b[34m\u001b[1mtrain: \u001b[0mWARNING ⚠️ /Users/davidgladson/Downloads/kpro/projects/cone_drill/data/cone_roboflow_v3/yolo_data/images/train/4_z8126b7d060d92d74599e0618_f103ee1115bfb98c5_d20170226_m033804_c001_v0001038_t0047_png.rf.9b82f40866a3f7c316361a30599fa147.jpg: 1 duplicate labels removed\n",
      "\u001b[34m\u001b[1mtrain: \u001b[0mWARNING ⚠️ /Users/davidgladson/Downloads/kpro/projects/cone_drill/data/cone_roboflow_v3/yolo_data/images/train/4_z8126b7d060d92d74599e0618_f105bec8d6545ebf2_d20170228_m023729_c001_v0001038_t0052_png.rf.be992458518121b8b2139d9b3d3a8619.jpg: 2 duplicate labels removed\n",
      "\u001b[34m\u001b[1mtrain: \u001b[0mWARNING ⚠️ /Users/davidgladson/Downloads/kpro/projects/cone_drill/data/cone_roboflow_v3/yolo_data/images/train/4_z8126b7d060d92d74599e0618_f105bec8d6545f239_d20170228_m024302_c001_v0001038_t0052_png.rf.c3bd33a317a938a6ec91666a6503c73a.jpg: 2 duplicate labels removed\n",
      "\u001b[34m\u001b[1mtrain: \u001b[0mWARNING ⚠️ /Users/davidgladson/Downloads/kpro/projects/cone_drill/data/cone_roboflow_v3/yolo_data/images/train/4_z8126b7d060d92d74599e0618_f105bec8d6545f58d_d20170228_m024540_c001_v0001038_t0052_png.rf.b68879b5f839a2ddb8ea70a0aca809e4.jpg: 1 duplicate labels removed\n",
      "\u001b[34m\u001b[1mtrain: \u001b[0mWARNING ⚠️ /Users/davidgladson/Downloads/kpro/projects/cone_drill/data/cone_roboflow_v3/yolo_data/images/train/4_z8126b7d060d92d74599e0618_f105bec8d6545f6b7_d20170228_m024636_c001_v0001038_t0052_png.rf.01b064cce2e8922a63381e4608ec9ae2.jpg: 2 duplicate labels removed\n",
      "\u001b[34m\u001b[1mtrain: \u001b[0mWARNING ⚠️ /Users/davidgladson/Downloads/kpro/projects/cone_drill/data/cone_roboflow_v3/yolo_data/images/train/4_z8126b7d060d92d74599e0618_f105bec8d6545f937_d20170228_m024819_c001_v0001038_t0052_png.rf.f2b05c2ca70763dfc9f1ab33f9ca06af.jpg: 2 duplicate labels removed\n",
      "\u001b[34m\u001b[1mtrain: \u001b[0mWARNING ⚠️ /Users/davidgladson/Downloads/kpro/projects/cone_drill/data/cone_roboflow_v3/yolo_data/images/train/4_z8126b7d060d92d74599e0618_f105bec8d6545fcd7_d20170228_m025125_c001_v0001038_t0052_png.rf.2f8c42aa5ec97247b76a90666ce85cd5.jpg: 1 duplicate labels removed\n",
      "\u001b[34m\u001b[1mtrain: \u001b[0mWARNING ⚠️ /Users/davidgladson/Downloads/kpro/projects/cone_drill/data/cone_roboflow_v3/yolo_data/images/train/4_z8126b7d060d92d74599e0618_f105bec8d6546093e_d20170228_m030238_c001_v0001038_t0052_png.rf.148f8a9bcfe55677de651bb208b34b21.jpg: 4 duplicate labels removed\n",
      "\u001b[34m\u001b[1mtrain: \u001b[0mWARNING ⚠️ /Users/davidgladson/Downloads/kpro/projects/cone_drill/data/cone_roboflow_v3/yolo_data/images/train/4_z8126b7d060d92d74599e0618_f105bec8d654609f2_d20170228_m030308_c001_v0001038_t0052_png.rf.2a36836d6d28cb5d9e55468fb068bfe9.jpg: 1 duplicate labels removed\n",
      "\u001b[34m\u001b[1mtrain: \u001b[0mWARNING ⚠️ /Users/davidgladson/Downloads/kpro/projects/cone_drill/data/cone_roboflow_v3/yolo_data/images/train/4_z8126b7d060d92d74599e0618_f105bec8d65460c1b_d20170228_m030448_c001_v0001038_t0052_png.rf.516884b264b9da7fdf30d3be00e6bd86.jpg: 1 duplicate labels removed\n",
      "\u001b[34m\u001b[1mtrain: \u001b[0mWARNING ⚠️ /Users/davidgladson/Downloads/kpro/projects/cone_drill/data/cone_roboflow_v3/yolo_data/images/train/4_z8126b7d060d92d74599e0618_f105bec8d65461975_d20170228_m031540_c001_v0001038_t0052_png.rf.8d12b06f69df17d51427123b1cbf4340.jpg: 1 duplicate labels removed\n",
      "\u001b[34m\u001b[1mtrain: \u001b[0mWARNING ⚠️ /Users/davidgladson/Downloads/kpro/projects/cone_drill/data/cone_roboflow_v3/yolo_data/images/train/4_z8126b7d060d92d74599e0618_f105bec8d65461bc2_d20170228_m031756_c001_v0001038_t0052_png.rf.19f0b46510f8124b1d83d22a07bd7207.jpg: 1 duplicate labels removed\n",
      "\u001b[34m\u001b[1mtrain: \u001b[0mWARNING ⚠️ /Users/davidgladson/Downloads/kpro/projects/cone_drill/data/cone_roboflow_v3/yolo_data/images/train/4_z8126b7d060d92d74599e0618_f109cae5016f21fd0_d20170225_m201447_c001_v0001038_t0018_png.rf.0ac6c8ac0149d7553e735909c5ada59c.jpg: 3 duplicate labels removed\n",
      "\u001b[34m\u001b[1mtrain: \u001b[0mWARNING ⚠️ /Users/davidgladson/Downloads/kpro/projects/cone_drill/data/cone_roboflow_v3/yolo_data/images/train/4_z8126b7d060d92d74599e0618_f109cae5016f225f0_d20170225_m202204_c001_v0001038_t0018_png.rf.5dbe93a256bfb474fb53c3d693132072.jpg: 2 duplicate labels removed\n",
      "\u001b[34m\u001b[1mtrain: \u001b[0mWARNING ⚠️ /Users/davidgladson/Downloads/kpro/projects/cone_drill/data/cone_roboflow_v3/yolo_data/images/train/4_z8126b7d060d92d74599e0618_f109cae5016f2275e_d20170225_m202342_c001_v0001038_t0018_png.rf.6bc44668fa776e0a84cb7dd31d298990.jpg: 2 duplicate labels removed\n",
      "\u001b[34m\u001b[1mtrain: \u001b[0mWARNING ⚠️ /Users/davidgladson/Downloads/kpro/projects/cone_drill/data/cone_roboflow_v3/yolo_data/images/train/4_z8126b7d060d92d74599e0618_f109cae5016f22958_d20170225_m202613_c001_v0001038_t0018_png.rf.17f2dfffc46ad95c0266cd2b84b4ce1a.jpg: 2 duplicate labels removed\n",
      "\u001b[34m\u001b[1mtrain: \u001b[0mWARNING ⚠️ /Users/davidgladson/Downloads/kpro/projects/cone_drill/data/cone_roboflow_v3/yolo_data/images/train/4_z8126b7d060d92d74599e0618_f109cae5016f22b49_d20170225_m202825_c001_v0001038_t0018_png.rf.6ce6ab6a3dc168986020da5f06018746.jpg: 1 duplicate labels removed\n",
      "\u001b[34m\u001b[1mtrain: \u001b[0mWARNING ⚠️ /Users/davidgladson/Downloads/kpro/projects/cone_drill/data/cone_roboflow_v3/yolo_data/images/train/4_z8126b7d060d92d74599e0618_f109cae5016f240ad_d20170225_m205340_c001_v0001038_t0018_png.rf.218b4b11911bd11c4a9c4e9740b1a90b.jpg: 2 duplicate labels removed\n",
      "\u001b[34m\u001b[1mtrain: \u001b[0mWARNING ⚠️ /Users/davidgladson/Downloads/kpro/projects/cone_drill/data/cone_roboflow_v3/yolo_data/images/train/4_z8126b7d060d92d74599e0618_f109cae5016f24aff_d20170225_m210508_c001_v0001038_t0018_png.rf.b06a569689afc43f456eb99b808a7741.jpg: 3 duplicate labels removed\n",
      "\u001b[34m\u001b[1mtrain: \u001b[0mWARNING ⚠️ /Users/davidgladson/Downloads/kpro/projects/cone_drill/data/cone_roboflow_v3/yolo_data/images/train/4_z8126b7d060d92d74599e0618_f109cae5016f2501a_d20170225_m211031_c001_v0001038_t0018_png.rf.cf80c7e74bb35e52f50c2b918c577442.jpg: 1 duplicate labels removed\n",
      "\u001b[34m\u001b[1mtrain: \u001b[0mWARNING ⚠️ /Users/davidgladson/Downloads/kpro/projects/cone_drill/data/cone_roboflow_v3/yolo_data/images/train/4_z8126b7d060d92d74599e0618_f109cae5016f25f24_d20170225_m212728_c001_v0001038_t0018_png.rf.d338e8f06c6a7c9c8829f52545274c2a.jpg: 2 duplicate labels removed\n",
      "\u001b[34m\u001b[1mtrain: \u001b[0mWARNING ⚠️ /Users/davidgladson/Downloads/kpro/projects/cone_drill/data/cone_roboflow_v3/yolo_data/images/train/4_z8126b7d060d92d74599e0618_f110e5e48fac42f2c_d20170301_m020751_c001_v0001036_t0016_png.rf.4e3fcb6ac8883541f1a38b22792c8c5a.jpg: 2 duplicate labels removed\n",
      "\u001b[34m\u001b[1mtrain: \u001b[0mWARNING ⚠️ /Users/davidgladson/Downloads/kpro/projects/cone_drill/data/cone_roboflow_v3/yolo_data/images/train/4_z8126b7d060d92d74599e0618_f110e5e48fac43054_d20170301_m021043_c001_v0001036_t0016_png.rf.f7624e5dbc3b65ae0ec72629026c8811.jpg: 2 duplicate labels removed\n",
      "\u001b[34m\u001b[1mtrain: \u001b[0mWARNING ⚠️ /Users/davidgladson/Downloads/kpro/projects/cone_drill/data/cone_roboflow_v3/yolo_data/images/train/4_z8126b7d060d92d74599e0618_f110e5e48fac434e4_d20170301_m022204_c001_v0001036_t0016_png.rf.880d03278c1ec34ef995e076f6673ffd.jpg: 1 duplicate labels removed\n",
      "\u001b[34m\u001b[1mtrain: \u001b[0mWARNING ⚠️ /Users/davidgladson/Downloads/kpro/projects/cone_drill/data/cone_roboflow_v3/yolo_data/images/train/4_z8126b7d060d92d74599e0618_f110e5e48fac4368e_d20170301_m022629_c001_v0001036_t0016_png.rf.eeb2b7201d29985a3264e18e7da82a0b.jpg: 2 duplicate labels removed\n",
      "\u001b[34m\u001b[1mtrain: \u001b[0mWARNING ⚠️ /Users/davidgladson/Downloads/kpro/projects/cone_drill/data/cone_roboflow_v3/yolo_data/images/train/4_z8126b7d060d92d74599e0618_f110e5e48fac43ba1_d20170301_m024646_c001_v0001036_t0016_png.rf.28de408c7054f4ae0606a7b46b1ba3e0.jpg: 1 duplicate labels removed\n",
      "\u001b[34m\u001b[1mtrain: \u001b[0mWARNING ⚠️ /Users/davidgladson/Downloads/kpro/projects/cone_drill/data/cone_roboflow_v3/yolo_data/images/train/4_z8126b7d060d92d74599e0618_f110e5e48fac43d84_d20170301_m025255_c001_v0001036_t0016_png.rf.389d33ba73b1d0653ae9cd1b95db1225.jpg: 1 duplicate labels removed\n",
      "\u001b[34m\u001b[1mtrain: \u001b[0mWARNING ⚠️ /Users/davidgladson/Downloads/kpro/projects/cone_drill/data/cone_roboflow_v3/yolo_data/images/train/4_z8126b7d060d92d74599e0618_f110e5e48fac43e43_d20170301_m025554_c001_v0001036_t0016_png.rf.f9bd11e834dfe3abe324e87201bdc408.jpg: 2 duplicate labels removed\n",
      "\u001b[34m\u001b[1mtrain: \u001b[0mWARNING ⚠️ /Users/davidgladson/Downloads/kpro/projects/cone_drill/data/cone_roboflow_v3/yolo_data/images/train/4_z8126b7d060d92d74599e0618_f110e5e48fac43e55_d20170301_m025612_c001_v0001036_t0016_png.rf.6c468deee7092618fa6a6e2164ac7b0d.jpg: 2 duplicate labels removed\n",
      "\u001b[34m\u001b[1mtrain: \u001b[0mWARNING ⚠️ /Users/davidgladson/Downloads/kpro/projects/cone_drill/data/cone_roboflow_v3/yolo_data/images/train/4_z8126b7d060d92d74599e0618_f110e5e48fac43e95_d20170301_m025708_c001_v0001036_t0016_png.rf.68cb5a648b871ff349f664bb24f37060.jpg: 1 duplicate labels removed\n",
      "\u001b[34m\u001b[1mtrain: \u001b[0mWARNING ⚠️ /Users/davidgladson/Downloads/kpro/projects/cone_drill/data/cone_roboflow_v3/yolo_data/images/train/4_z8126b7d060d92d74599e0618_f110e5e48fac43ea9_d20170301_m025730_c001_v0001036_t0016_png.rf.29b3b990e1cedc691a184c3a3bcc5f5d.jpg: 2 duplicate labels removed\n",
      "\u001b[34m\u001b[1mtrain: \u001b[0mWARNING ⚠️ /Users/davidgladson/Downloads/kpro/projects/cone_drill/data/cone_roboflow_v3/yolo_data/images/train/4_z8126b7d060d92d74599e0618_f110e5e48fac44044_d20170301_m030231_c001_v0001036_t0016_png.rf.4742868f1a29424e4f4ee05e008241ef.jpg: 2 duplicate labels removed\n",
      "\u001b[34m\u001b[1mtrain: \u001b[0mWARNING ⚠️ /Users/davidgladson/Downloads/kpro/projects/cone_drill/data/cone_roboflow_v3/yolo_data/images/train/4_z8126b7d060d92d74599e0618_f110e5e48fac442b2_d20170301_m031006_c001_v0001036_t0016_png.rf.50709f7bc56d2692e198e0abf2a53d83.jpg: 1 duplicate labels removed\n",
      "\u001b[34m\u001b[1mtrain: \u001b[0mWARNING ⚠️ /Users/davidgladson/Downloads/kpro/projects/cone_drill/data/cone_roboflow_v3/yolo_data/images/train/4_z8126b7d060d92d74599e0618_f110e5e48fac44839_d20170301_m032738_c001_v0001036_t0016_png.rf.059a61e9b2b4e490cc55fb932ce3d162.jpg: 1 duplicate labels removed\n",
      "\u001b[34m\u001b[1mtrain: \u001b[0mWARNING ⚠️ /Users/davidgladson/Downloads/kpro/projects/cone_drill/data/cone_roboflow_v3/yolo_data/images/train/4_z8126b7d060d92d74599e0618_f110e5e48fac44a2e_d20170301_m033528_c001_v0001036_t0016_png.rf.9cff64851008dff144167cc53e04dde8.jpg: 2 duplicate labels removed\n",
      "\u001b[34m\u001b[1mtrain: \u001b[0mWARNING ⚠️ /Users/davidgladson/Downloads/kpro/projects/cone_drill/data/cone_roboflow_v3/yolo_data/images/train/4_z8126b7d060d92d74599e0618_f110e5e48fac44b36_d20170301_m033920_c001_v0001036_t0016_png.rf.80f3871e925eaa18fa576b6ef7088187.jpg: 1 duplicate labels removed\n",
      "\u001b[34m\u001b[1mtrain: \u001b[0mWARNING ⚠️ /Users/davidgladson/Downloads/kpro/projects/cone_drill/data/cone_roboflow_v3/yolo_data/images/train/4_z8126b7d060d92d74599e0618_f110e5e48fac44cc3_d20170301_m034425_c001_v0001036_t0016_png.rf.6ffc4e331496e5cc27c664212d75cc65.jpg: 1 duplicate labels removed\n",
      "\u001b[34m\u001b[1mtrain: \u001b[0mNew cache created: /Users/davidgladson/Downloads/kpro/projects/cone_drill/data/cone_roboflow_v3/yolo_data/labels/train.cache\n"
     ]
    },
    {
     "name": "stdout",
     "output_type": "stream",
     "text": [
      "\u001b[34m\u001b[1mval: \u001b[0mScanning /Users/davidgladson/Downloads/kpro/projects/cone_drill/data/cone_r\u001b[0m\n",
      "\u001b[34m\u001b[1mval: \u001b[0mWARNING ⚠️ /Users/davidgladson/Downloads/kpro/projects/cone_drill/data/cone_roboflow_v3/yolo_data/images/val/4_z8126b7d060d92d74599e0618_f103ee1115bfb3457_d20170226_m021720_c001_v0001038_t0047_png.rf.71ec0fdce11d095273c9179330013e2b.jpg: 2 duplicate labels removed\n",
      "\u001b[34m\u001b[1mval: \u001b[0mWARNING ⚠️ /Users/davidgladson/Downloads/kpro/projects/cone_drill/data/cone_roboflow_v3/yolo_data/images/val/4_z8126b7d060d92d74599e0618_f103ee1115bfb3ebb_d20170226_m022605_c001_v0001038_t0047_png.rf.d06700e2ec3cb4c251ee6ab364edf7de.jpg: 4 duplicate labels removed\n",
      "\u001b[34m\u001b[1mval: \u001b[0mWARNING ⚠️ /Users/davidgladson/Downloads/kpro/projects/cone_drill/data/cone_roboflow_v3/yolo_data/images/val/4_z8126b7d060d92d74599e0618_f103ee1115bfb3eed_d20170226_m022615_c001_v0001038_t0047_png.rf.33b08e3bbfdb1da31f31f9bf2e949f04.jpg: 3 duplicate labels removed\n",
      "\u001b[34m\u001b[1mval: \u001b[0mWARNING ⚠️ /Users/davidgladson/Downloads/kpro/projects/cone_drill/data/cone_roboflow_v3/yolo_data/images/val/4_z8126b7d060d92d74599e0618_f103ee1115bfb49a9_d20170226_m023509_c001_v0001038_t0047_png.rf.f178ec110f639f82e6b3a7e416ab8d55.jpg: 1 duplicate labels removed\n",
      "\u001b[34m\u001b[1mval: \u001b[0mWARNING ⚠️ /Users/davidgladson/Downloads/kpro/projects/cone_drill/data/cone_roboflow_v3/yolo_data/images/val/4_z8126b7d060d92d74599e0618_f103ee1115bfb553b_d20170226_m024447_c001_v0001038_t0047_png.rf.a87c496fa0438274f0d5dbcc246544d6.jpg: 1 duplicate labels removed\n",
      "\u001b[34m\u001b[1mval: \u001b[0mWARNING ⚠️ /Users/davidgladson/Downloads/kpro/projects/cone_drill/data/cone_roboflow_v3/yolo_data/images/val/4_z8126b7d060d92d74599e0618_f103ee1115bfb64e9_d20170226_m025747_c001_v0001038_t0047_png.rf.3fc1c50a5abb6947811a5f96e2e8f050.jpg: 2 duplicate labels removed\n",
      "\u001b[34m\u001b[1mval: \u001b[0mWARNING ⚠️ /Users/davidgladson/Downloads/kpro/projects/cone_drill/data/cone_roboflow_v3/yolo_data/images/val/4_z8126b7d060d92d74599e0618_f103ee1115bfb6a94_d20170226_m030224_c001_v0001038_t0047_png.rf.1c476500d7e9b5eae4628f2558c42313.jpg: 2 duplicate labels removed\n",
      "\u001b[34m\u001b[1mval: \u001b[0mWARNING ⚠️ /Users/davidgladson/Downloads/kpro/projects/cone_drill/data/cone_roboflow_v3/yolo_data/images/val/4_z8126b7d060d92d74599e0618_f103ee1115bfb8ad2_d20170226_m032729_c001_v0001038_t0047_png.rf.c722427169b8b05daf9d99b5bd85079c.jpg: 1 duplicate labels removed\n",
      "\u001b[34m\u001b[1mval: \u001b[0mWARNING ⚠️ /Users/davidgladson/Downloads/kpro/projects/cone_drill/data/cone_roboflow_v3/yolo_data/images/val/4_z8126b7d060d92d74599e0618_f105bec8d6545eb78_d20170228_m023701_c001_v0001038_t0052_png.rf.97d1fc46e6abe3873a2c0e93becb64f0.jpg: 1 duplicate labels removed\n",
      "\u001b[34m\u001b[1mval: \u001b[0mWARNING ⚠️ /Users/davidgladson/Downloads/kpro/projects/cone_drill/data/cone_roboflow_v3/yolo_data/images/val/4_z8126b7d060d92d74599e0618_f105bec8d6545f74a_d20170228_m024659_c001_v0001038_t0052_png.rf.1f902d43b2cf8a083d0c598ec5845b52.jpg: 1 duplicate labels removed\n",
      "\u001b[34m\u001b[1mval: \u001b[0mWARNING ⚠️ /Users/davidgladson/Downloads/kpro/projects/cone_drill/data/cone_roboflow_v3/yolo_data/images/val/4_z8126b7d060d92d74599e0618_f105bec8d65460c75_d20170228_m030506_c001_v0001038_t0052_png.rf.bb84d612e20ad3315173762c54a405ae.jpg: 2 duplicate labels removed\n",
      "\u001b[34m\u001b[1mval: \u001b[0mWARNING ⚠️ /Users/davidgladson/Downloads/kpro/projects/cone_drill/data/cone_roboflow_v3/yolo_data/images/val/4_z8126b7d060d92d74599e0618_f105bec8d65461b60_d20170228_m031732_c001_v0001038_t0052_png.rf.7daa98dc2ec5740867581f4a4f6af700.jpg: 2 duplicate labels removed\n",
      "\u001b[34m\u001b[1mval: \u001b[0mWARNING ⚠️ /Users/davidgladson/Downloads/kpro/projects/cone_drill/data/cone_roboflow_v3/yolo_data/images/val/4_z8126b7d060d92d74599e0618_f105bec8d654623bd_d20170228_m032421_c001_v0001038_t0052_png.rf.48bcc69d8b78b05494e8d4a3ecc14ca7.jpg: 1 duplicate labels removed\n",
      "\u001b[34m\u001b[1mval: \u001b[0mWARNING ⚠️ /Users/davidgladson/Downloads/kpro/projects/cone_drill/data/cone_roboflow_v3/yolo_data/images/val/4_z8126b7d060d92d74599e0618_f109cae5016f22c00_d20170225_m202920_c001_v0001038_t0018_png.rf.7187f212023d409ae504fe8a0b2c2cfb.jpg: 2 duplicate labels removed\n",
      "\u001b[34m\u001b[1mval: \u001b[0mWARNING ⚠️ /Users/davidgladson/Downloads/kpro/projects/cone_drill/data/cone_roboflow_v3/yolo_data/images/val/4_z8126b7d060d92d74599e0618_f110e5e48fac43430_d20170301_m021957_c001_v0001036_t0016_png.rf.cf6d920e9996b299f000446d58d1f80e.jpg: 4 duplicate labels removed\n",
      "\u001b[34m\u001b[1mval: \u001b[0mWARNING ⚠️ /Users/davidgladson/Downloads/kpro/projects/cone_drill/data/cone_roboflow_v3/yolo_data/images/val/4_z8126b7d060d92d74599e0618_f110e5e48fac435e3_d20170301_m022435_c001_v0001036_t0016_png.rf.8f408738ab86b8bf2778894687035582.jpg: 4 duplicate labels removed\n",
      "\u001b[34m\u001b[1mval: \u001b[0mWARNING ⚠️ /Users/davidgladson/Downloads/kpro/projects/cone_drill/data/cone_roboflow_v3/yolo_data/images/val/4_z8126b7d060d92d74599e0618_f110e5e48fac43ae0_d20170301_m024243_c001_v0001036_t0016_png.rf.aafadd11db79fb1acd181efd19042876.jpg: 1 duplicate labels removed\n",
      "\u001b[34m\u001b[1mval: \u001b[0mWARNING ⚠️ /Users/davidgladson/Downloads/kpro/projects/cone_drill/data/cone_roboflow_v3/yolo_data/images/val/4_z8126b7d060d92d74599e0618_f110e5e48fac43e17_d20170301_m025511_c001_v0001036_t0016_png.rf.897ea7ec75285479974aa4dc73fd34fd.jpg: 2 duplicate labels removed\n",
      "\u001b[34m\u001b[1mval: \u001b[0mWARNING ⚠️ /Users/davidgladson/Downloads/kpro/projects/cone_drill/data/cone_roboflow_v3/yolo_data/images/val/4_z8126b7d060d92d74599e0618_f110e5e48fac43fa9_d20170301_m030045_c001_v0001036_t0016_png.rf.f1f0d841f947f5b19dcfa0e587ac3cd5.jpg: 4 duplicate labels removed\n",
      "\u001b[34m\u001b[1mval: \u001b[0mWARNING ⚠️ /Users/davidgladson/Downloads/kpro/projects/cone_drill/data/cone_roboflow_v3/yolo_data/images/val/4_z8126b7d060d92d74599e0618_f110e5e48fac44341_d20170301_m031145_c001_v0001036_t0016_png.rf.fb8ec4f50b60d94d3e62b3d51bd78835.jpg: 1 duplicate labels removed\n",
      "\u001b[34m\u001b[1mval: \u001b[0mWARNING ⚠️ /Users/davidgladson/Downloads/kpro/projects/cone_drill/data/cone_roboflow_v3/yolo_data/images/val/4_z8126b7d060d92d74599e0618_f110e5e48fac446a0_d20170301_m032035_c001_v0001036_t0016_png.rf.f09827fdebcc6da5f7eef066891d8950.jpg: 1 duplicate labels removed\n",
      "\u001b[34m\u001b[1mval: \u001b[0mWARNING ⚠️ /Users/davidgladson/Downloads/kpro/projects/cone_drill/data/cone_roboflow_v3/yolo_data/images/val/4_z8126b7d060d92d74599e0618_f110e5e48fac44a17_d20170301_m033507_c001_v0001036_t0016_png.rf.61de27a75ede3281bf9d8388db8102e4.jpg: 2 duplicate labels removed\n",
      "\u001b[34m\u001b[1mval: \u001b[0mNew cache created: /Users/davidgladson/Downloads/kpro/projects/cone_drill/data/cone_roboflow_v3/yolo_data/labels/val.cache\n",
      "Plotting labels to /Users/davidgladson/Downloads/kpro/projects/cone_drill/data/cone_roboflow_v3/training_results/cone2/labels.jpg... \n",
      "\u001b[34m\u001b[1moptimizer:\u001b[0m 'optimizer=auto' found, ignoring 'lr0=0.01' and 'momentum=0.937' and determining best 'optimizer', 'lr0' and 'momentum' automatically... \n",
      "\u001b[34m\u001b[1moptimizer:\u001b[0m AdamW(lr=0.002, momentum=0.9) with parameter groups 57 weight(decay=0.0), 64 weight(decay=0.0005), 63 bias(decay=0.0)\n",
      "Image sizes 640 train, 640 val\n",
      "Using 0 dataloader workers\n",
      "Logging results to \u001b[1m/Users/davidgladson/Downloads/kpro/projects/cone_drill/data/cone_roboflow_v3/training_results/cone2\u001b[0m\n",
      "Starting training for 10 epochs...\n",
      "Closing dataloader mosaic\n",
      "\n",
      "      Epoch    GPU_mem   box_loss   cls_loss   dfl_loss  Instances       Size\n",
      "       1/10         0G     0.9858      1.512      1.061          7        640: 1\n",
      "                 Class     Images  Instances      Box(P          R      mAP50  m\n",
      "                   all        312        486      0.812      0.885      0.902      0.617\n",
      "\n",
      "      Epoch    GPU_mem   box_loss   cls_loss   dfl_loss  Instances       Size\n",
      "       2/10         0G      1.005     0.7811      1.068          7        640: 1\n",
      "                 Class     Images  Instances      Box(P          R      mAP50  m\n",
      "                   all        312        486      0.599      0.582      0.551       0.35\n",
      "\n",
      "      Epoch    GPU_mem   box_loss   cls_loss   dfl_loss  Instances       Size\n",
      "       3/10         0G     0.9994     0.6931      1.075          8        640: 1\n",
      "                 Class     Images  Instances      Box(P          R      mAP50  m\n",
      "                   all        312        486       0.84      0.693      0.801      0.552\n",
      "\n",
      "      Epoch    GPU_mem   box_loss   cls_loss   dfl_loss  Instances       Size\n"
     ]
    },
    {
     "name": "stdout",
     "output_type": "stream",
     "text": [
      "       4/10         0G     0.9637      0.636      1.055          9        640: 1\n",
      "                 Class     Images  Instances      Box(P          R      mAP50  m\n",
      "                   all        312        486      0.954      0.916      0.963      0.728\n",
      "\n",
      "      Epoch    GPU_mem   box_loss   cls_loss   dfl_loss  Instances       Size\n",
      "       5/10         0G     0.9093     0.6009      1.022          6        640: 1\n",
      "                 Class     Images  Instances      Box(P          R      mAP50  m\n",
      "                   all        312        486      0.903       0.86      0.941      0.728\n",
      "\n",
      "      Epoch    GPU_mem   box_loss   cls_loss   dfl_loss  Instances       Size\n",
      "       6/10         0G     0.8827     0.5562      1.015          7        640: 1\n",
      "                 Class     Images  Instances      Box(P          R      mAP50  m\n",
      "                   all        312        486      0.965      0.971      0.993       0.77\n",
      "\n",
      "      Epoch    GPU_mem   box_loss   cls_loss   dfl_loss  Instances       Size\n",
      "       7/10         0G     0.8702     0.5277     0.9955          6        640: 1\n",
      "                 Class     Images  Instances      Box(P          R      mAP50  m\n",
      "                   all        312        486      0.985      0.977      0.993      0.795\n",
      "\n",
      "      Epoch    GPU_mem   box_loss   cls_loss   dfl_loss  Instances       Size\n",
      "       8/10         0G     0.8113     0.4754     0.9752          8        640: 1\n",
      "                 Class     Images  Instances      Box(P          R      mAP50  m\n",
      "                   all        312        486      0.974      0.994      0.992      0.821\n",
      "\n",
      "      Epoch    GPU_mem   box_loss   cls_loss   dfl_loss  Instances       Size\n",
      "       9/10         0G     0.7563     0.4363     0.9555         12        640: 1\n",
      "                 Class     Images  Instances      Box(P          R      mAP50  m\n",
      "                   all        312        486      0.988      0.994      0.994      0.834\n",
      "\n",
      "      Epoch    GPU_mem   box_loss   cls_loss   dfl_loss  Instances       Size\n",
      "      10/10         0G     0.7473     0.4146     0.9475          9        640: 1\n",
      "                 Class     Images  Instances      Box(P          R      mAP50  m\n",
      "                   all        312        486      0.993      0.996      0.995      0.854\n",
      "\n",
      "10 epochs completed in 6.261 hours.\n",
      "Optimizer stripped from /Users/davidgladson/Downloads/kpro/projects/cone_drill/data/cone_roboflow_v3/training_results/cone2/weights/last.pt, 22.5MB\n",
      "Optimizer stripped from /Users/davidgladson/Downloads/kpro/projects/cone_drill/data/cone_roboflow_v3/training_results/cone2/weights/best.pt, 22.5MB\n",
      "\n",
      "Validating /Users/davidgladson/Downloads/kpro/projects/cone_drill/data/cone_roboflow_v3/training_results/cone2/weights/best.pt...\n",
      "Ultralytics YOLOv8.0.227 🚀 Python-3.8.8 torch-2.0.1 CPU (Intel Core(TM) i7-9750H 2.60GHz)\n",
      "Model summary (fused): 168 layers, 11125971 parameters, 0 gradients, 28.4 GFLOPs\n",
      "                 Class     Images  Instances      Box(P          R      mAP50  m\n",
      "                   all        312        486      0.993      0.996      0.995      0.854\n",
      "Speed: 3.0ms preprocess, 608.2ms inference, 0.0ms loss, 1.1ms postprocess per image\n",
      "Results saved to \u001b[1m/Users/davidgladson/Downloads/kpro/projects/cone_drill/data/cone_roboflow_v3/training_results/cone2\u001b[0m\n",
      "💡 Learn more at https://docs.ultralytics.com/modes/train\n"
     ]
    }
   ],
   "source": [
    "!yolo task=detect mode=train model=yolov8s.pt \\\n",
    "data=/Users/davidgladson/Downloads/kpro/projects/cone_drill/data/cone_roboflow_v3/data.yaml \\\n",
    "epochs=10 \\\n",
    "project=/Users/davidgladson/Downloads/kpro/projects/cone_drill/data/cone_roboflow_v3/training_results \\\n",
    "name=cone"
   ]
  },
  {
   "cell_type": "code",
   "execution_count": null,
   "id": "fc2a1e51",
   "metadata": {},
   "outputs": [],
   "source": []
  },
  {
   "cell_type": "markdown",
   "id": "17361438",
   "metadata": {},
   "source": [
    "## Convert .pt to .tflite"
   ]
  },
  {
   "cell_type": "code",
   "execution_count": null,
   "id": "9c0db817",
   "metadata": {},
   "outputs": [],
   "source": [
    "!yolo export model=../../../projects/cone_drill/data/cone_roboflow_v3/training_results/cone2/weights/best.pt format=tflite "
   ]
  },
  {
   "cell_type": "code",
   "execution_count": null,
   "id": "e533d05d",
   "metadata": {},
   "outputs": [],
   "source": []
  },
  {
   "cell_type": "markdown",
   "id": "fff69aaf",
   "metadata": {},
   "source": [
    "## Test on a sample image"
   ]
  },
  {
   "cell_type": "code",
   "execution_count": null,
   "id": "36d4b1ec",
   "metadata": {},
   "outputs": [],
   "source": [
    "model = YOLO('../data/cone_roboflow_v3/training_results/cone2/weights/best_saved_model/best_float16.tflite')"
   ]
  },
  {
   "cell_type": "code",
   "execution_count": null,
   "id": "5fc4bc98",
   "metadata": {},
   "outputs": [],
   "source": [
    "img = cv2.imread('cone_drill_sample_2.png')\n",
    "f = cv2.cvtColor(img, cv2.COLOR_BGR2RGB)\n",
    "\n",
    "plt.imshow(f)\n",
    "plt.show()"
   ]
  },
  {
   "cell_type": "code",
   "execution_count": null,
   "id": "1bf0a758",
   "metadata": {},
   "outputs": [],
   "source": [
    "results = model(img, show=False,conf=0.1,save=False)\n",
    "\n",
    "boxes_arr = results[0].boxes.xyxy\n",
    "boxes_conf = results[0].boxes.conf\n",
    "boxes_clas = results[0].boxes.cls\n",
    "boxes_name = results[0].names\n",
    "\n",
    "box_color = {0:'yellow'}\n",
    "conf_threshold = 0.1\n",
    "\n",
    "plt.figure(figsize = (10,10))\n",
    "plt.imshow(f)\n",
    "\n",
    "for i in range(len(boxes_arr)):\n",
    "\n",
    "    arr = boxes_arr[i]\n",
    "    conf = boxes_conf[i]\n",
    "    cls = boxes_clas[i]\n",
    "    \n",
    "    if conf >= conf_threshold:\n",
    "    \n",
    "        r1_x = arr[0]\n",
    "        r1_y = arr[1]\n",
    "        r1_w = abs(arr[0] - arr[2])\n",
    "        r1_h = abs(arr[1] - arr[3])\n",
    "        rec1 = plt.Rectangle((r1_x, r1_y), r1_w, r1_h, edgecolor=box_color[cls.item()], facecolor='none', linewidth = 3)\n",
    "        plt.gca().add_patch(rec1)\n",
    "\n",
    "plt.show()"
   ]
  },
  {
   "cell_type": "code",
   "execution_count": null,
   "id": "dcb46fec",
   "metadata": {},
   "outputs": [],
   "source": []
  },
  {
   "cell_type": "markdown",
   "id": "c364c898",
   "metadata": {},
   "source": [
    "## Pose estimation"
   ]
  },
  {
   "cell_type": "code",
   "execution_count": null,
   "id": "bc5e875c",
   "metadata": {},
   "outputs": [],
   "source": [
    "# Initialize MediaPipe Pose\n",
    "mp_pose = mp.solutions.pose\n",
    "pose = mp_pose.Pose()"
   ]
  },
  {
   "cell_type": "code",
   "execution_count": null,
   "id": "25f5391f",
   "metadata": {},
   "outputs": [],
   "source": [
    "def show_pose(im):\n",
    "    results = pose.process(im)\n",
    "    if results.pose_landmarks:\n",
    "\n",
    "        mp_drawing = mp.solutions.drawing_utils\n",
    "        image_with_landmarks = im.copy()\n",
    "        mp_drawing.draw_landmarks(image_with_landmarks, results.pose_landmarks, mp_pose.POSE_CONNECTIONS)\n",
    "        image_with_landmarks = cv2.cvtColor(image_with_landmarks, cv2.COLOR_BGR2RGB)\n",
    "\n",
    "        plt.figure(figsize = (10,10))\n",
    "        plt.imshow(image_with_landmarks)\n",
    "        plt.show()\n",
    "\n",
    "    else:\n",
    "        plt.figure(figsize = (10,10))\n",
    "        plt.imshow(im)\n",
    "        plt.show()"
   ]
  },
  {
   "cell_type": "code",
   "execution_count": null,
   "id": "f0fbf9a0",
   "metadata": {},
   "outputs": [],
   "source": [
    "# test on sample image\n",
    "# show_pose(img)"
   ]
  },
  {
   "cell_type": "code",
   "execution_count": null,
   "id": "63428512",
   "metadata": {},
   "outputs": [],
   "source": []
  },
  {
   "cell_type": "markdown",
   "id": "f329f7b7",
   "metadata": {},
   "source": [
    "## Preprocessing functions"
   ]
  },
  {
   "cell_type": "code",
   "execution_count": null,
   "id": "748882d3",
   "metadata": {},
   "outputs": [],
   "source": [
    "def pre_zero(val, precision):\n",
    "\n",
    "    val = str(val)\n",
    "    if len(val) < precision:\n",
    "        val = str(0)*(precision - len(val)) + val\n",
    "        \n",
    "    return val"
   ]
  },
  {
   "cell_type": "code",
   "execution_count": null,
   "id": "e1a32e6f",
   "metadata": {},
   "outputs": [],
   "source": [
    "def point_inside_bbox(point, bbox):\n",
    "    x, y = point\n",
    "    x1, y1, w, h = bbox\n",
    "    return x1 <= x <= x1 + w and y1 <= y <= y1 + h"
   ]
  },
  {
   "cell_type": "markdown",
   "id": "7d93204d",
   "metadata": {},
   "source": [
    "## Convert input video to frames"
   ]
  },
  {
   "cell_type": "code",
   "execution_count": null,
   "id": "f630a644",
   "metadata": {},
   "outputs": [],
   "source": [
    "# convert video into frames and save frames in a folder\n",
    "def video_to_frames(cap, video_name, precision):\n",
    "    frame_count = 0\n",
    "\n",
    "    while True:\n",
    "        ret, frame = cap.read()\n",
    "\n",
    "        if not ret:\n",
    "            break\n",
    "\n",
    "      # crop frame\n",
    "      # frame = frame[:,:1600]\n",
    "\n",
    "        frame_count += 1\n",
    "        \n",
    "        if frame_count%1000 == 0:\n",
    "            print(frame_count)\n",
    "        \n",
    "        \n",
    "        idx = pre_zero(frame_count, precision)\n",
    "        output_path = f'frames/{video_name}/{video_name}_frame_{idx}.jpg'\n",
    "        cv2.imwrite(output_path, frame)"
   ]
  },
  {
   "cell_type": "code",
   "execution_count": null,
   "id": "f445ffdc",
   "metadata": {},
   "outputs": [],
   "source": [
    "# set precision\n",
    "precision = 6\n",
    "\n",
    "# set path\n",
    "video_path = '../data/videos/sample_video.mp4'\n",
    "cap = cv2.VideoCapture(video_path)\n",
    "\n",
    "# fps, resolution\n",
    "original_fps = int(cap.get(cv2.CAP_PROP_FPS))\n",
    "original_width = int(cap.get(cv2.CAP_PROP_FRAME_WIDTH))\n",
    "original_height = int(cap.get(cv2.CAP_PROP_FRAME_HEIGHT))\n",
    "\n",
    "# Get the total number of frames in the video\n",
    "total_frames = int(cap.get(cv2.CAP_PROP_FRAME_COUNT))"
   ]
  },
  {
   "cell_type": "code",
   "execution_count": null,
   "id": "a67e1f3e",
   "metadata": {},
   "outputs": [],
   "source": [
    "# get video name\n",
    "video_name = video_path.split('.')[-2].split('/')[-1]"
   ]
  },
  {
   "cell_type": "code",
   "execution_count": null,
   "id": "c7f51f11",
   "metadata": {},
   "outputs": [],
   "source": [
    "cap = cv2.VideoCapture(video_path)\n",
    "\n",
    "# check if a folder exists\n",
    "folder_path = f'../data/frames/{video_name}'\n",
    "\n",
    "if os.path.exists(folder_path) and os.path.isdir(folder_path):\n",
    "    print('path exists')\n",
    "else:\n",
    "\n",
    "    os.makedirs(f'frames/{video_name}')\n",
    "    print('folder added')\n",
    "\n",
    "    # add frames\n",
    "    video_to_frames(cap, video_name, precision)\n",
    "    print('frames added')"
   ]
  },
  {
   "cell_type": "code",
   "execution_count": null,
   "id": "6c50bb61",
   "metadata": {},
   "outputs": [],
   "source": []
  },
  {
   "cell_type": "code",
   "execution_count": null,
   "id": "4f900c2c",
   "metadata": {},
   "outputs": [],
   "source": []
  },
  {
   "cell_type": "code",
   "execution_count": null,
   "id": "0abb8172",
   "metadata": {},
   "outputs": [],
   "source": []
  },
  {
   "cell_type": "markdown",
   "id": "d81392d1",
   "metadata": {},
   "source": [
    "## Write to video"
   ]
  },
  {
   "cell_type": "code",
   "execution_count": null,
   "id": "ec8fcf8b",
   "metadata": {},
   "outputs": [],
   "source": [
    "frames_folder = f'../data/pose_frames/'\n",
    "output_video_name = f'output_video_v2.mp4'\n",
    "\n",
    "image_files = [os.path.join(frames_folder, i) for i in os.listdir(frames_folder)]\n",
    "image_files = sorted(image_files)\n",
    "image_files = image_files[1:]\n",
    "\n",
    "sample_img = cv2.imread(image_files[0])\n",
    "frame_size = (sample_img.shape[1], sample_img.shape[0])\n",
    "\n",
    "fourcc = cv2.VideoWriter_fourcc(*'mp4v')\n",
    "out = cv2.VideoWriter(output_video_name, fourcc, 29, frame_size)\n",
    "\n",
    "for image_file in image_files:\n",
    "    frame = cv2.imread(image_file)\n",
    "    out.write(frame)\n",
    "\n",
    "out.release()"
   ]
  },
  {
   "cell_type": "code",
   "execution_count": null,
   "id": "85df08b8",
   "metadata": {},
   "outputs": [],
   "source": []
  },
  {
   "cell_type": "code",
   "execution_count": null,
   "id": "e905413c",
   "metadata": {},
   "outputs": [],
   "source": []
  },
  {
   "cell_type": "code",
   "execution_count": null,
   "id": "8a1c463d",
   "metadata": {},
   "outputs": [],
   "source": []
  }
 ],
 "metadata": {
  "kernelspec": {
   "display_name": "Python 3",
   "language": "python",
   "name": "python3"
  },
  "language_info": {
   "codemirror_mode": {
    "name": "ipython",
    "version": 3
   },
   "file_extension": ".py",
   "mimetype": "text/x-python",
   "name": "python",
   "nbconvert_exporter": "python",
   "pygments_lexer": "ipython3",
   "version": "3.8.8"
  }
 },
 "nbformat": 4,
 "nbformat_minor": 5
}
