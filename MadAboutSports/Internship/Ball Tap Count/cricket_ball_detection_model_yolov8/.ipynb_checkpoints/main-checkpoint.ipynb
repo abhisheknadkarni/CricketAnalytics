{
 "cells": [
  {
   "cell_type": "code",
   "execution_count": null,
   "id": "edd17e07-b668-46b6-b135-7d6cdf2cf973",
   "metadata": {},
   "outputs": [],
   "source": [
    "from ultralytics import YOLO\n",
    "\n",
    "# Load a model\n",
    "model = YOLO(\"yolov8n.yaml\")  # build a new model from scratch\n",
    "\n",
    "# Use the model\n",
    "results = model.train(data=\"config.yaml\", epochs=3)  # train the model"
   ]
  }
 ],
 "metadata": {
  "kernelspec": {
   "display_name": "Python 3 (ipykernel)",
   "language": "python",
   "name": "python3"
  },
  "language_info": {
   "codemirror_mode": {
    "name": "ipython",
    "version": 3
   },
   "file_extension": ".py",
   "mimetype": "text/x-python",
   "name": "python",
   "nbconvert_exporter": "python",
   "pygments_lexer": "ipython3",
   "version": "3.11.7"
  }
 },
 "nbformat": 4,
 "nbformat_minor": 5
}
