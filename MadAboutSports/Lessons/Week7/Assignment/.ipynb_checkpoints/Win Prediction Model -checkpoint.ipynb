{
 "cells": [
  {
   "cell_type": "markdown",
   "metadata": {},
   "source": [
    "## Imports & Load dataset:"
   ]
  },
  {
   "cell_type": "code",
   "execution_count": 1,
   "metadata": {},
   "outputs": [],
   "source": [
    "import pandas as pd\n",
    "import numpy as np\n",
    "import matplotlib.pyplot as plt\n",
    "\n",
    "import warnings\n",
    "warnings.filterwarnings('ignore')\n",
    "\n",
    "#to display all rows columns \n",
    "pd.set_option('display.max_rows', None)\n",
    "pd.set_option('display.max_columns', None)  \n",
    "pd.set_option('display.expand_frame_repr', False)\n",
    "pd.set_option('max_colwidth', -1)"
   ]
  },
  {
   "cell_type": "code",
   "execution_count": 2,
   "metadata": {},
   "outputs": [],
   "source": [
    "ipl_df = pd.read_csv('ipl_ball_by_ball_data.csv')"
   ]
  },
  {
   "cell_type": "code",
   "execution_count": 3,
   "metadata": {},
   "outputs": [
    {
     "data": {
      "text/html": [
       "<div>\n",
       "<style scoped>\n",
       "    .dataframe tbody tr th:only-of-type {\n",
       "        vertical-align: middle;\n",
       "    }\n",
       "\n",
       "    .dataframe tbody tr th {\n",
       "        vertical-align: top;\n",
       "    }\n",
       "\n",
       "    .dataframe thead th {\n",
       "        text-align: right;\n",
       "    }\n",
       "</style>\n",
       "<table border=\"1\" class=\"dataframe\">\n",
       "  <thead>\n",
       "    <tr style=\"text-align: right;\">\n",
       "      <th></th>\n",
       "      <th>match_id</th>\n",
       "      <th>season</th>\n",
       "      <th>start_date</th>\n",
       "      <th>venue</th>\n",
       "      <th>innings</th>\n",
       "      <th>ball</th>\n",
       "      <th>batting_team</th>\n",
       "      <th>bowling_team</th>\n",
       "      <th>striker</th>\n",
       "      <th>non_striker</th>\n",
       "      <th>bowler</th>\n",
       "      <th>runs_off_bat</th>\n",
       "      <th>extras</th>\n",
       "      <th>wides</th>\n",
       "      <th>noballs</th>\n",
       "      <th>byes</th>\n",
       "      <th>legbyes</th>\n",
       "      <th>penalty</th>\n",
       "      <th>wicket_type</th>\n",
       "      <th>player_dismissed</th>\n",
       "      <th>other_wicket_type</th>\n",
       "      <th>other_player_dismissed</th>\n",
       "    </tr>\n",
       "  </thead>\n",
       "  <tbody>\n",
       "    <tr>\n",
       "      <th>0</th>\n",
       "      <td>335982</td>\n",
       "      <td>2008</td>\n",
       "      <td>2008-04-18</td>\n",
       "      <td>M Chinnaswamy Stadium</td>\n",
       "      <td>1</td>\n",
       "      <td>0.1</td>\n",
       "      <td>Kolkata Knight Riders</td>\n",
       "      <td>Royal Challengers Bangalore</td>\n",
       "      <td>SC Ganguly</td>\n",
       "      <td>BB McCullum</td>\n",
       "      <td>P Kumar</td>\n",
       "      <td>0</td>\n",
       "      <td>1</td>\n",
       "      <td>NaN</td>\n",
       "      <td>NaN</td>\n",
       "      <td>NaN</td>\n",
       "      <td>1.0</td>\n",
       "      <td>NaN</td>\n",
       "      <td>NaN</td>\n",
       "      <td>NaN</td>\n",
       "      <td>NaN</td>\n",
       "      <td>NaN</td>\n",
       "    </tr>\n",
       "    <tr>\n",
       "      <th>1</th>\n",
       "      <td>335982</td>\n",
       "      <td>2008</td>\n",
       "      <td>2008-04-18</td>\n",
       "      <td>M Chinnaswamy Stadium</td>\n",
       "      <td>2</td>\n",
       "      <td>3.1</td>\n",
       "      <td>Royal Challengers Bangalore</td>\n",
       "      <td>Kolkata Knight Riders</td>\n",
       "      <td>W Jaffer</td>\n",
       "      <td>JH Kallis</td>\n",
       "      <td>I Sharma</td>\n",
       "      <td>2</td>\n",
       "      <td>0</td>\n",
       "      <td>NaN</td>\n",
       "      <td>NaN</td>\n",
       "      <td>NaN</td>\n",
       "      <td>NaN</td>\n",
       "      <td>NaN</td>\n",
       "      <td>NaN</td>\n",
       "      <td>NaN</td>\n",
       "      <td>NaN</td>\n",
       "      <td>NaN</td>\n",
       "    </tr>\n",
       "    <tr>\n",
       "      <th>2</th>\n",
       "      <td>335982</td>\n",
       "      <td>2008</td>\n",
       "      <td>2008-04-18</td>\n",
       "      <td>M Chinnaswamy Stadium</td>\n",
       "      <td>2</td>\n",
       "      <td>3.2</td>\n",
       "      <td>Royal Challengers Bangalore</td>\n",
       "      <td>Kolkata Knight Riders</td>\n",
       "      <td>W Jaffer</td>\n",
       "      <td>JH Kallis</td>\n",
       "      <td>I Sharma</td>\n",
       "      <td>1</td>\n",
       "      <td>0</td>\n",
       "      <td>NaN</td>\n",
       "      <td>NaN</td>\n",
       "      <td>NaN</td>\n",
       "      <td>NaN</td>\n",
       "      <td>NaN</td>\n",
       "      <td>NaN</td>\n",
       "      <td>NaN</td>\n",
       "      <td>NaN</td>\n",
       "      <td>NaN</td>\n",
       "    </tr>\n",
       "    <tr>\n",
       "      <th>3</th>\n",
       "      <td>335982</td>\n",
       "      <td>2008</td>\n",
       "      <td>2008-04-18</td>\n",
       "      <td>M Chinnaswamy Stadium</td>\n",
       "      <td>2</td>\n",
       "      <td>3.3</td>\n",
       "      <td>Royal Challengers Bangalore</td>\n",
       "      <td>Kolkata Knight Riders</td>\n",
       "      <td>JH Kallis</td>\n",
       "      <td>W Jaffer</td>\n",
       "      <td>I Sharma</td>\n",
       "      <td>0</td>\n",
       "      <td>0</td>\n",
       "      <td>NaN</td>\n",
       "      <td>NaN</td>\n",
       "      <td>NaN</td>\n",
       "      <td>NaN</td>\n",
       "      <td>NaN</td>\n",
       "      <td>NaN</td>\n",
       "      <td>NaN</td>\n",
       "      <td>NaN</td>\n",
       "      <td>NaN</td>\n",
       "    </tr>\n",
       "    <tr>\n",
       "      <th>4</th>\n",
       "      <td>335982</td>\n",
       "      <td>2008</td>\n",
       "      <td>2008-04-18</td>\n",
       "      <td>M Chinnaswamy Stadium</td>\n",
       "      <td>2</td>\n",
       "      <td>3.4</td>\n",
       "      <td>Royal Challengers Bangalore</td>\n",
       "      <td>Kolkata Knight Riders</td>\n",
       "      <td>JH Kallis</td>\n",
       "      <td>W Jaffer</td>\n",
       "      <td>I Sharma</td>\n",
       "      <td>0</td>\n",
       "      <td>1</td>\n",
       "      <td>NaN</td>\n",
       "      <td>NaN</td>\n",
       "      <td>NaN</td>\n",
       "      <td>1.0</td>\n",
       "      <td>NaN</td>\n",
       "      <td>NaN</td>\n",
       "      <td>NaN</td>\n",
       "      <td>NaN</td>\n",
       "      <td>NaN</td>\n",
       "    </tr>\n",
       "  </tbody>\n",
       "</table>\n",
       "</div>"
      ],
      "text/plain": [
       "   match_id  season  start_date                  venue  innings  ball                 batting_team                 bowling_team     striker  non_striker    bowler  runs_off_bat  extras  wides  noballs  byes  legbyes  penalty wicket_type player_dismissed  other_wicket_type  other_player_dismissed\n",
       "0  335982    2008    2008-04-18  M Chinnaswamy Stadium  1        0.1   Kolkata Knight Riders        Royal Challengers Bangalore  SC Ganguly  BB McCullum  P Kumar   0             1      NaN    NaN      NaN    1.0     NaN       NaN         NaN             NaN                NaN                    \n",
       "1  335982    2008    2008-04-18  M Chinnaswamy Stadium  2        3.1   Royal Challengers Bangalore  Kolkata Knight Riders        W Jaffer    JH Kallis    I Sharma  2             0      NaN    NaN      NaN   NaN      NaN       NaN         NaN             NaN                NaN                    \n",
       "2  335982    2008    2008-04-18  M Chinnaswamy Stadium  2        3.2   Royal Challengers Bangalore  Kolkata Knight Riders        W Jaffer    JH Kallis    I Sharma  1             0      NaN    NaN      NaN   NaN      NaN       NaN         NaN             NaN                NaN                    \n",
       "3  335982    2008    2008-04-18  M Chinnaswamy Stadium  2        3.3   Royal Challengers Bangalore  Kolkata Knight Riders        JH Kallis   W Jaffer     I Sharma  0             0      NaN    NaN      NaN   NaN      NaN       NaN         NaN             NaN                NaN                    \n",
       "4  335982    2008    2008-04-18  M Chinnaswamy Stadium  2        3.4   Royal Challengers Bangalore  Kolkata Knight Riders        JH Kallis   W Jaffer     I Sharma  0             1      NaN    NaN      NaN    1.0     NaN       NaN         NaN             NaN                NaN                    "
      ]
     },
     "execution_count": 3,
     "metadata": {},
     "output_type": "execute_result"
    }
   ],
   "source": [
    "ipl_df.head()"
   ]
  },
  {
   "cell_type": "code",
   "execution_count": 4,
   "metadata": {},
   "outputs": [
    {
     "data": {
      "text/plain": [
       "Index(['match_id', 'season', 'start_date', 'venue', 'innings', 'ball',\n",
       "       'batting_team', 'bowling_team', 'striker', 'non_striker', 'bowler',\n",
       "       'runs_off_bat', 'extras', 'wides', 'noballs', 'byes', 'legbyes',\n",
       "       'penalty', 'wicket_type', 'player_dismissed', 'other_wicket_type',\n",
       "       'other_player_dismissed'],\n",
       "      dtype='object')"
      ]
     },
     "execution_count": 4,
     "metadata": {},
     "output_type": "execute_result"
    }
   ],
   "source": [
    "ipl_df.columns"
   ]
  },
  {
   "cell_type": "code",
   "execution_count": null,
   "metadata": {},
   "outputs": [],
   "source": [
    "ipl_df = ipl_df[(ipl_df.innings == 1) | (ipl_df.innings == 2)]"
   ]
  },
  {
   "cell_type": "markdown",
   "metadata": {},
   "source": [
    "## Additional Colums:"
   ]
  },
  {
   "cell_type": "code",
   "execution_count": 5,
   "metadata": {},
   "outputs": [],
   "source": [
    "ipl_df['total_runs'] = ipl_df.apply(lambda x: x['runs_off_bat'] + x['extras'], axis = 1)"
   ]
  },
  {
   "cell_type": "code",
   "execution_count": 6,
   "metadata": {},
   "outputs": [],
   "source": [
    "ipl_df['isOut'] = ipl_df['player_dismissed'].apply(lambda x: 1 if type(x) == type('str') else 0)"
   ]
  },
  {
   "cell_type": "code",
   "execution_count": 7,
   "metadata": {},
   "outputs": [
    {
     "data": {
      "text/plain": [
       "array(['Kolkata Knight Riders', 'Royal Challengers Bangalore',\n",
       "       'Rajasthan Royals', 'Kings XI Punjab', 'Delhi Daredevils',\n",
       "       'Chennai Super Kings', 'Deccan Chargers', 'Mumbai Indians',\n",
       "       'Kochi Tuskers Kerala', 'Pune Warriors', 'Sunrisers Hyderabad',\n",
       "       'Rising Pune Supergiants', 'Gujarat Lions',\n",
       "       'Rising Pune Supergiant', 'Delhi Capitals', 'Punjab Kings'],\n",
       "      dtype=object)"
      ]
     },
     "execution_count": 7,
     "metadata": {},
     "output_type": "execute_result"
    }
   ],
   "source": [
    "ipl_df.batting_team.unique()"
   ]
  },
  {
   "cell_type": "code",
   "execution_count": 8,
   "metadata": {
    "scrolled": true
   },
   "outputs": [
    {
     "data": {
      "text/plain": [
       "1    405\n",
       "0    362\n",
       "4    95 \n",
       "6    57 \n",
       "2    50 \n",
       "5    3  \n",
       "Name: total_runs, dtype: int64"
      ]
     },
     "execution_count": 8,
     "metadata": {},
     "output_type": "execute_result"
    }
   ],
   "source": [
    "ipl_df[ipl_df.batting_team == 'Punjab Kings'].total_runs.value_counts()"
   ]
  },
  {
   "cell_type": "code",
   "execution_count": 9,
   "metadata": {},
   "outputs": [
    {
     "data": {
      "text/plain": [
       "1    2172\n",
       "0    1605\n",
       "4    623 \n",
       "2    330 \n",
       "6    207 \n",
       "3    13  \n",
       "5    6   \n",
       "7    1   \n",
       "Name: total_runs, dtype: int64"
      ]
     },
     "execution_count": 9,
     "metadata": {},
     "output_type": "execute_result"
    }
   ],
   "source": [
    "ipl_df[ipl_df.batting_team == 'Delhi Capitals'].total_runs.value_counts()"
   ]
  },
  {
   "cell_type": "markdown",
   "metadata": {},
   "source": [
    "## Choose Teams:"
   ]
  },
  {
   "cell_type": "code",
   "execution_count": 10,
   "metadata": {},
   "outputs": [],
   "source": [
    "# t1 - bat first, t2 - bat second\n",
    "# Ex: MI vs RCB, (match_id: 1254058) \n",
    "\n",
    "t1 = 'Mumbai Indians'\n",
    "t2 = 'Royal Challengers Bangalore'"
   ]
  },
  {
   "cell_type": "markdown",
   "metadata": {},
   "source": [
    "## Choose a Match b/w these Teams:"
   ]
  },
  {
   "cell_type": "code",
   "execution_count": 11,
   "metadata": {},
   "outputs": [
    {
     "data": {
      "text/plain": [
       "array([ 335985,  392208,  392218,  419119,  419157,  419162,  548360,\n",
       "        598033,  729287,  733983,  829737, 1136574, 1175362, 1254058],\n",
       "      dtype=int64)"
      ]
     },
     "execution_count": 11,
     "metadata": {},
     "output_type": "execute_result"
    }
   ],
   "source": [
    "ipl_df[(ipl_df.batting_team == t1) & (ipl_df.bowling_team == t2) & (ipl_df.innings == 1)].match_id.unique()"
   ]
  },
  {
   "cell_type": "code",
   "execution_count": 12,
   "metadata": {},
   "outputs": [],
   "source": [
    "required_match_id = 1254058"
   ]
  },
  {
   "cell_type": "code",
   "execution_count": 13,
   "metadata": {},
   "outputs": [
    {
     "data": {
      "text/html": [
       "<div>\n",
       "<style scoped>\n",
       "    .dataframe tbody tr th:only-of-type {\n",
       "        vertical-align: middle;\n",
       "    }\n",
       "\n",
       "    .dataframe tbody tr th {\n",
       "        vertical-align: top;\n",
       "    }\n",
       "\n",
       "    .dataframe thead th {\n",
       "        text-align: right;\n",
       "    }\n",
       "</style>\n",
       "<table border=\"1\" class=\"dataframe\">\n",
       "  <thead>\n",
       "    <tr style=\"text-align: right;\">\n",
       "      <th></th>\n",
       "      <th>match_id</th>\n",
       "      <th>season</th>\n",
       "      <th>start_date</th>\n",
       "      <th>venue</th>\n",
       "      <th>innings</th>\n",
       "      <th>ball</th>\n",
       "      <th>batting_team</th>\n",
       "      <th>bowling_team</th>\n",
       "      <th>striker</th>\n",
       "      <th>non_striker</th>\n",
       "      <th>bowler</th>\n",
       "      <th>runs_off_bat</th>\n",
       "      <th>extras</th>\n",
       "      <th>wides</th>\n",
       "      <th>noballs</th>\n",
       "      <th>byes</th>\n",
       "      <th>legbyes</th>\n",
       "      <th>penalty</th>\n",
       "      <th>wicket_type</th>\n",
       "      <th>player_dismissed</th>\n",
       "      <th>other_wicket_type</th>\n",
       "      <th>other_player_dismissed</th>\n",
       "      <th>total_runs</th>\n",
       "      <th>isOut</th>\n",
       "    </tr>\n",
       "  </thead>\n",
       "  <tbody>\n",
       "    <tr>\n",
       "      <th>193616</th>\n",
       "      <td>1254058</td>\n",
       "      <td>2021</td>\n",
       "      <td>2021-04-09</td>\n",
       "      <td>MA Chidambaram Stadium, Chepauk, Chennai</td>\n",
       "      <td>2</td>\n",
       "      <td>6.4</td>\n",
       "      <td>Royal Challengers Bangalore</td>\n",
       "      <td>Mumbai Indians</td>\n",
       "      <td>V Kohli</td>\n",
       "      <td>GJ Maxwell</td>\n",
       "      <td>KH Pandya</td>\n",
       "      <td>0</td>\n",
       "      <td>0</td>\n",
       "      <td>NaN</td>\n",
       "      <td>NaN</td>\n",
       "      <td>NaN</td>\n",
       "      <td>NaN</td>\n",
       "      <td>NaN</td>\n",
       "      <td>NaN</td>\n",
       "      <td>NaN</td>\n",
       "      <td>NaN</td>\n",
       "      <td>NaN</td>\n",
       "      <td>0</td>\n",
       "      <td>0</td>\n",
       "    </tr>\n",
       "  </tbody>\n",
       "</table>\n",
       "</div>"
      ],
      "text/plain": [
       "        match_id  season  start_date                                     venue  innings  ball                 batting_team    bowling_team  striker non_striker     bowler  runs_off_bat  extras  wides  noballs  byes  legbyes  penalty wicket_type player_dismissed  other_wicket_type  other_player_dismissed  total_runs  isOut\n",
       "193616  1254058   2021    2021-04-09  MA Chidambaram Stadium, Chepauk, Chennai  2        6.4   Royal Challengers Bangalore  Mumbai Indians  V Kohli  GJ Maxwell  KH Pandya  0             0      NaN    NaN      NaN   NaN      NaN       NaN         NaN             NaN                NaN                      0           0    "
      ]
     },
     "execution_count": 13,
     "metadata": {},
     "output_type": "execute_result"
    }
   ],
   "source": [
    "ipl_df[ipl_df.match_id == required_match_id].head(1)"
   ]
  },
  {
   "cell_type": "code",
   "execution_count": 14,
   "metadata": {},
   "outputs": [],
   "source": [
    "t1_outs = ipl_df[ipl_df.batting_team == t1].isOut.sum()\n",
    "t2_outs = ipl_df[ipl_df.batting_team == t2].isOut.sum()"
   ]
  },
  {
   "cell_type": "code",
   "execution_count": 15,
   "metadata": {},
   "outputs": [],
   "source": [
    "t1_outcomes = ipl_df[ipl_df.batting_team == t1].total_runs.value_counts()\n",
    "t2_outcomes = ipl_df[ipl_df.batting_team == t2].total_runs.value_counts()"
   ]
  },
  {
   "cell_type": "code",
   "execution_count": 16,
   "metadata": {},
   "outputs": [],
   "source": [
    "outcomes = [0, 1, 2, 3, 4, 6, 'w']"
   ]
  },
  {
   "cell_type": "code",
   "execution_count": 17,
   "metadata": {},
   "outputs": [],
   "source": [
    "t1_outcomes_count = []\n",
    "for outcome in outcomes:\n",
    "    try:\n",
    "        if outcome != 'w':\n",
    "            t1_outcomes_count.append(t1_outcomes[outcome])\n",
    "        else:\n",
    "            t1_outcomes_count.append(t1_outs)\n",
    "    except:\n",
    "        t1_outcomes_count.append(0)\n",
    "        \n",
    "\n",
    "t2_outcomes_count = []\n",
    "for outcome in outcomes:\n",
    "    try:\n",
    "        if outcome != 'w':\n",
    "            t2_outcomes_count.append(t2_outcomes[outcome])\n",
    "        else:\n",
    "            t2_outcomes_count.append(t2_outs)\n",
    "    except:\n",
    "        t2_outcomes_count.append(0)"
   ]
  },
  {
   "cell_type": "code",
   "execution_count": 18,
   "metadata": {},
   "outputs": [
    {
     "data": {
      "text/plain": [
       "[9056, 10362, 1577, 92, 2935, 1272, 1242]"
      ]
     },
     "execution_count": 18,
     "metadata": {},
     "output_type": "execute_result"
    }
   ],
   "source": [
    "t1_outcomes_count"
   ]
  },
  {
   "cell_type": "code",
   "execution_count": 19,
   "metadata": {},
   "outputs": [
    {
     "data": {
      "text/plain": [
       "[8279, 9707, 1571, 73, 2662, 1230, 1158]"
      ]
     },
     "execution_count": 19,
     "metadata": {},
     "output_type": "execute_result"
    }
   ],
   "source": [
    "t2_outcomes_count"
   ]
  },
  {
   "cell_type": "code",
   "execution_count": 20,
   "metadata": {},
   "outputs": [],
   "source": [
    "t1_pb = [i/sum(t1_outcomes_count) for i in t1_outcomes_count]\n",
    "t2_pb = [i/sum(t2_outcomes_count) for i in t2_outcomes_count]"
   ]
  },
  {
   "cell_type": "code",
   "execution_count": 21,
   "metadata": {},
   "outputs": [
    {
     "data": {
      "text/plain": [
       "([0.34127223394633704,\n",
       "  0.39048839312631894,\n",
       "  0.059428700633102204,\n",
       "  0.0034669882423876996,\n",
       "  0.11060446186312933,\n",
       "  0.047934880916490806,\n",
       "  0.04680434127223394],\n",
       " [0.3354538087520259,\n",
       "  0.3933144246353322,\n",
       "  0.0636547811993517,\n",
       "  0.0029578606158833062,\n",
       "  0.10786061588330632,\n",
       "  0.04983792544570503,\n",
       "  0.04692058346839546])"
      ]
     },
     "execution_count": 21,
     "metadata": {},
     "output_type": "execute_result"
    }
   ],
   "source": [
    "t1_pb, t2_pb"
   ]
  },
  {
   "cell_type": "code",
   "execution_count": 22,
   "metadata": {},
   "outputs": [],
   "source": [
    "t1_cum_pb = list(np.cumsum(t1_pb))\n",
    "t2_cum_pb = list(np.cumsum(t2_pb))"
   ]
  },
  {
   "cell_type": "code",
   "execution_count": 23,
   "metadata": {},
   "outputs": [],
   "source": [
    "# first innings\n",
    "i1p_0 = t1_cum_pb[0]\n",
    "i1p_1 = t1_cum_pb[1]\n",
    "i1p_2 = t1_cum_pb[2]\n",
    "i1p_3 = t1_cum_pb[3]\n",
    "i1p_4 = t1_cum_pb[4]\n",
    "i1p_6 = t1_cum_pb[5]\n",
    "i1p_w = 1\n",
    "\n",
    "pred_runs = 0\n",
    "pred_wks = 0\n",
    "\n",
    "for i in range(120):\n",
    "    r_value = np.random.random()\n",
    "\n",
    "    if r_value <= i1p_0:\n",
    "        pred_runs += 0\n",
    "    elif r_value <= i1p_1:\n",
    "        pred_runs += 1\n",
    "    elif r_value <= i1p_2:\n",
    "        pred_runs += 2\n",
    "    elif r_value <= i1p_3:\n",
    "        pred_runs += 3\n",
    "    elif r_value <= i1p_4:\n",
    "        pred_runs += 4\n",
    "    elif r_value <= i1p_6:\n",
    "        pred_runs += 6\n",
    "    else:\n",
    "        pred_runs += 0\n",
    "        pred_wks += 1\n",
    "        if pred_wks == 10:\n",
    "            break"
   ]
  },
  {
   "cell_type": "markdown",
   "metadata": {},
   "source": [
    "## Function: 1st Innings runs prediction "
   ]
  },
  {
   "cell_type": "code",
   "execution_count": 24,
   "metadata": {},
   "outputs": [],
   "source": [
    "# first innings\n",
    "def innings_1_runs(curr_overs, curr_score, curr_wickets):\n",
    "    i1p_0 = t1_cum_pb[0]\n",
    "    i1p_1 = t1_cum_pb[1]\n",
    "    i1p_2 = t1_cum_pb[2]\n",
    "    i1p_3 = t1_cum_pb[3]\n",
    "    i1p_4 = t1_cum_pb[4]\n",
    "    i1p_6 = t1_cum_pb[5]\n",
    "    i1p_w = 1\n",
    "\n",
    "    # initialize runs, wickets\n",
    "    pred_runs = curr_score\n",
    "    pred_wks = curr_wickets\n",
    "    \n",
    "    # calculate leftover balls\n",
    "    over_ball = curr_overs\n",
    "    over_number = int(str(over_ball).split('.')[0])\n",
    "    ball_number = int(str(over_ball).split('.')[1])\n",
    "    \n",
    "    if ball_number >= 6:\n",
    "        ball_number = 6\n",
    "    current_balls = over_number*6 + ball_number \n",
    "    leftover_balls = 120 - current_balls\n",
    "\n",
    "    for i in range(leftover_balls):\n",
    "    \n",
    "        r_value = np.random.random()\n",
    "\n",
    "        if r_value <= i1p_0:\n",
    "            pred_runs += 0\n",
    "        elif r_value <= i1p_1:\n",
    "            pred_runs += 1\n",
    "        elif r_value <= i1p_2:\n",
    "            pred_runs += 2\n",
    "        elif r_value <= i1p_3:\n",
    "            pred_runs += 3\n",
    "        elif r_value <= i1p_4:\n",
    "            pred_runs += 4\n",
    "        elif r_value <= i1p_6:\n",
    "            pred_runs += 6\n",
    "        else:\n",
    "            pred_runs += 0\n",
    "            pred_wks += 1\n",
    "            if pred_wks == 10:\n",
    "                break\n",
    "\n",
    "    return pred_runs"
   ]
  },
  {
   "cell_type": "code",
   "execution_count": 25,
   "metadata": {},
   "outputs": [
    {
     "data": {
      "text/plain": [
       "178"
      ]
     },
     "execution_count": 25,
     "metadata": {},
     "output_type": "execute_result"
    }
   ],
   "source": [
    "# innings_1_runs(curr_overs, curr_score, curr_wickets)\n",
    "innings_1_runs(10.0, 100, 0)"
   ]
  },
  {
   "cell_type": "markdown",
   "metadata": {},
   "source": [
    "## Function: 2nd Innings runs prediction "
   ]
  },
  {
   "cell_type": "code",
   "execution_count": 26,
   "metadata": {},
   "outputs": [],
   "source": [
    "# second innings\n",
    "def innings_2_runs(curr_overs, curr_score, curr_wickets, target):\n",
    "    i2p_0 = t2_cum_pb[0]\n",
    "    i2p_1 = t2_cum_pb[1]\n",
    "    i2p_2 = t2_cum_pb[2]\n",
    "    i2p_3 = t2_cum_pb[3]\n",
    "    i2p_4 = t2_cum_pb[4]\n",
    "    i2p_6 = t2_cum_pb[5]\n",
    "    i2p_w = 1\n",
    "\n",
    "    # initialize runs, wickets\n",
    "    pred_runs = curr_score\n",
    "    pred_wks = curr_wickets\n",
    "    \n",
    "    # calculate leftover balls\n",
    "    over_ball = curr_overs\n",
    "    over_number = int(str(over_ball).split('.')[0])\n",
    "    ball_number = int(str(over_ball).split('.')[1])\n",
    "    \n",
    "    if ball_number >= 6:\n",
    "        ball_number = 6\n",
    "    current_balls = over_number*6 + ball_number \n",
    "    leftover_balls = 120 - current_balls\n",
    "\n",
    "    for i in range(leftover_balls):\n",
    "    \n",
    "        r_value = np.random.random()\n",
    "\n",
    "        if r_value <= i2p_0:\n",
    "            pred_runs += 0\n",
    "        elif r_value <= i2p_1:\n",
    "            pred_runs += 1\n",
    "        elif r_value <= i2p_2:\n",
    "            pred_runs += 2\n",
    "        elif r_value <= i2p_3:\n",
    "            pred_runs += 3\n",
    "        elif r_value <= i2p_4:\n",
    "            pred_runs += 4\n",
    "        elif r_value <= i2p_6:\n",
    "            pred_runs += 6\n",
    "        else:\n",
    "            pred_runs += 0\n",
    "            pred_wks += 1\n",
    "            if pred_wks == 10:\n",
    "                break\n",
    "        \n",
    "        if pred_runs > target:\n",
    "            break\n",
    "\n",
    "    return pred_runs"
   ]
  },
  {
   "cell_type": "code",
   "execution_count": 27,
   "metadata": {},
   "outputs": [
    {
     "data": {
      "text/plain": [
       "165"
      ]
     },
     "execution_count": 27,
     "metadata": {},
     "output_type": "execute_result"
    }
   ],
   "source": [
    "# innings_2_runs(curr_overs, curr_score, curr_wickets, target)\n",
    "innings_2_runs(10.0, 100, 0, 167)"
   ]
  },
  {
   "cell_type": "code",
   "execution_count": 28,
   "metadata": {},
   "outputs": [],
   "source": [
    "mdf = ipl_df[ipl_df.match_id == required_match_id]"
   ]
  },
  {
   "cell_type": "code",
   "execution_count": 29,
   "metadata": {},
   "outputs": [],
   "source": [
    "mdf.reset_index(inplace = True, drop = True)"
   ]
  },
  {
   "cell_type": "code",
   "execution_count": 30,
   "metadata": {},
   "outputs": [],
   "source": [
    "df_ing1 = mdf[mdf.innings == 1]\n",
    "df_ing2 = mdf[mdf.innings == 2]"
   ]
  },
  {
   "cell_type": "code",
   "execution_count": 31,
   "metadata": {},
   "outputs": [],
   "source": [
    "df_ing1 = df_ing1.sort_values('ball', ascending = True)\n",
    "df_ing2 = df_ing2.sort_values('ball', ascending = True)"
   ]
  },
  {
   "cell_type": "code",
   "execution_count": 32,
   "metadata": {},
   "outputs": [],
   "source": [
    "df_ing1.reset_index(inplace = True, drop = True)\n",
    "df_ing2.reset_index(inplace = True, drop = True)"
   ]
  },
  {
   "cell_type": "markdown",
   "metadata": {},
   "source": [
    "## Runs prediction: 1st Innings"
   ]
  },
  {
   "cell_type": "code",
   "execution_count": 33,
   "metadata": {},
   "outputs": [],
   "source": [
    "curr_score = 0\n",
    "curr_wickets = 0\n",
    "curr_overs = 0.0\n",
    "\n",
    "ing1_runs_pred = []\n",
    "\n",
    "for i in range(len(df_ing1)):\n",
    "    curr_score += df_ing1.total_runs[i]\n",
    "    curr_overs = df_ing1.ball[i]\n",
    "    curr_wickets += df_ing1.isOut[i]\n",
    "    \n",
    "    prediction = innings_1_runs(curr_overs, curr_score, curr_wickets)\n",
    "#     print('score: ', curr_score, ' overs: ', curr_overs, ' wickets: ', curr_wickets, ' prediction: ', prediction)\n",
    "    ing1_runs_pred.append(prediction)"
   ]
  },
  {
   "cell_type": "code",
   "execution_count": 34,
   "metadata": {},
   "outputs": [],
   "source": [
    "ing1_actual_score = sum(df_ing1.total_runs)"
   ]
  },
  {
   "cell_type": "markdown",
   "metadata": {},
   "source": [
    "## Runs prediction: 2nd Innings"
   ]
  },
  {
   "cell_type": "code",
   "execution_count": 35,
   "metadata": {},
   "outputs": [],
   "source": [
    "curr_score = 0\n",
    "curr_wickets = 0\n",
    "curr_overs = 0.0\n",
    "target = ing1_actual_score\n",
    "\n",
    "ing2_runs_pred = []\n",
    "\n",
    "for i in range(len(df_ing2)):\n",
    "    curr_score += df_ing2.total_runs[i]\n",
    "    curr_overs = df_ing2.ball[i]\n",
    "    curr_wickets += df_ing2.isOut[i]\n",
    "    \n",
    "    prediction = innings_2_runs(curr_overs, curr_score, curr_wickets, target)\n",
    "#     print('target: ', target)\n",
    "#     print('score: ', curr_score, ' overs: ', curr_overs, ' wickets: ', curr_wickets, ' prediction: ', prediction)\n",
    "    ing2_runs_pred.append(prediction)"
   ]
  },
  {
   "cell_type": "markdown",
   "metadata": {},
   "source": [
    "## Runs prediction chart: 1st Innings"
   ]
  },
  {
   "cell_type": "code",
   "execution_count": 48,
   "metadata": {},
   "outputs": [
    {
     "data": {
      "image/png": "[encoded data removed]",
      "text/plain": [
       "<Figure size 1152x432 with 1 Axes>"
      ]
     },
     "metadata": {
      "needs_background": "light"
     },
     "output_type": "display_data"
    }
   ],
   "source": [
    "plt.figure(figsize = (16, 6))\n",
    "plt.scatter([i for i in range(len(ing1_runs_pred))], ing1_runs_pred, alpha = 0.5, label = 'pred', color = 'red')\n",
    "plt.ylim(0, ing1_actual_score + 30)\n",
    "plt.axhline(ing1_actual_score, ls = '--', label = 'actual', color = 'green')\n",
    "plt.title('First Innings Runs - Prediction vs Actual (' + t1 + ': ' + str(ing1_actual_score) +  ')', fontsize = 16)\n",
    "plt.legend()\n",
    "plt.xlabel('Ball No')\n",
    "plt.ylabel('Runs')\n",
    "plt.show()"
   ]
  },
  {
   "cell_type": "markdown",
   "metadata": {},
   "source": [
    "### Error in 1st Innings runs:"
   ]
  },
  {
   "cell_type": "code",
   "execution_count": 37,
   "metadata": {},
   "outputs": [
    {
     "data": {
      "text/plain": [
       "12.306451612903226"
      ]
     },
     "execution_count": 37,
     "metadata": {},
     "output_type": "execute_result"
    }
   ],
   "source": [
    "np.mean([abs(i - ing1_actual_score) for i in ing1_runs_pred])"
   ]
  },
  {
   "cell_type": "code",
   "execution_count": 38,
   "metadata": {},
   "outputs": [],
   "source": [
    "ing2_actual_score = sum(df_ing2.total_runs)"
   ]
  },
  {
   "cell_type": "markdown",
   "metadata": {},
   "source": [
    "## Runs prediction chart: 2nd Innings"
   ]
  },
  {
   "cell_type": "code",
   "execution_count": 49,
   "metadata": {},
   "outputs": [
    {
     "data": {
      "image/png": "[encoded data removed]",
      "text/plain": [
       "<Figure size 1152x432 with 1 Axes>"
      ]
     },
     "metadata": {
      "needs_background": "light"
     },
     "output_type": "display_data"
    }
   ],
   "source": [
    "plt.figure(figsize = (16, 6))\n",
    "plt.scatter([i for i in range(len(ing2_runs_pred))], ing2_runs_pred, alpha = 0.5, label = 'pred', color = 'red')\n",
    "plt.ylim(0, ing2_actual_score + 30)\n",
    "plt.axhline(ing2_actual_score, ls = '--', label = 'actual', color = 'green')\n",
    "plt.title('Second Innings Runs - Prediction vs Actual (' + t2 + ': ' + str(ing2_actual_score) +  ')', fontsize = 16)\n",
    "plt.xlabel('Ball No')\n",
    "plt.ylabel('Runs')\n",
    "plt.legend()\n",
    "plt.show()"
   ]
  },
  {
   "cell_type": "markdown",
   "metadata": {},
   "source": [
    "### Error in 2nd Innings runs:"
   ]
  },
  {
   "cell_type": "code",
   "execution_count": 40,
   "metadata": {},
   "outputs": [
    {
     "data": {
      "text/plain": [
       "11.23015873015873"
      ]
     },
     "execution_count": 40,
     "metadata": {},
     "output_type": "execute_result"
    }
   ],
   "source": [
    "np.mean([abs(i - ing2_actual_score) for i in ing2_runs_pred])"
   ]
  },
  {
   "cell_type": "markdown",
   "metadata": {},
   "source": [
    "## Win predictions: 1st Innings"
   ]
  },
  {
   "cell_type": "code",
   "execution_count": 41,
   "metadata": {},
   "outputs": [],
   "source": [
    "# 1, 2 innings & predict win \n",
    "\n",
    "# for each ball make a prediction: 1st runs, 2nd runs, win/lose/tie\n",
    "\n",
    "# initialize win/tie/lose\n",
    "win_count = 0\n",
    "tie_count = 0\n",
    "lose_count = 0\n",
    "\n",
    "win_count_ls = []\n",
    "tie_count_ls = []\n",
    "lose_count_ls = []\n",
    "\n",
    "ing1_curr_score = 0\n",
    "ing1_curr_overs = 0\n",
    "ing1_curr_wickets = 0\n",
    "\n",
    "# each ball\n",
    "for i in range(len(df_ing1)):\n",
    "    \n",
    "    # 1st innings values\n",
    "    ing1_curr_score += df_ing1.total_runs[i]\n",
    "    ing1_curr_overs = df_ing1.ball[i]\n",
    "    ing1_curr_wickets += df_ing1.isOut[i]\n",
    "    \n",
    "    #2nd innings values\n",
    "    ing2_curr_score = 0\n",
    "    ing2_curr_wickets = 0\n",
    "    ing2_curr_overs = 0.0\n",
    "    \n",
    "    # make a prediction for 100 times & get win/lose/tie count(ex: 28% win)\n",
    "    for j in range(100):\n",
    "        \n",
    "        ing1_prediction = innings_1_runs(ing1_curr_overs, ing1_curr_score, ing1_curr_wickets)\n",
    "        target = ing1_prediction\n",
    "        \n",
    "        ing2_prediction = innings_2_runs(ing2_curr_overs, ing2_curr_score, ing2_curr_wickets, target)\n",
    "        \n",
    "#         print(ing1_prediction, ing2_prediction)\n",
    "        \n",
    "        # prediction w.r.t 2nd team\n",
    "        if ing2_prediction > target:\n",
    "            win_count += 1\n",
    "        elif ing2_prediction == target:\n",
    "            tie_count += 1\n",
    "        else:\n",
    "            lose_count += 1\n",
    "            \n",
    "    win_count_ls.append(win_count)\n",
    "    tie_count_ls.append(tie_count)\n",
    "    lose_count_ls.append(lose_count)\n",
    "    \n",
    "    win_count = 0\n",
    "    tie_count = 0\n",
    "    lose_count = 0"
   ]
  },
  {
   "cell_type": "markdown",
   "metadata": {},
   "source": [
    "## Win predictions: 2nd Innings"
   ]
  },
  {
   "cell_type": "code",
   "execution_count": 42,
   "metadata": {},
   "outputs": [],
   "source": [
    "# each ball\n",
    "#2nd innings values\n",
    "ing2_curr_score = 0\n",
    "ing2_curr_wickets = 0\n",
    "ing2_curr_overs = 0.0\n",
    "\n",
    "for i in range(len(df_ing2)):\n",
    "    \n",
    "    # 1st innings values\n",
    "    target = ing1_actual_score\n",
    "    \n",
    "    #2nd innings values\n",
    "    ing2_curr_score += df_ing2.total_runs[i]\n",
    "    ing2_curr_wickets += df_ing2.isOut[i]\n",
    "    ing2_curr_overs = df_ing2.ball[i]\n",
    "    \n",
    "    # make a prediction for 100 times & get win/lose/tie count(ex: 28% win)\n",
    "    for j in range(100):\n",
    "        ing2_prediction = innings_2_runs(ing2_curr_overs, ing2_curr_score, ing2_curr_wickets, target)\n",
    "        \n",
    "#         print(target, ing2_prediction)\n",
    "        \n",
    "        # prediction w.r.t 2nd team\n",
    "        if ing2_prediction > target:\n",
    "            win_count += 1\n",
    "        elif ing2_prediction == target:\n",
    "            tie_count += 1\n",
    "        else:\n",
    "            lose_count += 1\n",
    "            \n",
    "    win_count_ls.append(win_count)\n",
    "    tie_count_ls.append(tie_count)\n",
    "    lose_count_ls.append(lose_count)\n",
    "    \n",
    "    win_count = 0\n",
    "    tie_count = 0\n",
    "    lose_count = 0"
   ]
  },
  {
   "cell_type": "markdown",
   "metadata": {},
   "source": [
    "## Win Percentage Chart:"
   ]
  },
  {
   "cell_type": "code",
   "execution_count": 43,
   "metadata": {},
   "outputs": [
    {
     "data": {
      "image/png": "[encoded data removed]",
      "text/plain": [
       "<Figure size 1152x432 with 1 Axes>"
      ]
     },
     "metadata": {
      "needs_background": "light"
     },
     "output_type": "display_data"
    }
   ],
   "source": [
    "plt.figure(figsize = (16, 6))\n",
    "\n",
    "x1_values = [i for i in range(len(win_count_ls))]\n",
    "y1_values = win_count_ls\n",
    "\n",
    "x2_values = [i for i in range(len(tie_count_ls))]\n",
    "y2_values = tie_count_ls\n",
    "\n",
    "x3_values = [i for i in range(len(lose_count_ls))]\n",
    "y3_values = lose_count_ls\n",
    "\n",
    "for i in range(10, len(mdf), 20):\n",
    "    if i < len(mdf) - 10:\n",
    "        plt.axvspan(i, i+10, ymin = 0, ymax = 100, alpha = 0.05, color='grey')\n",
    "        \n",
    "plt.axhline(y = 75, ls = '--', alpha = 0.3, c = 'grey')\n",
    "plt.axhline(y = 50, ls = '--', alpha = 1, c = 'grey')\n",
    "plt.axhline(y = 25, ls = '--', alpha = 0.3, c = 'grey')\n",
    "\n",
    "plt.plot(x1_values, y1_values, color = 'orange', label = t2)\n",
    "plt.plot(x2_values, y2_values, color = 'grey', label = 'Tie Value')\n",
    "plt.plot(x3_values, y3_values, color = 'blue', label = t1)\n",
    "\n",
    "plt.ylim(0, 100)\n",
    "plt.yticks([0, 25, 50, 75, 100])\n",
    "\n",
    "\n",
    "# add confidence interval\n",
    "# ci = 3\n",
    "# plt.fill_between(x1_values, np.array(y1_values) - ci, np.array(y1_values) + ci, color = 'orange', alpha = 0.2 )\n",
    "# plt.fill_between(x2_values, np.array(y2_values) - ci, np.array(y2_values) + ci, color = 'grey', alpha = 0.2 )\n",
    "# plt.fill_between(x3_values, np.array(y3_values) - ci, np.array(y3_values) + ci, color = 'blue', alpha = 0.2 )\n",
    "\n",
    "plt.title('Win Percentage Chart: ' + t1 + ' vs ' + t2, fontsize = 16)\n",
    "plt.xlabel('Ball No')\n",
    "plt.ylabel('Win %')\n",
    "plt.legend()\n",
    "plt.show()"
   ]
  },
  {
   "cell_type": "code",
   "execution_count": null,
   "metadata": {},
   "outputs": [],
   "source": []
  }
 ],
 "metadata": {
  "kernelspec": {
   "display_name": "Python 3 (ipykernel)",
   "language": "python",
   "name": "python3"
  },
  "language_info": {
   "codemirror_mode": {
    "name": "ipython",
    "version": 3
   },
   "file_extension": ".py",
   "mimetype": "text/x-python",
   "name": "python",
   "nbconvert_exporter": "python",
   "pygments_lexer": "ipython3",
   "version": "3.9.13"
  }
 },
 "nbformat": 4,
 "nbformat_minor": 2
}
