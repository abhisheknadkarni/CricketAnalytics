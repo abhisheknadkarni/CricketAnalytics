{
 "cells": [
  {
   "cell_type": "code",
   "execution_count": null,
   "id": "bb730830",
   "metadata": {},
   "outputs": [],
   "source": [
    "# This is introduction to Python using Jupyter Notebook in Anaconda Software"
   ]
  },
  {
   "cell_type": "markdown",
   "id": "34bde605",
   "metadata": {},
   "source": [
    "This is a text"
   ]
  },
  {
   "cell_type": "code",
   "execution_count": 32,
   "id": "fb1e6d1e",
   "metadata": {},
   "outputs": [
    {
     "name": "stdout",
     "output_type": "stream",
     "text": [
      "IND vs ENG\n",
      "IND vs NZ\n",
      "IND vs PAK\n",
      "IND vs SL\n",
      "AUS vs ENG\n",
      "AUS vs NZ\n",
      "AUS vs PAK\n",
      "AUS vs SL\n",
      "BAN vs ENG\n",
      "BAN vs NZ\n",
      "BAN vs PAK\n",
      "BAN vs SL\n"
     ]
    }
   ],
   "source": [
    "groupA = ['IND', 'AUS', 'BAN']\n",
    "groupB = ['ENG', 'NZ', 'PAK', 'SL']\n",
    "\n",
    "for teamA in groupA:\n",
    "    for teamB in groupB:\n",
    "        print(teamA,'vs', teamB)"
   ]
  }
 ],
 "metadata": {
  "kernelspec": {
   "display_name": "Python 3 (ipykernel)",
   "language": "python",
   "name": "python3"
  },
  "language_info": {
   "codemirror_mode": {
    "name": "ipython",
    "version": 3
   },
   "file_extension": ".py",
   "mimetype": "text/x-python",
   "name": "python",
   "nbconvert_exporter": "python",
   "pygments_lexer": "ipython3",
   "version": "3.9.13"
  }
 },
 "nbformat": 4,
 "nbformat_minor": 5
}
