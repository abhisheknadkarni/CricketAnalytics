{
 "cells": [
  {
   "cell_type": "code",
   "execution_count": 1,
   "id": "d19eee70",
   "metadata": {},
   "outputs": [],
   "source": [
    "# Is MS Dhoni still good enough to bat\n",
    "# Step 1: As MS Dhoni currently plays in IPL only we will consider IPL T20 data\n",
    "# Step 2: Calculate the runs scored in IPL and compare with other batters\n",
    "# Step 3: Visual representation of how MS Dhoni is placed in the top IPL batters"
   ]
  },
  {
   "cell_type": "code",
   "execution_count": 2,
   "id": "7c81a465",
   "metadata": {},
   "outputs": [],
   "source": [
    "import warnings\n",
    "warnings.filterwarnings('ignore')\n",
    "\n",
    "import pandas as pd\n",
    "import numpy as np\n",
    "\n",
    "import matplotlib.pyplot as plt\n",
    "\n",
    "#to display all rows columns \n",
    "pd.set_option('display.max_rows', None)\n",
    "pd.set_option('display.max_columns', None)  \n",
    "pd.set_option('display.expand_frame_repr', False)\n",
    "pd.set_option('max_colwidth', -1)"
   ]
  },
  {
   "cell_type": "code",
   "execution_count": 3,
   "id": "1951952f",
   "metadata": {},
   "outputs": [],
   "source": [
    "# Import IPL ball by ball data csv file \n",
    "# *** P.S. IPL data avaible till 2021 ***"
   ]
  },
  {
   "cell_type": "code",
   "execution_count": 4,
   "id": "6a308565",
   "metadata": {},
   "outputs": [],
   "source": [
    "dataFrameOG = pd.read_csv('IPL_ball_by_ball_updated.csv')"
   ]
  },
  {
   "cell_type": "code",
   "execution_count": 5,
   "id": "43c5310e",
   "metadata": {},
   "outputs": [
    {
     "data": {
      "text/html": [
       "<div>\n",
       "<style scoped>\n",
       "    .dataframe tbody tr th:only-of-type {\n",
       "        vertical-align: middle;\n",
       "    }\n",
       "\n",
       "    .dataframe tbody tr th {\n",
       "        vertical-align: top;\n",
       "    }\n",
       "\n",
       "    .dataframe thead th {\n",
       "        text-align: right;\n",
       "    }\n",
       "</style>\n",
       "<table border=\"1\" class=\"dataframe\">\n",
       "  <thead>\n",
       "    <tr style=\"text-align: right;\">\n",
       "      <th></th>\n",
       "      <th>match_id</th>\n",
       "      <th>season</th>\n",
       "      <th>start_date</th>\n",
       "      <th>venue</th>\n",
       "      <th>innings</th>\n",
       "      <th>ball</th>\n",
       "      <th>batting_team</th>\n",
       "      <th>bowling_team</th>\n",
       "      <th>striker</th>\n",
       "      <th>non_striker</th>\n",
       "      <th>bowler</th>\n",
       "      <th>runs_off_bat</th>\n",
       "      <th>extras</th>\n",
       "      <th>wides</th>\n",
       "      <th>noballs</th>\n",
       "      <th>byes</th>\n",
       "      <th>legbyes</th>\n",
       "      <th>penalty</th>\n",
       "      <th>wicket_type</th>\n",
       "      <th>player_dismissed</th>\n",
       "      <th>other_wicket_type</th>\n",
       "      <th>other_player_dismissed</th>\n",
       "    </tr>\n",
       "  </thead>\n",
       "  <tbody>\n",
       "    <tr>\n",
       "      <th>0</th>\n",
       "      <td>335982</td>\n",
       "      <td>2007/08</td>\n",
       "      <td>2008-04-18</td>\n",
       "      <td>M Chinnaswamy Stadium</td>\n",
       "      <td>1</td>\n",
       "      <td>0.1</td>\n",
       "      <td>Kolkata Knight Riders</td>\n",
       "      <td>Royal Challengers Bangalore</td>\n",
       "      <td>SC Ganguly</td>\n",
       "      <td>BB McCullum</td>\n",
       "      <td>P Kumar</td>\n",
       "      <td>0</td>\n",
       "      <td>1</td>\n",
       "      <td>NaN</td>\n",
       "      <td>NaN</td>\n",
       "      <td>NaN</td>\n",
       "      <td>1.0</td>\n",
       "      <td>NaN</td>\n",
       "      <td>NaN</td>\n",
       "      <td>NaN</td>\n",
       "      <td>NaN</td>\n",
       "      <td>NaN</td>\n",
       "    </tr>\n",
       "  </tbody>\n",
       "</table>\n",
       "</div>"
      ],
      "text/plain": [
       "   match_id   season  start_date                  venue  innings  ball           batting_team                 bowling_team     striker  non_striker   bowler  runs_off_bat  extras  wides  noballs  byes  legbyes  penalty wicket_type player_dismissed  other_wicket_type  other_player_dismissed\n",
       "0  335982    2007/08  2008-04-18  M Chinnaswamy Stadium  1        0.1   Kolkata Knight Riders  Royal Challengers Bangalore  SC Ganguly  BB McCullum  P Kumar  0             1      NaN    NaN      NaN    1.0     NaN       NaN         NaN             NaN                NaN                    "
      ]
     },
     "execution_count": 5,
     "metadata": {},
     "output_type": "execute_result"
    }
   ],
   "source": [
    "dataFrameOG.head(1)"
   ]
  },
  {
   "cell_type": "code",
   "execution_count": 6,
   "id": "c8c9a299",
   "metadata": {},
   "outputs": [
    {
     "data": {
      "text/plain": [
       "(225954, 22)"
      ]
     },
     "execution_count": 6,
     "metadata": {},
     "output_type": "execute_result"
    }
   ],
   "source": [
    "dataFrameOG.shape"
   ]
  },
  {
   "cell_type": "code",
   "execution_count": 7,
   "id": "3878ca2a",
   "metadata": {},
   "outputs": [],
   "source": [
    "dataFrameOG['start_date'] = pd.to_datetime(dataFrameOG['start_date'])\n",
    "dataFrameOG['year'] = dataFrameOG['start_date'].dt.year"
   ]
  },
  {
   "cell_type": "code",
   "execution_count": 8,
   "id": "8a1fa6f0",
   "metadata": {},
   "outputs": [
    {
     "data": {
      "text/plain": [
       "match_id                  int64         \n",
       "season                    object        \n",
       "start_date                datetime64[ns]\n",
       "venue                     object        \n",
       "innings                   int64         \n",
       "ball                      float64       \n",
       "batting_team              object        \n",
       "bowling_team              object        \n",
       "striker                   object        \n",
       "non_striker               object        \n",
       "bowler                    object        \n",
       "runs_off_bat              int64         \n",
       "extras                    int64         \n",
       "wides                     float64       \n",
       "noballs                   float64       \n",
       "byes                      float64       \n",
       "legbyes                   float64       \n",
       "penalty                   float64       \n",
       "wicket_type               object        \n",
       "player_dismissed          object        \n",
       "other_wicket_type         float64       \n",
       "other_player_dismissed    float64       \n",
       "year                      int64         \n",
       "dtype: object"
      ]
     },
     "execution_count": 8,
     "metadata": {},
     "output_type": "execute_result"
    }
   ],
   "source": [
    "dataFrameOG.dtypes"
   ]
  },
  {
   "cell_type": "code",
   "execution_count": 9,
   "id": "fd73a8e7",
   "metadata": {},
   "outputs": [
    {
     "data": {
      "text/html": [
       "<div>\n",
       "<style scoped>\n",
       "    .dataframe tbody tr th:only-of-type {\n",
       "        vertical-align: middle;\n",
       "    }\n",
       "\n",
       "    .dataframe tbody tr th {\n",
       "        vertical-align: top;\n",
       "    }\n",
       "\n",
       "    .dataframe thead th {\n",
       "        text-align: right;\n",
       "    }\n",
       "</style>\n",
       "<table border=\"1\" class=\"dataframe\">\n",
       "  <thead>\n",
       "    <tr style=\"text-align: right;\">\n",
       "      <th></th>\n",
       "      <th>match_id</th>\n",
       "      <th>season</th>\n",
       "      <th>start_date</th>\n",
       "      <th>venue</th>\n",
       "      <th>innings</th>\n",
       "      <th>ball</th>\n",
       "      <th>batting_team</th>\n",
       "      <th>bowling_team</th>\n",
       "      <th>striker</th>\n",
       "      <th>non_striker</th>\n",
       "      <th>bowler</th>\n",
       "      <th>runs_off_bat</th>\n",
       "      <th>extras</th>\n",
       "      <th>wides</th>\n",
       "      <th>noballs</th>\n",
       "      <th>byes</th>\n",
       "      <th>legbyes</th>\n",
       "      <th>penalty</th>\n",
       "      <th>wicket_type</th>\n",
       "      <th>player_dismissed</th>\n",
       "      <th>other_wicket_type</th>\n",
       "      <th>other_player_dismissed</th>\n",
       "      <th>year</th>\n",
       "    </tr>\n",
       "  </thead>\n",
       "  <tbody>\n",
       "    <tr>\n",
       "      <th>0</th>\n",
       "      <td>335982</td>\n",
       "      <td>2007/08</td>\n",
       "      <td>2008-04-18</td>\n",
       "      <td>M Chinnaswamy Stadium</td>\n",
       "      <td>1</td>\n",
       "      <td>0.1</td>\n",
       "      <td>Kolkata Knight Riders</td>\n",
       "      <td>Royal Challengers Bangalore</td>\n",
       "      <td>SC Ganguly</td>\n",
       "      <td>BB McCullum</td>\n",
       "      <td>P Kumar</td>\n",
       "      <td>0</td>\n",
       "      <td>1</td>\n",
       "      <td>NaN</td>\n",
       "      <td>NaN</td>\n",
       "      <td>NaN</td>\n",
       "      <td>1.0</td>\n",
       "      <td>NaN</td>\n",
       "      <td>NaN</td>\n",
       "      <td>NaN</td>\n",
       "      <td>NaN</td>\n",
       "      <td>NaN</td>\n",
       "      <td>2008</td>\n",
       "    </tr>\n",
       "    <tr>\n",
       "      <th>1</th>\n",
       "      <td>335982</td>\n",
       "      <td>2007/08</td>\n",
       "      <td>2008-04-18</td>\n",
       "      <td>M Chinnaswamy Stadium</td>\n",
       "      <td>1</td>\n",
       "      <td>0.2</td>\n",
       "      <td>Kolkata Knight Riders</td>\n",
       "      <td>Royal Challengers Bangalore</td>\n",
       "      <td>BB McCullum</td>\n",
       "      <td>SC Ganguly</td>\n",
       "      <td>P Kumar</td>\n",
       "      <td>0</td>\n",
       "      <td>0</td>\n",
       "      <td>NaN</td>\n",
       "      <td>NaN</td>\n",
       "      <td>NaN</td>\n",
       "      <td>NaN</td>\n",
       "      <td>NaN</td>\n",
       "      <td>NaN</td>\n",
       "      <td>NaN</td>\n",
       "      <td>NaN</td>\n",
       "      <td>NaN</td>\n",
       "      <td>2008</td>\n",
       "    </tr>\n",
       "    <tr>\n",
       "      <th>2</th>\n",
       "      <td>335982</td>\n",
       "      <td>2007/08</td>\n",
       "      <td>2008-04-18</td>\n",
       "      <td>M Chinnaswamy Stadium</td>\n",
       "      <td>1</td>\n",
       "      <td>0.3</td>\n",
       "      <td>Kolkata Knight Riders</td>\n",
       "      <td>Royal Challengers Bangalore</td>\n",
       "      <td>BB McCullum</td>\n",
       "      <td>SC Ganguly</td>\n",
       "      <td>P Kumar</td>\n",
       "      <td>0</td>\n",
       "      <td>1</td>\n",
       "      <td>1.0</td>\n",
       "      <td>NaN</td>\n",
       "      <td>NaN</td>\n",
       "      <td>NaN</td>\n",
       "      <td>NaN</td>\n",
       "      <td>NaN</td>\n",
       "      <td>NaN</td>\n",
       "      <td>NaN</td>\n",
       "      <td>NaN</td>\n",
       "      <td>2008</td>\n",
       "    </tr>\n",
       "    <tr>\n",
       "      <th>3</th>\n",
       "      <td>335982</td>\n",
       "      <td>2007/08</td>\n",
       "      <td>2008-04-18</td>\n",
       "      <td>M Chinnaswamy Stadium</td>\n",
       "      <td>1</td>\n",
       "      <td>0.4</td>\n",
       "      <td>Kolkata Knight Riders</td>\n",
       "      <td>Royal Challengers Bangalore</td>\n",
       "      <td>BB McCullum</td>\n",
       "      <td>SC Ganguly</td>\n",
       "      <td>P Kumar</td>\n",
       "      <td>0</td>\n",
       "      <td>0</td>\n",
       "      <td>NaN</td>\n",
       "      <td>NaN</td>\n",
       "      <td>NaN</td>\n",
       "      <td>NaN</td>\n",
       "      <td>NaN</td>\n",
       "      <td>NaN</td>\n",
       "      <td>NaN</td>\n",
       "      <td>NaN</td>\n",
       "      <td>NaN</td>\n",
       "      <td>2008</td>\n",
       "    </tr>\n",
       "    <tr>\n",
       "      <th>4</th>\n",
       "      <td>335982</td>\n",
       "      <td>2007/08</td>\n",
       "      <td>2008-04-18</td>\n",
       "      <td>M Chinnaswamy Stadium</td>\n",
       "      <td>1</td>\n",
       "      <td>0.5</td>\n",
       "      <td>Kolkata Knight Riders</td>\n",
       "      <td>Royal Challengers Bangalore</td>\n",
       "      <td>BB McCullum</td>\n",
       "      <td>SC Ganguly</td>\n",
       "      <td>P Kumar</td>\n",
       "      <td>0</td>\n",
       "      <td>0</td>\n",
       "      <td>NaN</td>\n",
       "      <td>NaN</td>\n",
       "      <td>NaN</td>\n",
       "      <td>NaN</td>\n",
       "      <td>NaN</td>\n",
       "      <td>NaN</td>\n",
       "      <td>NaN</td>\n",
       "      <td>NaN</td>\n",
       "      <td>NaN</td>\n",
       "      <td>2008</td>\n",
       "    </tr>\n",
       "  </tbody>\n",
       "</table>\n",
       "</div>"
      ],
      "text/plain": [
       "   match_id   season start_date                  venue  innings  ball           batting_team                 bowling_team      striker  non_striker   bowler  runs_off_bat  extras  wides  noballs  byes  legbyes  penalty wicket_type player_dismissed  other_wicket_type  other_player_dismissed  year\n",
       "0  335982    2007/08 2008-04-18  M Chinnaswamy Stadium  1        0.1   Kolkata Knight Riders  Royal Challengers Bangalore  SC Ganguly   BB McCullum  P Kumar  0             1      NaN    NaN      NaN    1.0     NaN       NaN         NaN             NaN                NaN                      2008\n",
       "1  335982    2007/08 2008-04-18  M Chinnaswamy Stadium  1        0.2   Kolkata Knight Riders  Royal Challengers Bangalore  BB McCullum  SC Ganguly   P Kumar  0             0      NaN    NaN      NaN   NaN      NaN       NaN         NaN             NaN                NaN                      2008\n",
       "2  335982    2007/08 2008-04-18  M Chinnaswamy Stadium  1        0.3   Kolkata Knight Riders  Royal Challengers Bangalore  BB McCullum  SC Ganguly   P Kumar  0             1       1.0   NaN      NaN   NaN      NaN       NaN         NaN             NaN                NaN                      2008\n",
       "3  335982    2007/08 2008-04-18  M Chinnaswamy Stadium  1        0.4   Kolkata Knight Riders  Royal Challengers Bangalore  BB McCullum  SC Ganguly   P Kumar  0             0      NaN    NaN      NaN   NaN      NaN       NaN         NaN             NaN                NaN                      2008\n",
       "4  335982    2007/08 2008-04-18  M Chinnaswamy Stadium  1        0.5   Kolkata Knight Riders  Royal Challengers Bangalore  BB McCullum  SC Ganguly   P Kumar  0             0      NaN    NaN      NaN   NaN      NaN       NaN         NaN             NaN                NaN                      2008"
      ]
     },
     "execution_count": 9,
     "metadata": {},
     "output_type": "execute_result"
    }
   ],
   "source": [
    "dataFrameOG.head()"
   ]
  },
  {
   "cell_type": "code",
   "execution_count": 10,
   "id": "a6b8105e",
   "metadata": {},
   "outputs": [],
   "source": [
    "dataFrameOG['year'] = dataFrameOG['year'].astype('int')\n",
    "dataFrameOG['runs_off_bat'] = dataFrameOG['runs_off_bat'].astype('int')"
   ]
  },
  {
   "cell_type": "code",
   "execution_count": 11,
   "id": "5dfab5f4",
   "metadata": {},
   "outputs": [
    {
     "data": {
      "text/plain": [
       "array([1, 2, 3, 4, 5, 6])"
      ]
     },
     "execution_count": 11,
     "metadata": {},
     "output_type": "execute_result"
    }
   ],
   "source": [
    "dataFrameOG.innings.unique()"
   ]
  },
  {
   "cell_type": "code",
   "execution_count": 12,
   "id": "b4986af6",
   "metadata": {},
   "outputs": [],
   "source": [
    "# dataFrame = dataFrameOG[(dataFrameOG.innings == 1) | (dataFrameOG.innings == 2)]"
   ]
  },
  {
   "cell_type": "code",
   "execution_count": 13,
   "id": "a0029c71",
   "metadata": {},
   "outputs": [],
   "source": [
    "# dataFrame.innings.unique()"
   ]
  },
  {
   "cell_type": "code",
   "execution_count": 14,
   "id": "e2ef7d8a",
   "metadata": {},
   "outputs": [],
   "source": [
    "# IPL data considered post 2018 (2019-2021)\n",
    "dataFrameDO = dataFrameOG[(dataFrameOG.year > 2018) & (dataFrameOG.year <= 2022)]\n",
    "dataFrameDO = dataFrameDO[dataFrameDO.ball >= 14.6]"
   ]
  },
  {
   "cell_type": "code",
   "execution_count": 15,
   "id": "a66ae0c6",
   "metadata": {},
   "outputs": [],
   "source": [
    "# Get MS Dhoni's IPL team name ==> Chennai Super Kings, Rising Pune Supergiants, "
   ]
  },
  {
   "cell_type": "code",
   "execution_count": 16,
   "id": "35a81874",
   "metadata": {},
   "outputs": [
    {
     "data": {
      "text/plain": [
       "array(['Kolkata Knight Riders', 'Royal Challengers Bangalore',\n",
       "       'Chennai Super Kings', 'Kings XI Punjab', 'Rajasthan Royals',\n",
       "       'Delhi Daredevils', 'Deccan Chargers', 'Mumbai Indians',\n",
       "       'Kochi Tuskers Kerala', 'Pune Warriors', 'Sunrisers Hyderabad',\n",
       "       'Rising Pune Supergiants', 'Gujarat Lions',\n",
       "       'Rising Pune Supergiant', 'Delhi Capitals', 'Punjab Kings',\n",
       "       'Lucknow Super Giants', 'Gujarat Titans'], dtype=object)"
      ]
     },
     "execution_count": 16,
     "metadata": {},
     "output_type": "execute_result"
    }
   ],
   "source": [
    "dataFrameOG.batting_team.unique()"
   ]
  },
  {
   "cell_type": "code",
   "execution_count": null,
   "id": "e1ab0833",
   "metadata": {},
   "outputs": [],
   "source": []
  },
  {
   "cell_type": "code",
   "execution_count": 17,
   "id": "3b0db129",
   "metadata": {},
   "outputs": [
    {
     "data": {
      "text/plain": [
       "array(['SC Ganguly', 'BB McCullum', 'RT Ponting', 'DJ Hussey',\n",
       "       'Mohammad Hafeez', 'R Dravid', 'W Jaffer', 'V Kohli', 'JH Kallis',\n",
       "       'CL White', 'MV Boucher', 'B Akhil', 'AA Noffke', 'P Kumar',\n",
       "       'Z Khan', 'SB Joshi', 'PA Patel', 'ML Hayden', 'MEK Hussey',\n",
       "       'MS Dhoni', 'SK Raina', 'JDP Oram', 'S Badrinath', 'K Goel',\n",
       "       'JR Hopes', 'KC Sangakkara', 'Yuvraj Singh', 'SM Katich',\n",
       "       'IK Pathan', 'T Kohli', 'YK Pathan', 'SR Watson', 'M Kaif',\n",
       "       'DS Lehmann', 'RA Jadeja', 'M Rawat', 'D Salunkhe', 'SK Warne',\n",
       "       'SK Trivedi', 'G Gambhir', 'V Sehwag', 'S Dhawan', 'AC Gilchrist',\n",
       "       'Y Venugopal Rao', 'VVS Laxman', 'A Symonds', 'RG Sharma',\n",
       "       'SB Styris', 'AS Yadav', 'SB Bangar', 'WPUJC Vaas', 'RP Singh',\n",
       "       'WP Saha', 'LR Shukla', 'L Ronchi', 'ST Jayasuriya', 'DJ Thornely',\n",
       "       'RV Uthappa', 'PR Shah', 'AM Nayar', 'SM Pollock',\n",
       "       'Harbhajan Singh', 'S Chanderpaul', 'LRPL Taylor',\n",
       "       'DPMD Jayawardene', 'S Sohal', 'B Lee', 'PP Chawla', 'WA Mota',\n",
       "       'Kamran Akmal', 'Shahid Afridi', 'DJ Bravo', 'MA Khote', 'A Nehra',\n",
       "       'GC Smith', 'Pankaj Singh', 'RR Sarwan', 'S Sreesanth',\n",
       "       'VRV Singh', 'SS Tiwary', 'DS Kulkarni', 'AB Agarkar', 'M Kartik',\n",
       "       'I Sharma', 'R Vinay Kumar', 'AM Rahane', 'Shoaib Malik',\n",
       "       'MK Tiwary', 'KD Karthik', 'R Bhatia', 'MF Maharoof', 'VY Mahesh',\n",
       "       'TM Srivastava', 'B Chipli', 'DW Steyn', 'DB Das', 'MK Pandey',\n",
       "       'SA Asnodkar', 'Sohail Tanvir', 'Salman Butt', 'BJ Hodge',\n",
       "       'Umar Gul', 'AB Dinda', 'HH Gibbs', 'DNT Zoysa', 'D Kalyankrishna',\n",
       "       'SE Marsh', 'SP Fleming', 'S Vidyut', 'JA Morkel',\n",
       "       'AB de Villiers', 'Misbah-ul-Haq', 'Joginder Sharma', 'MS Gony',\n",
       "       'M Muralitharan', 'M Ntini', 'YV Takawale', 'RR Raje',\n",
       "       'PJ Sangwan', 'Mohammad Asif', 'GD McGrath', 'DT Patil',\n",
       "       'A Kumble', 'S Anirudha', 'MM Patel', 'CK Kapugedera', 'A Chopra',\n",
       "       'T Taibu', 'J Arunkumar', 'DB Ravi Teja', 'PP Ojha', 'U Kaul',\n",
       "       'TM Dilshan', 'A Mishra', 'AD Mascarenhas', 'Niraj Patel',\n",
       "       'LA Pomersbach', 'Iqbal Abdulla', 'SR Tendulkar',\n",
       "       'PM Sarvesh Kumar', 'DP Vijaykumar', 'Shoaib Akhtar',\n",
       "       'Abdur Razzak', 'LPC Silva', 'H Das', 'SP Goswami', 'DR Smith',\n",
       "       'SD Chitnis', 'CRD Fernando', 'VS Yeligati', 'L Balaji',\n",
       "       'A Mukund', 'Younis Khan', 'RR Powar', 'JD Ryder', 'KP Pietersen',\n",
       "       'T Henderson', 'Kamran Khan', 'JP Duminy', 'A Flintoff',\n",
       "       'T Thushara', 'RS Bopara', 'CH Gayle', 'MC Henriques', 'R Bishnoi',\n",
       "       'FH Edwards', 'KV Sharma', 'PC Valthaty', 'RJ Quiney', 'AS Raut',\n",
       "       'Yashpal Singh', 'M Manhas', 'AA Bilakhia', 'AN Ghosh',\n",
       "       'BAW Mendis', 'DL Vettori', 'MN van Wyk', 'RE van der Merwe',\n",
       "       'TL Suman', 'Shoaib Ahmed', 'GR Napier', 'KP Appanna', 'M Vijay',\n",
       "       'SB Jakati', 'DA Warner', 'LA Carseldine', 'NV Ojha', 'SM Harwood',\n",
       "       'RJ Harris', 'D du Preez', 'M Morkel', 'AD Mathews', 'J Botha',\n",
       "       'C Nanda', 'SL Malinga', 'Mashrafe Mortaza', 'A Singh',\n",
       "       'GJ Bailey', 'AB McDonald', 'Y Nagar', 'SS Shaikh', 'R Ashwin',\n",
       "       'Mohammad Ashraful', 'CA Pujara', 'OA Shah', 'Anirudh Singh',\n",
       "       'Jaskaran Singh', 'MS Bisla', 'YA Abdulla', 'AP Tare', 'AT Rayudu',\n",
       "       'R Sathish', 'R McLaren', 'AA Jhunjhunwala', 'P Dogra', 'A Uniyal',\n",
       "       'JM Kemp', 'S Tyagi', 'EJG Morgan', 'RS Gavaskar', 'SE Bond',\n",
       "       'KA Pollard', 'S Ladda', 'DP Nannes', 'MJ Lumb', 'DR Martyn',\n",
       "       'S Narwal', 'AB Barath', 'Bipul Sharma', 'FY Fazal', 'AC Voges',\n",
       "       'MD Mishra', 'UT Yadav', 'J Theron', 'SJ Srivastava', 'KM Jadhav',\n",
       "       'R Sharma', 'Mandeep Singh', 'SW Tait', 'KB Arun Karthik',\n",
       "       'KAJ Roach', 'PD Collingwood', 'CK Langeveldt', 'VS Malik',\n",
       "       'A Mithun', 'AP Dole', 'AN Ahmed', 'RS Sodhi', 'S Sriram',\n",
       "       'DE Bollinger', 'B Sumanth', 'C Madan', 'AG Paunikar', 'MR Marsh',\n",
       "       'AJ Finch', 'STR Binny', 'Harmeet Singh', 'IR Jaggi',\n",
       "       'DT Christian', 'RV Gomez', 'MA Agarwal', 'AUK Pathan',\n",
       "       'Sunny Singh', 'NJ Rimmington', 'UBT Chand', 'DJ Jacobs',\n",
       "       'AL Menaria', 'WD Parnell', 'JJ van der Wath', 'R Ninan',\n",
       "       'S Aravind', 'MS Wade', 'TD Paine', 'SB Wagh', 'AC Thomas',\n",
       "       'JEC Franklin', 'Shakib Al Hasan', 'DH Yagnik', 'BJ Haddin',\n",
       "       'S Randiv', 'NLTC Perera', 'NL McCullum', 'JE Taylor',\n",
       "       'J Syed Mohammad', 'RN ten Doeschate', 'TR Birt', 'Harpreet Singh',\n",
       "       'AG Murtaza', 'M Klinger', 'AC Blizzard', 'I Malhotra', 'L Ablish',\n",
       "       'CA Ingram', 'S Nadeem', 'CJ Ferguson', 'P Parameswaran',\n",
       "       'VR Aaron', 'AA Chavan', 'ND Doshi', 'B Kumar', 'Y Gnaneswara Rao',\n",
       "       'S Rana', 'BA Bhatt', 'F du Plessis', 'RE Levi', 'GJ Maxwell',\n",
       "       'SPD Smith', 'MN Samuels', 'SA Yadav', 'KK Cooper', 'JP Faulkner',\n",
       "       'DJ Harris', 'Ankit Sharma', 'HV Patel', 'DAJ Bracewell',\n",
       "       'SP Narine', 'GB Hogg', 'RR Bhatkal', 'CJ McKay', 'N Saini',\n",
       "       'DA Miller', 'Azhar Mahmood', 'P Negi', 'RJ Peterson',\n",
       "       'KMDN Kulasekara', 'A Ashish Reddy', 'V Pratap Singh',\n",
       "       'BB Samantray', 'MJ Clarke', 'Gurkeerat Singh', 'PA Reddy',\n",
       "       'AP Majumdar', 'K Upadhyay', 'P Awana', 'AD Russell', 'A Chandila',\n",
       "       'CA Lynn', 'Sunny Gupta', 'MC Juneja', 'KK Nair', 'GH Vihari',\n",
       "       'MDKJ Perera', 'R Shukla', 'B Laughlin', 'AS Rajpoot',\n",
       "       'JD Unadkat', 'M Vohra', 'Mohammed Shami', 'BMAJ Mendis',\n",
       "       'R Rampaul', 'CH Morris', 'SV Samson', 'SMSM Senanayake',\n",
       "       'BJ Rohrer', 'KL Rahul', 'Q de Kock', 'R Dhawan', 'MG Johnson',\n",
       "       'LJ Wright', 'IC Pandey', 'X Thalaivan Sargunam', 'DJG Sammy',\n",
       "       'KW Richardson', 'MM Sharma', 'CM Gautam', 'UA Birla',\n",
       "       'Parvez Rasool', 'Sandeep Sharma', 'S Kaul', 'Sachin Baby',\n",
       "       'PV Tambe', 'NM Coulter-Nile', 'CJ Anderson', 'NJ Maddinson',\n",
       "       'AR Patel', 'JDS Neesham', 'JJ Bumrah', 'TG Southee', 'MA Starc',\n",
       "       'BR Dunk', 'RR Rossouw', 'Shivam Sharma', 'YS Chahal',\n",
       "       'LMP Simmons', 'VH Zol', 'BCJ Cutting', 'Imran Tahir',\n",
       "       'BE Hendricks', 'S Gopal', 'M de Lange', 'R Tewatia', 'JO Holder',\n",
       "       'Karanveer Singh', 'Anureet Singh', 'HH Pandya', 'D Wiese',\n",
       "       'SS Iyer', 'DJ Hooda', 'SN Khan', 'MJ McClenaghan', 'SA Abbott',\n",
       "       'KS Williamson', 'J Suchith', 'DJ Muthuswami', 'PJ Cummins',\n",
       "       'RG More', 'SN Thakur', 'JC Buttler', 'CR Brathwaite',\n",
       "       'MP Stoinis', 'Ishan Kishan', 'C Munro', 'P Sahu', 'KH Pandya',\n",
       "       'AD Nath', 'MJ Guptill', 'KJ Abbott', 'TM Head', 'M Ashwin',\n",
       "       'NS Naik', 'RR Pant', 'SW Billings', 'KC Cariappa',\n",
       "       'PSP Handscomb', 'Swapnil Singh', 'J Yadav', 'UT Khawaja',\n",
       "       'HM Amla', 'F Behardien', 'BB Sran', 'A Zampa', 'N Rana',\n",
       "       'S Kaushik', 'ER Dwivedi', 'CJ Jordan', 'TS Mills', 'A Choudhary',\n",
       "       'BA Stokes', 'JJ Roy', 'Vishnu Vinod', 'Basil Thampi', 'CR Woakes',\n",
       "       'RA Tripathi', 'DL Chahar', 'V Shankar', 'Rashid Khan',\n",
       "       'RD Chahar', 'LH Ferguson', 'C de Grandhomme', 'AF Milne',\n",
       "       'S Badree', 'Mohammad Nabi', 'AJ Tye', 'K Rabada', 'Kuldeep Yadav',\n",
       "       'Washington Sundar', 'DM Bravo', 'AR Bawne', 'SP Jackson',\n",
       "       'Ankit Soni', 'TA Boult', 'MM Ali', 'SO Hetmyer', 'S Dube',\n",
       "       'NA Saini', 'Mohammed Siraj', 'JM Bairstow', 'Shubman Gill',\n",
       "       'PP Shaw', 'KMA Paul', 'Rasikh Salam', 'N Pooran', 'K Gowtham',\n",
       "       'JC Archer', 'M Markande', 'P Ray Barman', 'SM Curran',\n",
       "       'GC Viljoen', 'Avesh Khan', 'S Lamichhane', 'M Prasidh Krishna',\n",
       "       'HF Gurney', 'SD Lad', 'AS Joseph', 'R Parag', 'MJ Santner',\n",
       "       'JL Denly', 'LS Livingstone', 'RK Bhui', 'Abhishek Sharma',\n",
       "       'KK Ahmed', 'Mujeeb Ur Rahman', 'AJ Turner', 'E Lewis', 'MA Wood',\n",
       "       'RK Singh', 'DJM Short', 'TK Curran', 'B Stanlake', 'A Dananjaya',\n",
       "       'Shivam Mavi', 'H Klaasen', 'LE Plunkett', 'Mustafizur Rahman',\n",
       "       'AD Hales', 'MK Lomror', 'DR Shorey', 'P Chopra',\n",
       "       'JPR Scantlebury-Searles', 'IS Sodhi', 'Harpreet Brar',\n",
       "       'SE Rutherford', 'Y Prithvi Raj', 'P Simran Singh', 'JL Pattinson',\n",
       "       'A Nortje', 'D Padikkal', 'JR Philippe', 'PK Garg', 'T Natarajan',\n",
       "       'YBK Jaiswal', 'RD Gaikwad', 'KL Nagarkoti', 'Abdul Samad',\n",
       "       'Ravi Bishnoi', 'I Udana', 'CV Varun', 'SS Cottrell',\n",
       "       'Arshdeep Singh', 'Kartik Tyagi', 'N Jagadeesan', 'AT Carey',\n",
       "       'T Banton', 'TU Deshpande', 'Shahbaz Ahmed', 'P Dubey', 'DR Sams',\n",
       "       'M Jansen', 'RM Patidar', 'KA Jamieson', 'M Shahrukh Khan',\n",
       "       'JA Richardson', 'Lalit Yadav', 'Virat Singh', 'FA Allen',\n",
       "       'C Sakariya', 'DJ Malan', 'Anmolpreet Singh', 'KS Bharat',\n",
       "       'PWH de Silva', 'VR Iyer', 'AK Markram', 'TH David', 'T Shamsi',\n",
       "       'NT Ellis', 'TL Seifert', 'GD Phillips', 'GHS Garton', 'RV Patel',\n",
       "       'K Yadav', 'Anuj Rawat', 'DP Conway', 'Tilak Varma', 'R Powell',\n",
       "       'PBB Rajapaksa', 'RA Bawa', 'OF Smith', 'A Badoni', 'PVD Chameera',\n",
       "       'A Manohar', 'R Shepherd', 'DJ Willey', 'D Pretorius', 'JM Sharma',\n",
       "       'VG Arora', 'Mukesh Choudhary', 'Umran Malik', 'D Brevis',\n",
       "       'B Sai Sudharsan', 'Ramandeep Singh', 'HE van der Dussen',\n",
       "       'SS Prabhudessai', 'Akash Deep', 'JR Hazlewood', 'KR Sen',\n",
       "       'Aman Hakim Khan', 'HR Shokeen', 'Yash Dayal', 'DJ Mitchell',\n",
       "       'Shashank Singh', 'B Indrajith', 'Harshit Rana', 'Mohsin Khan (2)',\n",
       "       'Simarjeet Singh', 'M Theekshana', 'AS Roy', 'Fazalhaq Farooqi',\n",
       "       'K Kartikeya', 'RP Meredith', 'KS Sharma', 'T Stubbs',\n",
       "       'R Sanjay Yadav', 'A Tomar', 'PN Mankad', 'OC McCoy'], dtype=object)"
      ]
     },
     "execution_count": 17,
     "metadata": {},
     "output_type": "execute_result"
    }
   ],
   "source": [
    "# dataFrame[(dataFrame.batting_team == 'Chennai Super Kings') | (dataFrame.batting_team == 'Rising Pune Supergiants') | (dataFrame.batting_team == 'Rising Pune Supergiant')]['striker'].unique()\n",
    "dataFrameOG['striker'].unique()"
   ]
  },
  {
   "cell_type": "code",
   "execution_count": 18,
   "id": "37c95ffe",
   "metadata": {},
   "outputs": [],
   "source": [
    "strPlayer = 'MS Dhoni';\n",
    "dataFrameMSD = dataFrameOG[dataFrameOG['striker'] == strPlayer]\n",
    "dataFrameMSDDO = dataFrameDO[dataFrameOG['striker'] == strPlayer]"
   ]
  },
  {
   "cell_type": "code",
   "execution_count": 19,
   "id": "c97218bc",
   "metadata": {},
   "outputs": [
    {
     "data": {
      "text/plain": [
       "(3802, 23)"
      ]
     },
     "execution_count": 19,
     "metadata": {},
     "output_type": "execute_result"
    }
   ],
   "source": [
    "dataFrameMSD.shape"
   ]
  },
  {
   "cell_type": "code",
   "execution_count": 20,
   "id": "3bc68897",
   "metadata": {
    "scrolled": true
   },
   "outputs": [
    {
     "data": {
      "text/html": [
       "<div>\n",
       "<style scoped>\n",
       "    .dataframe tbody tr th:only-of-type {\n",
       "        vertical-align: middle;\n",
       "    }\n",
       "\n",
       "    .dataframe tbody tr th {\n",
       "        vertical-align: top;\n",
       "    }\n",
       "\n",
       "    .dataframe thead th {\n",
       "        text-align: right;\n",
       "    }\n",
       "</style>\n",
       "<table border=\"1\" class=\"dataframe\">\n",
       "  <thead>\n",
       "    <tr style=\"text-align: right;\">\n",
       "      <th></th>\n",
       "      <th>match_id</th>\n",
       "      <th>season</th>\n",
       "      <th>start_date</th>\n",
       "      <th>venue</th>\n",
       "      <th>innings</th>\n",
       "      <th>ball</th>\n",
       "      <th>batting_team</th>\n",
       "      <th>bowling_team</th>\n",
       "      <th>striker</th>\n",
       "      <th>non_striker</th>\n",
       "      <th>bowler</th>\n",
       "      <th>runs_off_bat</th>\n",
       "      <th>extras</th>\n",
       "      <th>wides</th>\n",
       "      <th>noballs</th>\n",
       "      <th>byes</th>\n",
       "      <th>legbyes</th>\n",
       "      <th>penalty</th>\n",
       "      <th>wicket_type</th>\n",
       "      <th>player_dismissed</th>\n",
       "      <th>other_wicket_type</th>\n",
       "      <th>other_player_dismissed</th>\n",
       "      <th>year</th>\n",
       "    </tr>\n",
       "  </thead>\n",
       "  <tbody>\n",
       "    <tr>\n",
       "      <th>265</th>\n",
       "      <td>335983</td>\n",
       "      <td>2007/08</td>\n",
       "      <td>2008-04-19</td>\n",
       "      <td>Punjab Cricket Association Stadium, Mohali</td>\n",
       "      <td>1</td>\n",
       "      <td>6.3</td>\n",
       "      <td>Chennai Super Kings</td>\n",
       "      <td>Kings XI Punjab</td>\n",
       "      <td>MS Dhoni</td>\n",
       "      <td>MEK Hussey</td>\n",
       "      <td>IK Pathan</td>\n",
       "      <td>1</td>\n",
       "      <td>0</td>\n",
       "      <td>NaN</td>\n",
       "      <td>NaN</td>\n",
       "      <td>NaN</td>\n",
       "      <td>NaN</td>\n",
       "      <td>NaN</td>\n",
       "      <td>NaN</td>\n",
       "      <td>NaN</td>\n",
       "      <td>NaN</td>\n",
       "      <td>NaN</td>\n",
       "      <td>2008</td>\n",
       "    </tr>\n",
       "    <tr>\n",
       "      <th>268</th>\n",
       "      <td>335983</td>\n",
       "      <td>2007/08</td>\n",
       "      <td>2008-04-19</td>\n",
       "      <td>Punjab Cricket Association Stadium, Mohali</td>\n",
       "      <td>1</td>\n",
       "      <td>6.6</td>\n",
       "      <td>Chennai Super Kings</td>\n",
       "      <td>Kings XI Punjab</td>\n",
       "      <td>MS Dhoni</td>\n",
       "      <td>MEK Hussey</td>\n",
       "      <td>IK Pathan</td>\n",
       "      <td>1</td>\n",
       "      <td>0</td>\n",
       "      <td>NaN</td>\n",
       "      <td>NaN</td>\n",
       "      <td>NaN</td>\n",
       "      <td>NaN</td>\n",
       "      <td>NaN</td>\n",
       "      <td>NaN</td>\n",
       "      <td>NaN</td>\n",
       "      <td>NaN</td>\n",
       "      <td>NaN</td>\n",
       "      <td>2008</td>\n",
       "    </tr>\n",
       "    <tr>\n",
       "      <th>269</th>\n",
       "      <td>335983</td>\n",
       "      <td>2007/08</td>\n",
       "      <td>2008-04-19</td>\n",
       "      <td>Punjab Cricket Association Stadium, Mohali</td>\n",
       "      <td>1</td>\n",
       "      <td>7.1</td>\n",
       "      <td>Chennai Super Kings</td>\n",
       "      <td>Kings XI Punjab</td>\n",
       "      <td>MS Dhoni</td>\n",
       "      <td>MEK Hussey</td>\n",
       "      <td>JR Hopes</td>\n",
       "      <td>0</td>\n",
       "      <td>0</td>\n",
       "      <td>NaN</td>\n",
       "      <td>NaN</td>\n",
       "      <td>NaN</td>\n",
       "      <td>NaN</td>\n",
       "      <td>NaN</td>\n",
       "      <td>lbw</td>\n",
       "      <td>MS Dhoni</td>\n",
       "      <td>NaN</td>\n",
       "      <td>NaN</td>\n",
       "      <td>2008</td>\n",
       "    </tr>\n",
       "    <tr>\n",
       "      <th>1719</th>\n",
       "      <td>335989</td>\n",
       "      <td>2007/08</td>\n",
       "      <td>2008-04-23</td>\n",
       "      <td>MA Chidambaram Stadium, Chepauk</td>\n",
       "      <td>1</td>\n",
       "      <td>15.1</td>\n",
       "      <td>Chennai Super Kings</td>\n",
       "      <td>Mumbai Indians</td>\n",
       "      <td>MS Dhoni</td>\n",
       "      <td>ML Hayden</td>\n",
       "      <td>DJ Bravo</td>\n",
       "      <td>0</td>\n",
       "      <td>1</td>\n",
       "      <td>1.0</td>\n",
       "      <td>NaN</td>\n",
       "      <td>NaN</td>\n",
       "      <td>NaN</td>\n",
       "      <td>NaN</td>\n",
       "      <td>NaN</td>\n",
       "      <td>NaN</td>\n",
       "      <td>NaN</td>\n",
       "      <td>NaN</td>\n",
       "      <td>2008</td>\n",
       "    </tr>\n",
       "    <tr>\n",
       "      <th>1720</th>\n",
       "      <td>335989</td>\n",
       "      <td>2007/08</td>\n",
       "      <td>2008-04-23</td>\n",
       "      <td>MA Chidambaram Stadium, Chepauk</td>\n",
       "      <td>1</td>\n",
       "      <td>15.2</td>\n",
       "      <td>Chennai Super Kings</td>\n",
       "      <td>Mumbai Indians</td>\n",
       "      <td>MS Dhoni</td>\n",
       "      <td>ML Hayden</td>\n",
       "      <td>DJ Bravo</td>\n",
       "      <td>4</td>\n",
       "      <td>0</td>\n",
       "      <td>NaN</td>\n",
       "      <td>NaN</td>\n",
       "      <td>NaN</td>\n",
       "      <td>NaN</td>\n",
       "      <td>NaN</td>\n",
       "      <td>NaN</td>\n",
       "      <td>NaN</td>\n",
       "      <td>NaN</td>\n",
       "      <td>NaN</td>\n",
       "      <td>2008</td>\n",
       "    </tr>\n",
       "  </tbody>\n",
       "</table>\n",
       "</div>"
      ],
      "text/plain": [
       "      match_id   season start_date                                       venue  innings  ball         batting_team     bowling_team   striker non_striker     bowler  runs_off_bat  extras  wides  noballs  byes  legbyes  penalty wicket_type player_dismissed  other_wicket_type  other_player_dismissed  year\n",
       "265   335983    2007/08 2008-04-19  Punjab Cricket Association Stadium, Mohali  1        6.3   Chennai Super Kings  Kings XI Punjab  MS Dhoni  MEK Hussey  IK Pathan  1             0      NaN    NaN      NaN   NaN      NaN       NaN         NaN             NaN                NaN                      2008\n",
       "268   335983    2007/08 2008-04-19  Punjab Cricket Association Stadium, Mohali  1        6.6   Chennai Super Kings  Kings XI Punjab  MS Dhoni  MEK Hussey  IK Pathan  1             0      NaN    NaN      NaN   NaN      NaN       NaN         NaN             NaN                NaN                      2008\n",
       "269   335983    2007/08 2008-04-19  Punjab Cricket Association Stadium, Mohali  1        7.1   Chennai Super Kings  Kings XI Punjab  MS Dhoni  MEK Hussey  JR Hopes   0             0      NaN    NaN      NaN   NaN      NaN       lbw         MS Dhoni        NaN                NaN                      2008\n",
       "1719  335989    2007/08 2008-04-23  MA Chidambaram Stadium, Chepauk             1        15.1  Chennai Super Kings  Mumbai Indians   MS Dhoni  ML Hayden   DJ Bravo   0             1       1.0   NaN      NaN   NaN      NaN       NaN         NaN             NaN                NaN                      2008\n",
       "1720  335989    2007/08 2008-04-23  MA Chidambaram Stadium, Chepauk             1        15.2  Chennai Super Kings  Mumbai Indians   MS Dhoni  ML Hayden   DJ Bravo   4             0      NaN    NaN      NaN   NaN      NaN       NaN         NaN             NaN                NaN                      2008"
      ]
     },
     "execution_count": 20,
     "metadata": {},
     "output_type": "execute_result"
    }
   ],
   "source": [
    "dataFrameMSD.head()"
   ]
  },
  {
   "cell_type": "code",
   "execution_count": 21,
   "id": "fbebd938",
   "metadata": {},
   "outputs": [],
   "source": [
    "# Get MSD runs scored -- Done\n",
    "# Get MSD balls faced --> to calculate strike rate -- Done\n",
    "# Get MSD dismissals --> to calculate average\n",
    "# Get MSD innings played --> to calculate runs per innings \n",
    "# Get MSD no of 6s --> Done\n",
    "# Get MSD no of 4s --> Done"
   ]
  },
  {
   "cell_type": "code",
   "execution_count": 22,
   "id": "aceb40a3",
   "metadata": {},
   "outputs": [
    {
     "data": {
      "text/plain": [
       "4978"
      ]
     },
     "execution_count": 22,
     "metadata": {},
     "output_type": "execute_result"
    }
   ],
   "source": [
    "# total runs scored\n",
    "dataFrameMSD.runs_off_bat.sum()"
   ]
  },
  {
   "cell_type": "code",
   "execution_count": 23,
   "id": "ea6596d1",
   "metadata": {},
   "outputs": [
    {
     "data": {
      "text/plain": [
       "3802"
      ]
     },
     "execution_count": 23,
     "metadata": {},
     "output_type": "execute_result"
    }
   ],
   "source": [
    "# total balls faced\n",
    "len(dataFrameMSD)"
   ]
  },
  {
   "cell_type": "code",
   "execution_count": 24,
   "id": "9229d00b",
   "metadata": {},
   "outputs": [
    {
     "data": {
      "text/plain": [
       "124"
      ]
     },
     "execution_count": 24,
     "metadata": {},
     "output_type": "execute_result"
    }
   ],
   "source": [
    "# No of dismissals\n",
    "len(dataFrameMSD[dataFrameMSD.player_dismissed == strPlayer])"
   ]
  },
  {
   "cell_type": "code",
   "execution_count": 25,
   "id": "6eb1b0dc",
   "metadata": {
    "scrolled": true
   },
   "outputs": [
    {
     "data": {
      "text/plain": [
       "40.145161290322584"
      ]
     },
     "execution_count": 25,
     "metadata": {},
     "output_type": "execute_result"
    }
   ],
   "source": [
    "# Batting Average\n",
    "sum(dataFrameMSD.runs_off_bat)/len(dataFrameMSD[dataFrameMSD.player_dismissed == strPlayer])"
   ]
  },
  {
   "cell_type": "code",
   "execution_count": 26,
   "id": "9d51c4f6",
   "metadata": {},
   "outputs": [
    {
     "data": {
      "text/plain": [
       "24.28292682926829"
      ]
     },
     "execution_count": 26,
     "metadata": {},
     "output_type": "execute_result"
    }
   ],
   "source": [
    "# Runs per innings\n",
    "sum(dataFrameMSD.runs_off_bat)/len(dataFrameMSD.match_id.unique())"
   ]
  },
  {
   "cell_type": "code",
   "execution_count": 27,
   "id": "8f7ccd72",
   "metadata": {},
   "outputs": [
    {
     "data": {
      "text/plain": [
       "229"
      ]
     },
     "execution_count": 27,
     "metadata": {},
     "output_type": "execute_result"
    }
   ],
   "source": [
    "# no of 6s\n",
    "len(dataFrameMSD[dataFrameMSD.runs_off_bat == 6])"
   ]
  },
  {
   "cell_type": "code",
   "execution_count": 28,
   "id": "70ba3542",
   "metadata": {},
   "outputs": [
    {
     "data": {
      "text/plain": [
       "346"
      ]
     },
     "execution_count": 28,
     "metadata": {},
     "output_type": "execute_result"
    }
   ],
   "source": [
    "# no of 4s\n",
    "len(dataFrameMSD[dataFrameMSD.runs_off_bat == 4])"
   ]
  },
  {
   "cell_type": "code",
   "execution_count": 29,
   "id": "fa9ad716",
   "metadata": {},
   "outputs": [
    {
     "data": {
      "text/plain": [
       "130.93108890057863"
      ]
     },
     "execution_count": 29,
     "metadata": {},
     "output_type": "execute_result"
    }
   ],
   "source": [
    "# strike rate --> 100 * runs scored/balls faced\n",
    "100*sum(dataFrameMSD.runs_off_bat)/len(dataFrameMSD)"
   ]
  },
  {
   "cell_type": "code",
   "execution_count": 30,
   "id": "e034a6a8",
   "metadata": {},
   "outputs": [
    {
     "data": {
      "text/plain": [
       "36.03366649132036"
      ]
     },
     "execution_count": 30,
     "metadata": {},
     "output_type": "execute_result"
    }
   ],
   "source": [
    "# dot balls percentage\n",
    "100*len(dataFrameMSD[dataFrameMSD.runs_off_bat == 0])/len(dataFrameMSD)"
   ]
  },
  {
   "cell_type": "code",
   "execution_count": 31,
   "id": "34df3cdc",
   "metadata": {},
   "outputs": [
    {
     "data": {
      "text/plain": [
       "striker\n",
       "V Kohli      6634\n",
       "S Dhawan     6244\n",
       "DA Warner    5883\n",
       "RG Sharma    5881\n",
       "SK Raina     5536\n",
       "Name: runs_off_bat, dtype: int64"
      ]
     },
     "execution_count": 31,
     "metadata": {},
     "output_type": "execute_result"
    }
   ],
   "source": [
    "dataFrameOG.groupby(['striker'])['runs_off_bat'].sum().sort_values(ascending = False).head()"
   ]
  },
  {
   "cell_type": "code",
   "execution_count": 32,
   "id": "ec1d85b4",
   "metadata": {},
   "outputs": [
    {
     "data": {
      "image/png": "[encoded data removed]",
      "text/plain": [
       "<Figure size 640x480 with 1 Axes>"
      ]
     },
     "metadata": {},
     "output_type": "display_data"
    }
   ],
   "source": [
    "dataFrameDO.groupby(['striker'])['runs_off_bat'].sum().sort_values(ascending = False).head(10).plot(kind = 'barh')\n",
    "\n",
    "plt.title(strPlayer+\"'s Comparison with the best in Last 5 Overs in IPL from 2019-2022\")\n",
    "plt.xlabel('Batter')\n",
    "plt.ylabel('Runs')\n",
    "plt.show()"
   ]
  },
  {
   "cell_type": "code",
   "execution_count": 33,
   "id": "10313e67",
   "metadata": {},
   "outputs": [
    {
     "data": {
      "text/html": [
       "<div>\n",
       "<style scoped>\n",
       "    .dataframe tbody tr th:only-of-type {\n",
       "        vertical-align: middle;\n",
       "    }\n",
       "\n",
       "    .dataframe tbody tr th {\n",
       "        vertical-align: top;\n",
       "    }\n",
       "\n",
       "    .dataframe thead th {\n",
       "        text-align: right;\n",
       "    }\n",
       "</style>\n",
       "<table border=\"1\" class=\"dataframe\">\n",
       "  <thead>\n",
       "    <tr style=\"text-align: right;\">\n",
       "      <th></th>\n",
       "      <th>striker</th>\n",
       "      <th>runs_off_bat</th>\n",
       "    </tr>\n",
       "  </thead>\n",
       "  <tbody>\n",
       "    <tr>\n",
       "      <th>0</th>\n",
       "      <td>A Badoni</td>\n",
       "      <td>101</td>\n",
       "    </tr>\n",
       "    <tr>\n",
       "      <th>1</th>\n",
       "      <td>A Manohar</td>\n",
       "      <td>50</td>\n",
       "    </tr>\n",
       "    <tr>\n",
       "      <th>2</th>\n",
       "      <td>A Mishra</td>\n",
       "      <td>19</td>\n",
       "    </tr>\n",
       "    <tr>\n",
       "      <th>3</th>\n",
       "      <td>A Nortje</td>\n",
       "      <td>8</td>\n",
       "    </tr>\n",
       "    <tr>\n",
       "      <th>4</th>\n",
       "      <td>AB de Villiers</td>\n",
       "      <td>623</td>\n",
       "    </tr>\n",
       "  </tbody>\n",
       "</table>\n",
       "</div>"
      ],
      "text/plain": [
       "          striker  runs_off_bat\n",
       "0  A Badoni        101         \n",
       "1  A Manohar       50          \n",
       "2  A Mishra        19          \n",
       "3  A Nortje        8           \n",
       "4  AB de Villiers  623         "
      ]
     },
     "execution_count": 33,
     "metadata": {},
     "output_type": "execute_result"
    }
   ],
   "source": [
    "bdf1 = pd.DataFrame(dataFrameDO.groupby('striker')['runs_off_bat'].sum()).reset_index()\n",
    "bdf1.head()"
   ]
  },
  {
   "cell_type": "code",
   "execution_count": 34,
   "id": "fb4b4c5a",
   "metadata": {},
   "outputs": [
    {
     "data": {
      "text/html": [
       "<div>\n",
       "<style scoped>\n",
       "    .dataframe tbody tr th:only-of-type {\n",
       "        vertical-align: middle;\n",
       "    }\n",
       "\n",
       "    .dataframe tbody tr th {\n",
       "        vertical-align: top;\n",
       "    }\n",
       "\n",
       "    .dataframe thead th {\n",
       "        text-align: right;\n",
       "    }\n",
       "</style>\n",
       "<table border=\"1\" class=\"dataframe\">\n",
       "  <thead>\n",
       "    <tr style=\"text-align: right;\">\n",
       "      <th></th>\n",
       "      <th>striker</th>\n",
       "      <th>ball</th>\n",
       "    </tr>\n",
       "  </thead>\n",
       "  <tbody>\n",
       "    <tr>\n",
       "      <th>0</th>\n",
       "      <td>A Badoni</td>\n",
       "      <td>73</td>\n",
       "    </tr>\n",
       "    <tr>\n",
       "      <th>1</th>\n",
       "      <td>A Manohar</td>\n",
       "      <td>37</td>\n",
       "    </tr>\n",
       "    <tr>\n",
       "      <th>2</th>\n",
       "      <td>A Mishra</td>\n",
       "      <td>20</td>\n",
       "    </tr>\n",
       "    <tr>\n",
       "      <th>3</th>\n",
       "      <td>A Nortje</td>\n",
       "      <td>13</td>\n",
       "    </tr>\n",
       "    <tr>\n",
       "      <th>4</th>\n",
       "      <td>AB de Villiers</td>\n",
       "      <td>281</td>\n",
       "    </tr>\n",
       "  </tbody>\n",
       "</table>\n",
       "</div>"
      ],
      "text/plain": [
       "          striker  ball\n",
       "0  A Badoni        73  \n",
       "1  A Manohar       37  \n",
       "2  A Mishra        20  \n",
       "3  A Nortje        13  \n",
       "4  AB de Villiers  281 "
      ]
     },
     "execution_count": 34,
     "metadata": {},
     "output_type": "execute_result"
    }
   ],
   "source": [
    "bdf2 = pd.DataFrame(dataFrameDO.groupby('striker')['ball'].count()).reset_index()\n",
    "bdf2.head()"
   ]
  },
  {
   "cell_type": "code",
   "execution_count": 35,
   "id": "3d8eb871",
   "metadata": {},
   "outputs": [
    {
     "data": {
      "text/html": [
       "<div>\n",
       "<style scoped>\n",
       "    .dataframe tbody tr th:only-of-type {\n",
       "        vertical-align: middle;\n",
       "    }\n",
       "\n",
       "    .dataframe tbody tr th {\n",
       "        vertical-align: top;\n",
       "    }\n",
       "\n",
       "    .dataframe thead th {\n",
       "        text-align: right;\n",
       "    }\n",
       "</style>\n",
       "<table border=\"1\" class=\"dataframe\">\n",
       "  <thead>\n",
       "    <tr style=\"text-align: right;\">\n",
       "      <th></th>\n",
       "      <th>striker</th>\n",
       "      <th>runs_off_bat</th>\n",
       "      <th>ball</th>\n",
       "    </tr>\n",
       "  </thead>\n",
       "  <tbody>\n",
       "    <tr>\n",
       "      <th>0</th>\n",
       "      <td>A Badoni</td>\n",
       "      <td>101</td>\n",
       "      <td>73</td>\n",
       "    </tr>\n",
       "    <tr>\n",
       "      <th>1</th>\n",
       "      <td>A Manohar</td>\n",
       "      <td>50</td>\n",
       "      <td>37</td>\n",
       "    </tr>\n",
       "    <tr>\n",
       "      <th>2</th>\n",
       "      <td>A Mishra</td>\n",
       "      <td>19</td>\n",
       "      <td>20</td>\n",
       "    </tr>\n",
       "    <tr>\n",
       "      <th>3</th>\n",
       "      <td>A Nortje</td>\n",
       "      <td>8</td>\n",
       "      <td>13</td>\n",
       "    </tr>\n",
       "    <tr>\n",
       "      <th>4</th>\n",
       "      <td>AB de Villiers</td>\n",
       "      <td>623</td>\n",
       "      <td>281</td>\n",
       "    </tr>\n",
       "  </tbody>\n",
       "</table>\n",
       "</div>"
      ],
      "text/plain": [
       "          striker  runs_off_bat  ball\n",
       "0  A Badoni        101           73  \n",
       "1  A Manohar       50            37  \n",
       "2  A Mishra        19            20  \n",
       "3  A Nortje        8             13  \n",
       "4  AB de Villiers  623           281 "
      ]
     },
     "execution_count": 35,
     "metadata": {},
     "output_type": "execute_result"
    }
   ],
   "source": [
    "bdf3 = bdf1.merge(bdf2, on = 'striker', how = 'left')\n",
    "bdf3.head()"
   ]
  },
  {
   "cell_type": "code",
   "execution_count": 36,
   "id": "eae8bd14",
   "metadata": {},
   "outputs": [
    {
     "data": {
      "text/html": [
       "<div>\n",
       "<style scoped>\n",
       "    .dataframe tbody tr th:only-of-type {\n",
       "        vertical-align: middle;\n",
       "    }\n",
       "\n",
       "    .dataframe tbody tr th {\n",
       "        vertical-align: top;\n",
       "    }\n",
       "\n",
       "    .dataframe thead th {\n",
       "        text-align: right;\n",
       "    }\n",
       "</style>\n",
       "<table border=\"1\" class=\"dataframe\">\n",
       "  <thead>\n",
       "    <tr style=\"text-align: right;\">\n",
       "      <th></th>\n",
       "      <th>striker</th>\n",
       "      <th>runs_off_bat</th>\n",
       "      <th>ball</th>\n",
       "      <th>strike_rate</th>\n",
       "    </tr>\n",
       "  </thead>\n",
       "  <tbody>\n",
       "    <tr>\n",
       "      <th>0</th>\n",
       "      <td>A Badoni</td>\n",
       "      <td>101</td>\n",
       "      <td>73</td>\n",
       "      <td>138.356164</td>\n",
       "    </tr>\n",
       "    <tr>\n",
       "      <th>1</th>\n",
       "      <td>A Manohar</td>\n",
       "      <td>50</td>\n",
       "      <td>37</td>\n",
       "      <td>135.135135</td>\n",
       "    </tr>\n",
       "    <tr>\n",
       "      <th>2</th>\n",
       "      <td>A Mishra</td>\n",
       "      <td>19</td>\n",
       "      <td>20</td>\n",
       "      <td>95.000000</td>\n",
       "    </tr>\n",
       "    <tr>\n",
       "      <th>3</th>\n",
       "      <td>A Nortje</td>\n",
       "      <td>8</td>\n",
       "      <td>13</td>\n",
       "      <td>61.538462</td>\n",
       "    </tr>\n",
       "    <tr>\n",
       "      <th>4</th>\n",
       "      <td>AB de Villiers</td>\n",
       "      <td>623</td>\n",
       "      <td>281</td>\n",
       "      <td>221.708185</td>\n",
       "    </tr>\n",
       "  </tbody>\n",
       "</table>\n",
       "</div>"
      ],
      "text/plain": [
       "          striker  runs_off_bat  ball  strike_rate\n",
       "0  A Badoni        101           73    138.356164 \n",
       "1  A Manohar       50            37    135.135135 \n",
       "2  A Mishra        19            20    95.000000  \n",
       "3  A Nortje        8             13    61.538462  \n",
       "4  AB de Villiers  623           281   221.708185 "
      ]
     },
     "execution_count": 36,
     "metadata": {},
     "output_type": "execute_result"
    }
   ],
   "source": [
    "bdf3['strike_rate'] = 100*bdf3['runs_off_bat']/bdf3['ball']\n",
    "bdf3.head()"
   ]
  },
  {
   "cell_type": "code",
   "execution_count": 37,
   "id": "aefaa500",
   "metadata": {},
   "outputs": [
    {
     "data": {
      "text/html": [
       "<div>\n",
       "<style scoped>\n",
       "    .dataframe tbody tr th:only-of-type {\n",
       "        vertical-align: middle;\n",
       "    }\n",
       "\n",
       "    .dataframe tbody tr th {\n",
       "        vertical-align: top;\n",
       "    }\n",
       "\n",
       "    .dataframe thead th {\n",
       "        text-align: right;\n",
       "    }\n",
       "</style>\n",
       "<table border=\"1\" class=\"dataframe\">\n",
       "  <thead>\n",
       "    <tr style=\"text-align: right;\">\n",
       "      <th></th>\n",
       "      <th>striker</th>\n",
       "      <th>runs_off_bat</th>\n",
       "      <th>ball</th>\n",
       "      <th>strike_rate</th>\n",
       "    </tr>\n",
       "  </thead>\n",
       "  <tbody>\n",
       "    <tr>\n",
       "      <th>0</th>\n",
       "      <td>A Badoni</td>\n",
       "      <td>101</td>\n",
       "      <td>73</td>\n",
       "      <td>138.356164</td>\n",
       "    </tr>\n",
       "    <tr>\n",
       "      <th>1</th>\n",
       "      <td>A Manohar</td>\n",
       "      <td>50</td>\n",
       "      <td>37</td>\n",
       "      <td>135.135135</td>\n",
       "    </tr>\n",
       "    <tr>\n",
       "      <th>4</th>\n",
       "      <td>AB de Villiers</td>\n",
       "      <td>623</td>\n",
       "      <td>281</td>\n",
       "      <td>221.708185</td>\n",
       "    </tr>\n",
       "    <tr>\n",
       "      <th>6</th>\n",
       "      <td>AD Russell</td>\n",
       "      <td>617</td>\n",
       "      <td>318</td>\n",
       "      <td>194.025157</td>\n",
       "    </tr>\n",
       "    <tr>\n",
       "      <th>10</th>\n",
       "      <td>AK Markram</td>\n",
       "      <td>159</td>\n",
       "      <td>85</td>\n",
       "      <td>187.058824</td>\n",
       "    </tr>\n",
       "  </tbody>\n",
       "</table>\n",
       "</div>"
      ],
      "text/plain": [
       "           striker  runs_off_bat  ball  strike_rate\n",
       "0   A Badoni        101           73    138.356164 \n",
       "1   A Manohar       50            37    135.135135 \n",
       "4   AB de Villiers  623           281   221.708185 \n",
       "6   AD Russell      617           318   194.025157 \n",
       "10  AK Markram      159           85    187.058824 "
      ]
     },
     "execution_count": 37,
     "metadata": {},
     "output_type": "execute_result"
    }
   ],
   "source": [
    "bdf3 = bdf3[bdf3.ball >= 30]\n",
    "bdf3.head()"
   ]
  },
  {
   "cell_type": "code",
   "execution_count": 38,
   "id": "d4562d9d",
   "metadata": {},
   "outputs": [
    {
     "data": {
      "text/html": [
       "<div>\n",
       "<style scoped>\n",
       "    .dataframe tbody tr th:only-of-type {\n",
       "        vertical-align: middle;\n",
       "    }\n",
       "\n",
       "    .dataframe tbody tr th {\n",
       "        vertical-align: top;\n",
       "    }\n",
       "\n",
       "    .dataframe thead th {\n",
       "        text-align: right;\n",
       "    }\n",
       "</style>\n",
       "<table border=\"1\" class=\"dataframe\">\n",
       "  <thead>\n",
       "    <tr style=\"text-align: right;\">\n",
       "      <th></th>\n",
       "      <th>striker</th>\n",
       "      <th>runs_off_bat</th>\n",
       "      <th>ball</th>\n",
       "      <th>strike_rate</th>\n",
       "    </tr>\n",
       "  </thead>\n",
       "  <tbody>\n",
       "    <tr>\n",
       "      <th>0</th>\n",
       "      <td>A Badoni</td>\n",
       "      <td>101</td>\n",
       "      <td>73</td>\n",
       "      <td>138.356164</td>\n",
       "    </tr>\n",
       "    <tr>\n",
       "      <th>1</th>\n",
       "      <td>A Manohar</td>\n",
       "      <td>50</td>\n",
       "      <td>37</td>\n",
       "      <td>135.135135</td>\n",
       "    </tr>\n",
       "    <tr>\n",
       "      <th>2</th>\n",
       "      <td>AB de Villiers</td>\n",
       "      <td>623</td>\n",
       "      <td>281</td>\n",
       "      <td>221.708185</td>\n",
       "    </tr>\n",
       "    <tr>\n",
       "      <th>3</th>\n",
       "      <td>AD Russell</td>\n",
       "      <td>617</td>\n",
       "      <td>318</td>\n",
       "      <td>194.025157</td>\n",
       "    </tr>\n",
       "    <tr>\n",
       "      <th>4</th>\n",
       "      <td>AK Markram</td>\n",
       "      <td>159</td>\n",
       "      <td>85</td>\n",
       "      <td>187.058824</td>\n",
       "    </tr>\n",
       "    <tr>\n",
       "      <th>5</th>\n",
       "      <td>AM Rahane</td>\n",
       "      <td>48</td>\n",
       "      <td>37</td>\n",
       "      <td>129.729730</td>\n",
       "    </tr>\n",
       "    <tr>\n",
       "      <th>6</th>\n",
       "      <td>AR Patel</td>\n",
       "      <td>313</td>\n",
       "      <td>217</td>\n",
       "      <td>144.239631</td>\n",
       "    </tr>\n",
       "    <tr>\n",
       "      <th>7</th>\n",
       "      <td>AT Rayudu</td>\n",
       "      <td>319</td>\n",
       "      <td>205</td>\n",
       "      <td>155.609756</td>\n",
       "    </tr>\n",
       "    <tr>\n",
       "      <th>8</th>\n",
       "      <td>Abdul Samad</td>\n",
       "      <td>160</td>\n",
       "      <td>104</td>\n",
       "      <td>153.846154</td>\n",
       "    </tr>\n",
       "    <tr>\n",
       "      <th>9</th>\n",
       "      <td>Abhishek Sharma</td>\n",
       "      <td>80</td>\n",
       "      <td>74</td>\n",
       "      <td>108.108108</td>\n",
       "    </tr>\n",
       "  </tbody>\n",
       "</table>\n",
       "</div>"
      ],
      "text/plain": [
       "           striker  runs_off_bat  ball  strike_rate\n",
       "0  A Badoni         101           73    138.356164 \n",
       "1  A Manohar        50            37    135.135135 \n",
       "2  AB de Villiers   623           281   221.708185 \n",
       "3  AD Russell       617           318   194.025157 \n",
       "4  AK Markram       159           85    187.058824 \n",
       "5  AM Rahane        48            37    129.729730 \n",
       "6  AR Patel         313           217   144.239631 \n",
       "7  AT Rayudu        319           205   155.609756 \n",
       "8  Abdul Samad      160           104   153.846154 \n",
       "9  Abhishek Sharma  80            74    108.108108 "
      ]
     },
     "execution_count": 38,
     "metadata": {},
     "output_type": "execute_result"
    }
   ],
   "source": [
    "bdf3.reset_index(inplace = True, drop = True)\n",
    "bdf3.sort_values('strike_rate', ascending = False)\n",
    "bdf3.head(10)"
   ]
  },
  {
   "cell_type": "code",
   "execution_count": null,
   "id": "5cbce656",
   "metadata": {},
   "outputs": [],
   "source": []
  },
  {
   "cell_type": "code",
   "execution_count": 39,
   "id": "190c6b8c",
   "metadata": {},
   "outputs": [
    {
     "data": {
      "image/png": "[encoded data removed]",
      "text/plain": [
       "<Figure size 1600x800 with 1 Axes>"
      ]
     },
     "metadata": {},
     "output_type": "display_data"
    }
   ],
   "source": [
    "plt.figure(figsize = (16, 8))\n",
    "plt.scatter(bdf3.strike_rate, bdf3.runs_off_bat)\n",
    "for i in range(len(bdf3)):\n",
    "    if(bdf3['runs_off_bat'][i] > 600):\n",
    "        if(bdf3['striker'][i] == 'MS Dhoni'):\n",
    "            plt.text(bdf3['strike_rate'][i] - 14, bdf3['runs_off_bat'][i] - 5, bdf3['striker'][i])\n",
    "        else:\n",
    "            plt.text(bdf3['strike_rate'][i] + 2, bdf3['runs_off_bat'][i] - 5, bdf3['striker'][i])\n",
    "plt.axvline(140, ls = '--', color = 'grey')\n",
    "plt.axhline(600, ls = '--', color = 'grey')\n",
    "plt.title('Strike Rate for Best batters in IPL 2019-2022 (min 30 balls faced)', fontsize = 20)\n",
    "plt.xlabel('Strike rate')\n",
    "plt.ylabel('Runs scored')\n",
    "plt.show()"
   ]
  },
  {
   "cell_type": "code",
   "execution_count": 40,
   "id": "c527198c",
   "metadata": {},
   "outputs": [
    {
     "data": {
      "text/plain": [
       "array(['2007/08', '2009', '2009/10', '2011', '2012', 2012, 2013, 2014,\n",
       "       2015, 2016, 2017, 2019, 2018, '2018', '2019', '2020/21', '2021',\n",
       "       2021, 2022], dtype=object)"
      ]
     },
     "execution_count": 40,
     "metadata": {},
     "output_type": "execute_result"
    }
   ],
   "source": [
    "dataFrameOG.season.unique()"
   ]
  },
  {
   "cell_type": "code",
   "execution_count": 41,
   "id": "1eda90a8",
   "metadata": {},
   "outputs": [
    {
     "data": {
      "text/html": [
       "<div>\n",
       "<style scoped>\n",
       "    .dataframe tbody tr th:only-of-type {\n",
       "        vertical-align: middle;\n",
       "    }\n",
       "\n",
       "    .dataframe tbody tr th {\n",
       "        vertical-align: top;\n",
       "    }\n",
       "\n",
       "    .dataframe thead th {\n",
       "        text-align: right;\n",
       "    }\n",
       "</style>\n",
       "<table border=\"1\" class=\"dataframe\">\n",
       "  <thead>\n",
       "    <tr style=\"text-align: right;\">\n",
       "      <th></th>\n",
       "      <th>match_id</th>\n",
       "      <th>season</th>\n",
       "      <th>start_date</th>\n",
       "      <th>venue</th>\n",
       "      <th>innings</th>\n",
       "      <th>ball</th>\n",
       "      <th>batting_team</th>\n",
       "      <th>bowling_team</th>\n",
       "      <th>striker</th>\n",
       "      <th>non_striker</th>\n",
       "      <th>bowler</th>\n",
       "      <th>runs_off_bat</th>\n",
       "      <th>extras</th>\n",
       "      <th>wides</th>\n",
       "      <th>noballs</th>\n",
       "      <th>byes</th>\n",
       "      <th>legbyes</th>\n",
       "      <th>penalty</th>\n",
       "      <th>wicket_type</th>\n",
       "      <th>player_dismissed</th>\n",
       "      <th>other_wicket_type</th>\n",
       "      <th>other_player_dismissed</th>\n",
       "      <th>year</th>\n",
       "    </tr>\n",
       "  </thead>\n",
       "  <tbody>\n",
       "    <tr>\n",
       "      <th>0</th>\n",
       "      <td>335982</td>\n",
       "      <td>2007/08</td>\n",
       "      <td>2008-04-18</td>\n",
       "      <td>M Chinnaswamy Stadium</td>\n",
       "      <td>1</td>\n",
       "      <td>0.1</td>\n",
       "      <td>Kolkata Knight Riders</td>\n",
       "      <td>Royal Challengers Bangalore</td>\n",
       "      <td>SC Ganguly</td>\n",
       "      <td>BB McCullum</td>\n",
       "      <td>P Kumar</td>\n",
       "      <td>0</td>\n",
       "      <td>1</td>\n",
       "      <td>NaN</td>\n",
       "      <td>NaN</td>\n",
       "      <td>NaN</td>\n",
       "      <td>1.0</td>\n",
       "      <td>NaN</td>\n",
       "      <td>NaN</td>\n",
       "      <td>NaN</td>\n",
       "      <td>NaN</td>\n",
       "      <td>NaN</td>\n",
       "      <td>2008</td>\n",
       "    </tr>\n",
       "    <tr>\n",
       "      <th>1</th>\n",
       "      <td>335982</td>\n",
       "      <td>2007/08</td>\n",
       "      <td>2008-04-18</td>\n",
       "      <td>M Chinnaswamy Stadium</td>\n",
       "      <td>1</td>\n",
       "      <td>0.2</td>\n",
       "      <td>Kolkata Knight Riders</td>\n",
       "      <td>Royal Challengers Bangalore</td>\n",
       "      <td>BB McCullum</td>\n",
       "      <td>SC Ganguly</td>\n",
       "      <td>P Kumar</td>\n",
       "      <td>0</td>\n",
       "      <td>0</td>\n",
       "      <td>NaN</td>\n",
       "      <td>NaN</td>\n",
       "      <td>NaN</td>\n",
       "      <td>NaN</td>\n",
       "      <td>NaN</td>\n",
       "      <td>NaN</td>\n",
       "      <td>NaN</td>\n",
       "      <td>NaN</td>\n",
       "      <td>NaN</td>\n",
       "      <td>2008</td>\n",
       "    </tr>\n",
       "    <tr>\n",
       "      <th>2</th>\n",
       "      <td>335982</td>\n",
       "      <td>2007/08</td>\n",
       "      <td>2008-04-18</td>\n",
       "      <td>M Chinnaswamy Stadium</td>\n",
       "      <td>1</td>\n",
       "      <td>0.3</td>\n",
       "      <td>Kolkata Knight Riders</td>\n",
       "      <td>Royal Challengers Bangalore</td>\n",
       "      <td>BB McCullum</td>\n",
       "      <td>SC Ganguly</td>\n",
       "      <td>P Kumar</td>\n",
       "      <td>0</td>\n",
       "      <td>1</td>\n",
       "      <td>1.0</td>\n",
       "      <td>NaN</td>\n",
       "      <td>NaN</td>\n",
       "      <td>NaN</td>\n",
       "      <td>NaN</td>\n",
       "      <td>NaN</td>\n",
       "      <td>NaN</td>\n",
       "      <td>NaN</td>\n",
       "      <td>NaN</td>\n",
       "      <td>2008</td>\n",
       "    </tr>\n",
       "    <tr>\n",
       "      <th>3</th>\n",
       "      <td>335982</td>\n",
       "      <td>2007/08</td>\n",
       "      <td>2008-04-18</td>\n",
       "      <td>M Chinnaswamy Stadium</td>\n",
       "      <td>1</td>\n",
       "      <td>0.4</td>\n",
       "      <td>Kolkata Knight Riders</td>\n",
       "      <td>Royal Challengers Bangalore</td>\n",
       "      <td>BB McCullum</td>\n",
       "      <td>SC Ganguly</td>\n",
       "      <td>P Kumar</td>\n",
       "      <td>0</td>\n",
       "      <td>0</td>\n",
       "      <td>NaN</td>\n",
       "      <td>NaN</td>\n",
       "      <td>NaN</td>\n",
       "      <td>NaN</td>\n",
       "      <td>NaN</td>\n",
       "      <td>NaN</td>\n",
       "      <td>NaN</td>\n",
       "      <td>NaN</td>\n",
       "      <td>NaN</td>\n",
       "      <td>2008</td>\n",
       "    </tr>\n",
       "    <tr>\n",
       "      <th>4</th>\n",
       "      <td>335982</td>\n",
       "      <td>2007/08</td>\n",
       "      <td>2008-04-18</td>\n",
       "      <td>M Chinnaswamy Stadium</td>\n",
       "      <td>1</td>\n",
       "      <td>0.5</td>\n",
       "      <td>Kolkata Knight Riders</td>\n",
       "      <td>Royal Challengers Bangalore</td>\n",
       "      <td>BB McCullum</td>\n",
       "      <td>SC Ganguly</td>\n",
       "      <td>P Kumar</td>\n",
       "      <td>0</td>\n",
       "      <td>0</td>\n",
       "      <td>NaN</td>\n",
       "      <td>NaN</td>\n",
       "      <td>NaN</td>\n",
       "      <td>NaN</td>\n",
       "      <td>NaN</td>\n",
       "      <td>NaN</td>\n",
       "      <td>NaN</td>\n",
       "      <td>NaN</td>\n",
       "      <td>NaN</td>\n",
       "      <td>2008</td>\n",
       "    </tr>\n",
       "  </tbody>\n",
       "</table>\n",
       "</div>"
      ],
      "text/plain": [
       "   match_id   season start_date                  venue  innings  ball           batting_team                 bowling_team      striker  non_striker   bowler  runs_off_bat  extras  wides  noballs  byes  legbyes  penalty wicket_type player_dismissed  other_wicket_type  other_player_dismissed  year\n",
       "0  335982    2007/08 2008-04-18  M Chinnaswamy Stadium  1        0.1   Kolkata Knight Riders  Royal Challengers Bangalore  SC Ganguly   BB McCullum  P Kumar  0             1      NaN    NaN      NaN    1.0     NaN       NaN         NaN             NaN                NaN                      2008\n",
       "1  335982    2007/08 2008-04-18  M Chinnaswamy Stadium  1        0.2   Kolkata Knight Riders  Royal Challengers Bangalore  BB McCullum  SC Ganguly   P Kumar  0             0      NaN    NaN      NaN   NaN      NaN       NaN         NaN             NaN                NaN                      2008\n",
       "2  335982    2007/08 2008-04-18  M Chinnaswamy Stadium  1        0.3   Kolkata Knight Riders  Royal Challengers Bangalore  BB McCullum  SC Ganguly   P Kumar  0             1       1.0   NaN      NaN   NaN      NaN       NaN         NaN             NaN                NaN                      2008\n",
       "3  335982    2007/08 2008-04-18  M Chinnaswamy Stadium  1        0.4   Kolkata Knight Riders  Royal Challengers Bangalore  BB McCullum  SC Ganguly   P Kumar  0             0      NaN    NaN      NaN   NaN      NaN       NaN         NaN             NaN                NaN                      2008\n",
       "4  335982    2007/08 2008-04-18  M Chinnaswamy Stadium  1        0.5   Kolkata Knight Riders  Royal Challengers Bangalore  BB McCullum  SC Ganguly   P Kumar  0             0      NaN    NaN      NaN   NaN      NaN       NaN         NaN             NaN                NaN                      2008"
      ]
     },
     "execution_count": 41,
     "metadata": {},
     "output_type": "execute_result"
    }
   ],
   "source": [
    "dataFrameOG.head()"
   ]
  },
  {
   "cell_type": "code",
   "execution_count": 42,
   "id": "29274d7c",
   "metadata": {},
   "outputs": [
    {
     "data": {
      "image/png": "[encoded data removed]",
      "text/plain": [
       "<Figure size 1600x900 with 1 Axes>"
      ]
     },
     "metadata": {},
     "output_type": "display_data"
    }
   ],
   "source": [
    "fig, ax = plt.subplots(figsize =(16, 9))\n",
    "for s in ['top', 'bottom', 'left', 'right']:\n",
    "    ax.spines[s].set_visible(False)\n",
    "\n",
    "ax.xaxis.set_ticks_position('none')\n",
    "# Add x, y gridlines\n",
    "ax.grid(b = True, color ='grey', linestyle ='-.', linewidth = 0.5, alpha = 0.5)\n",
    "    \n",
    "dataFrameOG[dataFrameOG.striker == strPlayer].groupby(['year'])['runs_off_bat'].sum().plot(kind = 'bar', color ='maroon')\n",
    "plt.title(strPlayer+\"'s Runs scored in entire IPL Yearwise\")\n",
    "plt.xlabel('Year')\n",
    "plt.ylabel('Runs Scored')\n",
    "plt.axhline(300, ls = '--', color = 'grey')\n",
    "plt.show()"
   ]
  },
  {
   "cell_type": "code",
   "execution_count": 43,
   "id": "7137f82a",
   "metadata": {},
   "outputs": [
    {
     "data": {
      "text/plain": [
       "1370"
      ]
     },
     "execution_count": 43,
     "metadata": {},
     "output_type": "execute_result"
    }
   ],
   "source": [
    "dataFrameOGMSD = dataFrameOG[dataFrameOG.striker == strPlayer]\n",
    "# dataFrameOGMSD.head()\n",
    "len(dataFrameOGMSD[dataFrameOGMSD.runs_off_bat == 0])"
   ]
  },
  {
   "cell_type": "code",
   "execution_count": 44,
   "id": "d3d949b3",
   "metadata": {},
   "outputs": [
    {
     "data": {
      "text/html": [
       "<div>\n",
       "<style scoped>\n",
       "    .dataframe tbody tr th:only-of-type {\n",
       "        vertical-align: middle;\n",
       "    }\n",
       "\n",
       "    .dataframe tbody tr th {\n",
       "        vertical-align: top;\n",
       "    }\n",
       "\n",
       "    .dataframe thead th {\n",
       "        text-align: right;\n",
       "    }\n",
       "</style>\n",
       "<table border=\"1\" class=\"dataframe\">\n",
       "  <thead>\n",
       "    <tr style=\"text-align: right;\">\n",
       "      <th></th>\n",
       "      <th>match_id</th>\n",
       "      <th>season</th>\n",
       "      <th>start_date</th>\n",
       "      <th>venue</th>\n",
       "      <th>innings</th>\n",
       "      <th>ball</th>\n",
       "      <th>batting_team</th>\n",
       "      <th>bowling_team</th>\n",
       "      <th>striker</th>\n",
       "      <th>non_striker</th>\n",
       "      <th>bowler</th>\n",
       "      <th>runs_off_bat</th>\n",
       "      <th>extras</th>\n",
       "      <th>wides</th>\n",
       "      <th>noballs</th>\n",
       "      <th>byes</th>\n",
       "      <th>legbyes</th>\n",
       "      <th>penalty</th>\n",
       "      <th>wicket_type</th>\n",
       "      <th>player_dismissed</th>\n",
       "      <th>other_wicket_type</th>\n",
       "      <th>other_player_dismissed</th>\n",
       "      <th>year</th>\n",
       "    </tr>\n",
       "  </thead>\n",
       "  <tbody>\n",
       "    <tr>\n",
       "      <th>269</th>\n",
       "      <td>335983</td>\n",
       "      <td>2007/08</td>\n",
       "      <td>2008-04-19</td>\n",
       "      <td>Punjab Cricket Association Stadium, Mohali</td>\n",
       "      <td>1</td>\n",
       "      <td>7.1</td>\n",
       "      <td>Chennai Super Kings</td>\n",
       "      <td>Kings XI Punjab</td>\n",
       "      <td>MS Dhoni</td>\n",
       "      <td>MEK Hussey</td>\n",
       "      <td>JR Hopes</td>\n",
       "      <td>0</td>\n",
       "      <td>0</td>\n",
       "      <td>NaN</td>\n",
       "      <td>NaN</td>\n",
       "      <td>NaN</td>\n",
       "      <td>NaN</td>\n",
       "      <td>NaN</td>\n",
       "      <td>lbw</td>\n",
       "      <td>MS Dhoni</td>\n",
       "      <td>NaN</td>\n",
       "      <td>NaN</td>\n",
       "      <td>2008</td>\n",
       "    </tr>\n",
       "    <tr>\n",
       "      <th>1719</th>\n",
       "      <td>335989</td>\n",
       "      <td>2007/08</td>\n",
       "      <td>2008-04-23</td>\n",
       "      <td>MA Chidambaram Stadium, Chepauk</td>\n",
       "      <td>1</td>\n",
       "      <td>15.1</td>\n",
       "      <td>Chennai Super Kings</td>\n",
       "      <td>Mumbai Indians</td>\n",
       "      <td>MS Dhoni</td>\n",
       "      <td>ML Hayden</td>\n",
       "      <td>DJ Bravo</td>\n",
       "      <td>0</td>\n",
       "      <td>1</td>\n",
       "      <td>1.0</td>\n",
       "      <td>NaN</td>\n",
       "      <td>NaN</td>\n",
       "      <td>NaN</td>\n",
       "      <td>NaN</td>\n",
       "      <td>NaN</td>\n",
       "      <td>NaN</td>\n",
       "      <td>NaN</td>\n",
       "      <td>NaN</td>\n",
       "      <td>2008</td>\n",
       "    </tr>\n",
       "    <tr>\n",
       "      <th>1721</th>\n",
       "      <td>335989</td>\n",
       "      <td>2007/08</td>\n",
       "      <td>2008-04-23</td>\n",
       "      <td>MA Chidambaram Stadium, Chepauk</td>\n",
       "      <td>1</td>\n",
       "      <td>15.3</td>\n",
       "      <td>Chennai Super Kings</td>\n",
       "      <td>Mumbai Indians</td>\n",
       "      <td>MS Dhoni</td>\n",
       "      <td>ML Hayden</td>\n",
       "      <td>DJ Bravo</td>\n",
       "      <td>0</td>\n",
       "      <td>0</td>\n",
       "      <td>NaN</td>\n",
       "      <td>NaN</td>\n",
       "      <td>NaN</td>\n",
       "      <td>NaN</td>\n",
       "      <td>NaN</td>\n",
       "      <td>NaN</td>\n",
       "      <td>NaN</td>\n",
       "      <td>NaN</td>\n",
       "      <td>NaN</td>\n",
       "      <td>2008</td>\n",
       "    </tr>\n",
       "    <tr>\n",
       "      <th>1737</th>\n",
       "      <td>335989</td>\n",
       "      <td>2007/08</td>\n",
       "      <td>2008-04-23</td>\n",
       "      <td>MA Chidambaram Stadium, Chepauk</td>\n",
       "      <td>1</td>\n",
       "      <td>17.6</td>\n",
       "      <td>Chennai Super Kings</td>\n",
       "      <td>Mumbai Indians</td>\n",
       "      <td>MS Dhoni</td>\n",
       "      <td>ML Hayden</td>\n",
       "      <td>DS Kulkarni</td>\n",
       "      <td>0</td>\n",
       "      <td>0</td>\n",
       "      <td>NaN</td>\n",
       "      <td>NaN</td>\n",
       "      <td>NaN</td>\n",
       "      <td>NaN</td>\n",
       "      <td>NaN</td>\n",
       "      <td>NaN</td>\n",
       "      <td>NaN</td>\n",
       "      <td>NaN</td>\n",
       "      <td>NaN</td>\n",
       "      <td>2008</td>\n",
       "    </tr>\n",
       "    <tr>\n",
       "      <th>1744</th>\n",
       "      <td>335989</td>\n",
       "      <td>2007/08</td>\n",
       "      <td>2008-04-23</td>\n",
       "      <td>MA Chidambaram Stadium, Chepauk</td>\n",
       "      <td>1</td>\n",
       "      <td>18.7</td>\n",
       "      <td>Chennai Super Kings</td>\n",
       "      <td>Mumbai Indians</td>\n",
       "      <td>MS Dhoni</td>\n",
       "      <td>ML Hayden</td>\n",
       "      <td>A Nehra</td>\n",
       "      <td>0</td>\n",
       "      <td>0</td>\n",
       "      <td>NaN</td>\n",
       "      <td>NaN</td>\n",
       "      <td>NaN</td>\n",
       "      <td>NaN</td>\n",
       "      <td>NaN</td>\n",
       "      <td>run out</td>\n",
       "      <td>ML Hayden</td>\n",
       "      <td>NaN</td>\n",
       "      <td>NaN</td>\n",
       "      <td>2008</td>\n",
       "    </tr>\n",
       "  </tbody>\n",
       "</table>\n",
       "</div>"
      ],
      "text/plain": [
       "      match_id   season start_date                                       venue  innings  ball         batting_team     bowling_team   striker non_striker       bowler  runs_off_bat  extras  wides  noballs  byes  legbyes  penalty wicket_type player_dismissed  other_wicket_type  other_player_dismissed  year\n",
       "269   335983    2007/08 2008-04-19  Punjab Cricket Association Stadium, Mohali  1        7.1   Chennai Super Kings  Kings XI Punjab  MS Dhoni  MEK Hussey  JR Hopes     0             0      NaN    NaN      NaN   NaN      NaN       lbw         MS Dhoni        NaN                NaN                      2008\n",
       "1719  335989    2007/08 2008-04-23  MA Chidambaram Stadium, Chepauk             1        15.1  Chennai Super Kings  Mumbai Indians   MS Dhoni  ML Hayden   DJ Bravo     0             1       1.0   NaN      NaN   NaN      NaN       NaN         NaN             NaN                NaN                      2008\n",
       "1721  335989    2007/08 2008-04-23  MA Chidambaram Stadium, Chepauk             1        15.3  Chennai Super Kings  Mumbai Indians   MS Dhoni  ML Hayden   DJ Bravo     0             0      NaN    NaN      NaN   NaN      NaN       NaN         NaN             NaN                NaN                      2008\n",
       "1737  335989    2007/08 2008-04-23  MA Chidambaram Stadium, Chepauk             1        17.6  Chennai Super Kings  Mumbai Indians   MS Dhoni  ML Hayden   DS Kulkarni  0             0      NaN    NaN      NaN   NaN      NaN       NaN         NaN             NaN                NaN                      2008\n",
       "1744  335989    2007/08 2008-04-23  MA Chidambaram Stadium, Chepauk             1        18.7  Chennai Super Kings  Mumbai Indians   MS Dhoni  ML Hayden   A Nehra      0             0      NaN    NaN      NaN   NaN      NaN       run out     ML Hayden       NaN                NaN                      2008"
      ]
     },
     "execution_count": 44,
     "metadata": {},
     "output_type": "execute_result"
    }
   ],
   "source": [
    "dataFrameOGMSD[dataFrameOGMSD.runs_off_bat == 0].head()"
   ]
  },
  {
   "cell_type": "code",
   "execution_count": 45,
   "id": "770ff3f4",
   "metadata": {},
   "outputs": [],
   "source": [
    "dfMSDDot = dataFrameOGMSD[dataFrameOGMSD['runs_off_bat']==0]"
   ]
  },
  {
   "cell_type": "code",
   "execution_count": 46,
   "id": "541b1612",
   "metadata": {
    "scrolled": true
   },
   "outputs": [
    {
     "data": {
      "text/html": [
       "<div>\n",
       "<style scoped>\n",
       "    .dataframe tbody tr th:only-of-type {\n",
       "        vertical-align: middle;\n",
       "    }\n",
       "\n",
       "    .dataframe tbody tr th {\n",
       "        vertical-align: top;\n",
       "    }\n",
       "\n",
       "    .dataframe thead th {\n",
       "        text-align: right;\n",
       "    }\n",
       "</style>\n",
       "<table border=\"1\" class=\"dataframe\">\n",
       "  <thead>\n",
       "    <tr style=\"text-align: right;\">\n",
       "      <th></th>\n",
       "      <th>year</th>\n",
       "      <th>dot</th>\n",
       "    </tr>\n",
       "  </thead>\n",
       "  <tbody>\n",
       "    <tr>\n",
       "      <th>0</th>\n",
       "      <td>2008</td>\n",
       "      <td>124</td>\n",
       "    </tr>\n",
       "    <tr>\n",
       "      <th>1</th>\n",
       "      <td>2009</td>\n",
       "      <td>75</td>\n",
       "    </tr>\n",
       "    <tr>\n",
       "      <th>2</th>\n",
       "      <td>2010</td>\n",
       "      <td>66</td>\n",
       "    </tr>\n",
       "    <tr>\n",
       "      <th>3</th>\n",
       "      <td>2011</td>\n",
       "      <td>69</td>\n",
       "    </tr>\n",
       "    <tr>\n",
       "      <th>4</th>\n",
       "      <td>2012</td>\n",
       "      <td>87</td>\n",
       "    </tr>\n",
       "  </tbody>\n",
       "</table>\n",
       "</div>"
      ],
      "text/plain": [
       "   year  dot\n",
       "0  2008  124\n",
       "1  2009  75 \n",
       "2  2010  66 \n",
       "3  2011  69 \n",
       "4  2012  87 "
      ]
     },
     "execution_count": 46,
     "metadata": {},
     "output_type": "execute_result"
    }
   ],
   "source": [
    "dfMSDDot = dfMSDDot.groupby('year')['runs_off_bat'].count().reset_index()\n",
    "dfMSDDot = dfMSDDot.rename(columns = {'runs_off_bat' : 'dot'})\n",
    "dfMSDDot.head()"
   ]
  },
  {
   "cell_type": "code",
   "execution_count": 47,
   "id": "92aecd99",
   "metadata": {},
   "outputs": [
    {
     "data": {
      "text/html": [
       "<div>\n",
       "<style scoped>\n",
       "    .dataframe tbody tr th:only-of-type {\n",
       "        vertical-align: middle;\n",
       "    }\n",
       "\n",
       "    .dataframe tbody tr th {\n",
       "        vertical-align: top;\n",
       "    }\n",
       "\n",
       "    .dataframe thead th {\n",
       "        text-align: right;\n",
       "    }\n",
       "</style>\n",
       "<table border=\"1\" class=\"dataframe\">\n",
       "  <thead>\n",
       "    <tr style=\"text-align: right;\">\n",
       "      <th></th>\n",
       "      <th>year</th>\n",
       "      <th>ball</th>\n",
       "    </tr>\n",
       "  </thead>\n",
       "  <tbody>\n",
       "    <tr>\n",
       "      <th>0</th>\n",
       "      <td>2008</td>\n",
       "      <td>319</td>\n",
       "    </tr>\n",
       "    <tr>\n",
       "      <th>1</th>\n",
       "      <td>2009</td>\n",
       "      <td>270</td>\n",
       "    </tr>\n",
       "    <tr>\n",
       "      <th>2</th>\n",
       "      <td>2010</td>\n",
       "      <td>215</td>\n",
       "    </tr>\n",
       "    <tr>\n",
       "      <th>3</th>\n",
       "      <td>2011</td>\n",
       "      <td>247</td>\n",
       "    </tr>\n",
       "    <tr>\n",
       "      <th>4</th>\n",
       "      <td>2012</td>\n",
       "      <td>283</td>\n",
       "    </tr>\n",
       "  </tbody>\n",
       "</table>\n",
       "</div>"
      ],
      "text/plain": [
       "   year  ball\n",
       "0  2008  319 \n",
       "1  2009  270 \n",
       "2  2010  215 \n",
       "3  2011  247 \n",
       "4  2012  283 "
      ]
     },
     "execution_count": 47,
     "metadata": {},
     "output_type": "execute_result"
    }
   ],
   "source": [
    "dfMSDDotBall = dataFrameOGMSD.groupby('year')['ball'].count().reset_index()\n",
    "dfMSDDotBall.head()"
   ]
  },
  {
   "cell_type": "code",
   "execution_count": 48,
   "id": "84aed2f3",
   "metadata": {},
   "outputs": [
    {
     "data": {
      "text/html": [
       "<div>\n",
       "<style scoped>\n",
       "    .dataframe tbody tr th:only-of-type {\n",
       "        vertical-align: middle;\n",
       "    }\n",
       "\n",
       "    .dataframe tbody tr th {\n",
       "        vertical-align: top;\n",
       "    }\n",
       "\n",
       "    .dataframe thead th {\n",
       "        text-align: right;\n",
       "    }\n",
       "</style>\n",
       "<table border=\"1\" class=\"dataframe\">\n",
       "  <thead>\n",
       "    <tr style=\"text-align: right;\">\n",
       "      <th></th>\n",
       "      <th>year</th>\n",
       "      <th>ball</th>\n",
       "      <th>dot</th>\n",
       "    </tr>\n",
       "  </thead>\n",
       "  <tbody>\n",
       "    <tr>\n",
       "      <th>0</th>\n",
       "      <td>2008</td>\n",
       "      <td>319</td>\n",
       "      <td>124</td>\n",
       "    </tr>\n",
       "    <tr>\n",
       "      <th>1</th>\n",
       "      <td>2009</td>\n",
       "      <td>270</td>\n",
       "      <td>75</td>\n",
       "    </tr>\n",
       "    <tr>\n",
       "      <th>2</th>\n",
       "      <td>2010</td>\n",
       "      <td>215</td>\n",
       "      <td>66</td>\n",
       "    </tr>\n",
       "    <tr>\n",
       "      <th>3</th>\n",
       "      <td>2011</td>\n",
       "      <td>247</td>\n",
       "      <td>69</td>\n",
       "    </tr>\n",
       "    <tr>\n",
       "      <th>4</th>\n",
       "      <td>2012</td>\n",
       "      <td>283</td>\n",
       "      <td>87</td>\n",
       "    </tr>\n",
       "  </tbody>\n",
       "</table>\n",
       "</div>"
      ],
      "text/plain": [
       "   year  ball  dot\n",
       "0  2008  319   124\n",
       "1  2009  270   75 \n",
       "2  2010  215   66 \n",
       "3  2011  247   69 \n",
       "4  2012  283   87 "
      ]
     },
     "execution_count": 48,
     "metadata": {},
     "output_type": "execute_result"
    }
   ],
   "source": [
    "dfMSDDotBallPer = dfMSDDotBall.merge(dfMSDDot, on='year' ,how='right')\n",
    "dfMSDDotBallPer.head()"
   ]
  },
  {
   "cell_type": "code",
   "execution_count": 49,
   "id": "4755d9f3",
   "metadata": {
    "scrolled": true
   },
   "outputs": [
    {
     "data": {
      "text/html": [
       "<div>\n",
       "<style scoped>\n",
       "    .dataframe tbody tr th:only-of-type {\n",
       "        vertical-align: middle;\n",
       "    }\n",
       "\n",
       "    .dataframe tbody tr th {\n",
       "        vertical-align: top;\n",
       "    }\n",
       "\n",
       "    .dataframe thead th {\n",
       "        text-align: right;\n",
       "    }\n",
       "</style>\n",
       "<table border=\"1\" class=\"dataframe\">\n",
       "  <thead>\n",
       "    <tr style=\"text-align: right;\">\n",
       "      <th></th>\n",
       "      <th>year</th>\n",
       "      <th>ball</th>\n",
       "      <th>dot</th>\n",
       "      <th>Dot Percentage</th>\n",
       "    </tr>\n",
       "  </thead>\n",
       "  <tbody>\n",
       "    <tr>\n",
       "      <th>0</th>\n",
       "      <td>2008</td>\n",
       "      <td>319</td>\n",
       "      <td>124</td>\n",
       "      <td>38.871473</td>\n",
       "    </tr>\n",
       "    <tr>\n",
       "      <th>1</th>\n",
       "      <td>2009</td>\n",
       "      <td>270</td>\n",
       "      <td>75</td>\n",
       "      <td>27.777778</td>\n",
       "    </tr>\n",
       "    <tr>\n",
       "      <th>2</th>\n",
       "      <td>2010</td>\n",
       "      <td>215</td>\n",
       "      <td>66</td>\n",
       "      <td>30.697674</td>\n",
       "    </tr>\n",
       "    <tr>\n",
       "      <th>3</th>\n",
       "      <td>2011</td>\n",
       "      <td>247</td>\n",
       "      <td>69</td>\n",
       "      <td>27.935223</td>\n",
       "    </tr>\n",
       "    <tr>\n",
       "      <th>4</th>\n",
       "      <td>2012</td>\n",
       "      <td>283</td>\n",
       "      <td>87</td>\n",
       "      <td>30.742049</td>\n",
       "    </tr>\n",
       "  </tbody>\n",
       "</table>\n",
       "</div>"
      ],
      "text/plain": [
       "   year  ball  dot  Dot Percentage\n",
       "0  2008  319   124  38.871473     \n",
       "1  2009  270   75   27.777778     \n",
       "2  2010  215   66   30.697674     \n",
       "3  2011  247   69   27.935223     \n",
       "4  2012  283   87   30.742049     "
      ]
     },
     "execution_count": 49,
     "metadata": {},
     "output_type": "execute_result"
    }
   ],
   "source": [
    "dfMSDDotBallPer['Dot Percentage'] = 100*dfMSDDotBallPer['dot']/dfMSDDotBallPer['ball']\n",
    "dfMSDDotBallPer.head()"
   ]
  },
  {
   "cell_type": "code",
   "execution_count": 50,
   "id": "3722b224",
   "metadata": {},
   "outputs": [
    {
     "data": {
      "text/plain": [
       "(15, 4)"
      ]
     },
     "execution_count": 50,
     "metadata": {},
     "output_type": "execute_result"
    }
   ],
   "source": [
    "dfMSDDotBallPer.shape"
   ]
  },
  {
   "cell_type": "code",
   "execution_count": 51,
   "id": "d9693430",
   "metadata": {},
   "outputs": [
    {
     "data": {
      "image/png": "[encoded data removed]",
      "text/plain": [
       "<Figure size 1600x1200 with 1 Axes>"
      ]
     },
     "metadata": {},
     "output_type": "display_data"
    }
   ],
   "source": [
    "\n",
    "# plt.bar(dfMSDDotBallPer['year'], dfMSDDotBallPer['Dot Percentage'], color ='maroon')\n",
    "# plt.title('Percentage of dot balls by '+strPlayer+' in his entire IPL career')\n",
    "# plt.xlabel('IPL Year')\n",
    "# plt.ylabel('Percentage')\n",
    "# plt.show()\n",
    " \n",
    "# Figure Size\n",
    "fig, ax = plt.subplots(figsize =(16, 12))\n",
    " \n",
    "# Horizontal Bar Plot\n",
    "ax.barh(dfMSDDotBallPer['year'], dfMSDDotBallPer['Dot Percentage'], color='maroon')\n",
    " \n",
    "# Remove axes splines\n",
    "for s in ['top', 'bottom', 'left', 'right']:\n",
    "    ax.spines[s].set_visible(False)\n",
    " \n",
    "# Remove x, y Ticks\n",
    "ax.xaxis.set_ticks_position('none')\n",
    "ax.yaxis.set_ticks_position('none')\n",
    " \n",
    "# Add padding between axes and labels\n",
    "ax.xaxis.set_tick_params(pad = 5)\n",
    "ax.yaxis.set_tick_params(pad = 10)\n",
    " \n",
    "# Add x, y gridlines\n",
    "ax.grid(b = True, color ='grey', linestyle ='-.', linewidth = 0.5, alpha = 0.5)\n",
    " \n",
    "# Show top values\n",
    "ax.invert_yaxis()\n",
    " \n",
    "# Add annotation to bars\n",
    "for i in ax.patches:\n",
    "    plt.text(i.get_width()+0.2, i.get_y()+0.5, str(round((i.get_width()), 2)), fontsize = 12, fontweight ='bold', color ='grey')\n",
    " \n",
    "# Add Plot Title\n",
    "ax.set_title('Percentage of dot balls by '+strPlayer+' in his entire IPL career', loc ='left', )\n",
    " \n",
    "# Add Text watermark\n",
    "fig.text(0.9, 0.15, 'Abhishek Nadkarni', fontsize = 12, color ='grey', ha ='left', va ='bottom', alpha = 0.7)\n",
    " \n",
    "# Show Plot\n",
    "plt.show()"
   ]
  },
  {
   "cell_type": "code",
   "execution_count": null,
   "id": "04ba0bdf",
   "metadata": {},
   "outputs": [],
   "source": []
  },
  {
   "cell_type": "code",
   "execution_count": null,
   "id": "4d6f7d86",
   "metadata": {},
   "outputs": [],
   "source": []
  }
 ],
 "metadata": {
  "kernelspec": {
   "display_name": "Python 3 (ipykernel)",
   "language": "python",
   "name": "python3"
  },
  "language_info": {
   "codemirror_mode": {
    "name": "ipython",
    "version": 3
   },
   "file_extension": ".py",
   "mimetype": "text/x-python",
   "name": "python",
   "nbconvert_exporter": "python",
   "pygments_lexer": "ipython3",
   "version": "3.9.13"
  }
 },
 "nbformat": 4,
 "nbformat_minor": 5
}
