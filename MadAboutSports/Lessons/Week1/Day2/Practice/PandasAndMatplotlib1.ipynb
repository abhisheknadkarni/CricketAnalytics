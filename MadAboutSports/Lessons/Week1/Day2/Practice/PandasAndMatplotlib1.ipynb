{
 "cells": [
  {
   "cell_type": "code",
   "execution_count": 1,
   "id": "27c906e9",
   "metadata": {},
   "outputs": [],
   "source": [
    "import pandas"
   ]
  },
  {
   "cell_type": "code",
   "execution_count": 2,
   "id": "0a9b8a1f",
   "metadata": {},
   "outputs": [],
   "source": [
    "import pandas as pd"
   ]
  },
  {
   "cell_type": "code",
   "execution_count": 64,
   "id": "c78b9e99",
   "metadata": {},
   "outputs": [],
   "source": [
    "df = pd.DataFrame({'players': ['Virat', 'Rohit', 'Pant', 'Ishan', 'Pollard', 'ABD'], 'runs': [54, 36, 70, 20, 10, 100], 'balls': [30, 31, 50, 23, 15, 50]})"
   ]
  },
  {
   "cell_type": "code",
   "execution_count": 65,
   "id": "2690b02d",
   "metadata": {},
   "outputs": [
    {
     "data": {
      "text/html": [
       "<div>\n",
       "<style scoped>\n",
       "    .dataframe tbody tr th:only-of-type {\n",
       "        vertical-align: middle;\n",
       "    }\n",
       "\n",
       "    .dataframe tbody tr th {\n",
       "        vertical-align: top;\n",
       "    }\n",
       "\n",
       "    .dataframe thead th {\n",
       "        text-align: right;\n",
       "    }\n",
       "</style>\n",
       "<table border=\"1\" class=\"dataframe\">\n",
       "  <thead>\n",
       "    <tr style=\"text-align: right;\">\n",
       "      <th></th>\n",
       "      <th>players</th>\n",
       "      <th>runs</th>\n",
       "      <th>balls</th>\n",
       "    </tr>\n",
       "  </thead>\n",
       "  <tbody>\n",
       "    <tr>\n",
       "      <th>0</th>\n",
       "      <td>Virat</td>\n",
       "      <td>54</td>\n",
       "      <td>30</td>\n",
       "    </tr>\n",
       "    <tr>\n",
       "      <th>1</th>\n",
       "      <td>Rohit</td>\n",
       "      <td>36</td>\n",
       "      <td>31</td>\n",
       "    </tr>\n",
       "    <tr>\n",
       "      <th>2</th>\n",
       "      <td>Pant</td>\n",
       "      <td>70</td>\n",
       "      <td>50</td>\n",
       "    </tr>\n",
       "    <tr>\n",
       "      <th>3</th>\n",
       "      <td>Ishan</td>\n",
       "      <td>20</td>\n",
       "      <td>23</td>\n",
       "    </tr>\n",
       "    <tr>\n",
       "      <th>4</th>\n",
       "      <td>Pollard</td>\n",
       "      <td>10</td>\n",
       "      <td>15</td>\n",
       "    </tr>\n",
       "    <tr>\n",
       "      <th>5</th>\n",
       "      <td>ABD</td>\n",
       "      <td>100</td>\n",
       "      <td>50</td>\n",
       "    </tr>\n",
       "  </tbody>\n",
       "</table>\n",
       "</div>"
      ],
      "text/plain": [
       "   players  runs  balls\n",
       "0    Virat    54     30\n",
       "1    Rohit    36     31\n",
       "2     Pant    70     50\n",
       "3    Ishan    20     23\n",
       "4  Pollard    10     15\n",
       "5      ABD   100     50"
      ]
     },
     "execution_count": 65,
     "metadata": {},
     "output_type": "execute_result"
    }
   ],
   "source": [
    "df"
   ]
  },
  {
   "cell_type": "code",
   "execution_count": 66,
   "id": "a515ef62",
   "metadata": {},
   "outputs": [
    {
     "data": {
      "text/plain": [
       "0      Virat\n",
       "1      Rohit\n",
       "2       Pant\n",
       "3      Ishan\n",
       "4    Pollard\n",
       "5        ABD\n",
       "Name: players, dtype: object"
      ]
     },
     "execution_count": 66,
     "metadata": {},
     "output_type": "execute_result"
    }
   ],
   "source": [
    "df['players']"
   ]
  },
  {
   "cell_type": "code",
   "execution_count": 67,
   "id": "34789e44",
   "metadata": {},
   "outputs": [],
   "source": [
    "cols_list = ['players','runs','balls']"
   ]
  },
  {
   "cell_type": "code",
   "execution_count": 68,
   "id": "3698a27d",
   "metadata": {},
   "outputs": [
    {
     "data": {
      "text/html": [
       "<div>\n",
       "<style scoped>\n",
       "    .dataframe tbody tr th:only-of-type {\n",
       "        vertical-align: middle;\n",
       "    }\n",
       "\n",
       "    .dataframe tbody tr th {\n",
       "        vertical-align: top;\n",
       "    }\n",
       "\n",
       "    .dataframe thead th {\n",
       "        text-align: right;\n",
       "    }\n",
       "</style>\n",
       "<table border=\"1\" class=\"dataframe\">\n",
       "  <thead>\n",
       "    <tr style=\"text-align: right;\">\n",
       "      <th></th>\n",
       "      <th>players</th>\n",
       "      <th>runs</th>\n",
       "      <th>balls</th>\n",
       "    </tr>\n",
       "  </thead>\n",
       "  <tbody>\n",
       "    <tr>\n",
       "      <th>0</th>\n",
       "      <td>Virat</td>\n",
       "      <td>54</td>\n",
       "      <td>30</td>\n",
       "    </tr>\n",
       "    <tr>\n",
       "      <th>1</th>\n",
       "      <td>Rohit</td>\n",
       "      <td>36</td>\n",
       "      <td>31</td>\n",
       "    </tr>\n",
       "    <tr>\n",
       "      <th>2</th>\n",
       "      <td>Pant</td>\n",
       "      <td>70</td>\n",
       "      <td>50</td>\n",
       "    </tr>\n",
       "    <tr>\n",
       "      <th>3</th>\n",
       "      <td>Ishan</td>\n",
       "      <td>20</td>\n",
       "      <td>23</td>\n",
       "    </tr>\n",
       "    <tr>\n",
       "      <th>4</th>\n",
       "      <td>Pollard</td>\n",
       "      <td>10</td>\n",
       "      <td>15</td>\n",
       "    </tr>\n",
       "    <tr>\n",
       "      <th>5</th>\n",
       "      <td>ABD</td>\n",
       "      <td>100</td>\n",
       "      <td>50</td>\n",
       "    </tr>\n",
       "  </tbody>\n",
       "</table>\n",
       "</div>"
      ],
      "text/plain": [
       "   players  runs  balls\n",
       "0    Virat    54     30\n",
       "1    Rohit    36     31\n",
       "2     Pant    70     50\n",
       "3    Ishan    20     23\n",
       "4  Pollard    10     15\n",
       "5      ABD   100     50"
      ]
     },
     "execution_count": 68,
     "metadata": {},
     "output_type": "execute_result"
    }
   ],
   "source": [
    "df[cols_list]"
   ]
  },
  {
   "cell_type": "code",
   "execution_count": 69,
   "id": "1d93b4f2",
   "metadata": {},
   "outputs": [
    {
     "data": {
      "text/plain": [
       "0      Virat\n",
       "1      Rohit\n",
       "2       Pant\n",
       "3      Ishan\n",
       "4    Pollard\n",
       "5        ABD\n",
       "Name: players, dtype: object"
      ]
     },
     "execution_count": 69,
     "metadata": {},
     "output_type": "execute_result"
    }
   ],
   "source": [
    "df.players"
   ]
  },
  {
   "cell_type": "code",
   "execution_count": 70,
   "id": "72716649",
   "metadata": {},
   "outputs": [
    {
     "data": {
      "text/plain": [
       "'Pant'"
      ]
     },
     "execution_count": 70,
     "metadata": {},
     "output_type": "execute_result"
    }
   ],
   "source": [
    "df.players[2]"
   ]
  },
  {
   "cell_type": "code",
   "execution_count": 71,
   "id": "e7cf6c52",
   "metadata": {},
   "outputs": [
    {
     "data": {
      "text/plain": [
       "2    70\n",
       "Name: runs, dtype: int64"
      ]
     },
     "execution_count": 71,
     "metadata": {},
     "output_type": "execute_result"
    }
   ],
   "source": [
    "df[df.players == 'Pant'].runs"
   ]
  },
  {
   "cell_type": "code",
   "execution_count": 72,
   "id": "b637db1b",
   "metadata": {},
   "outputs": [],
   "source": [
    "playersNumber = len(df)\n",
    "playerDataNumber = len(df.columns)"
   ]
  },
  {
   "cell_type": "code",
   "execution_count": 73,
   "id": "83d17e78",
   "metadata": {},
   "outputs": [
    {
     "name": "stdout",
     "output_type": "stream",
     "text": [
      "Virat scored 54 runs in 30 balls at a strike rate of 180.0\n",
      "Rohit scored 36 runs in 31 balls at a strike rate of 116.13\n",
      "Pant scored 70 runs in 50 balls at a strike rate of 140.0\n",
      "Ishan scored 20 runs in 23 balls at a strike rate of 86.96\n",
      "Pollard scored 10 runs in 15 balls at a strike rate of 66.67\n",
      "ABD scored 100 runs in 50 balls at a strike rate of 200.0\n"
     ]
    }
   ],
   "source": [
    "for i in range(0,playersNumber):\n",
    "    print(df.players[i],'scored',df.runs[i],'runs in',df.balls[i],'balls at a strike rate of',round(100*df.runs[i]/df.balls[i],2))"
   ]
  },
  {
   "cell_type": "code",
   "execution_count": null,
   "id": "f6323de0",
   "metadata": {},
   "outputs": [],
   "source": []
  }
 ],
 "metadata": {
  "kernelspec": {
   "display_name": "Python 3 (ipykernel)",
   "language": "python",
   "name": "python3"
  },
  "language_info": {
   "codemirror_mode": {
    "name": "ipython",
    "version": 3
   },
   "file_extension": ".py",
   "mimetype": "text/x-python",
   "name": "python",
   "nbconvert_exporter": "python",
   "pygments_lexer": "ipython3",
   "version": "3.9.13"
  }
 },
 "nbformat": 4,
 "nbformat_minor": 5
}
