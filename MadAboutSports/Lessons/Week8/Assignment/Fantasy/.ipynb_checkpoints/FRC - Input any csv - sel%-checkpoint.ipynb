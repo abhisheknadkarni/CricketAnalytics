{
 "cells": [
  {
   "cell_type": "code",
   "execution_count": 1,
   "id": "8fdc006d",
   "metadata": {},
   "outputs": [],
   "source": [
    "# !pip install pulp"
   ]
  },
  {
   "cell_type": "code",
   "execution_count": 2,
   "id": "cfd4d474",
   "metadata": {},
   "outputs": [
    {
     "ename": "ModuleNotFoundError",
     "evalue": "No module named 'pulp'",
     "output_type": "error",
     "traceback": [
      "\u001b[0;31m---------------------------------------------------------------------------\u001b[0m",
      "\u001b[0;31mModuleNotFoundError\u001b[0m                       Traceback (most recent call last)",
      "\u001b[0;32m/var/folders/jn/vn4rr64x6kz2cx2s6lzslsfc0000gp/T/ipykernel_59758/2773227693.py\u001b[0m in \u001b[0;36m<module>\u001b[0;34m\u001b[0m\n\u001b[0;32m----> 1\u001b[0;31m \u001b[0;32mimport\u001b[0m \u001b[0mpulp\u001b[0m\u001b[0;34m\u001b[0m\u001b[0;34m\u001b[0m\u001b[0m\n\u001b[0m\u001b[1;32m      2\u001b[0m \u001b[0;32mimport\u001b[0m \u001b[0mnumpy\u001b[0m \u001b[0;32mas\u001b[0m \u001b[0mnp\u001b[0m\u001b[0;34m\u001b[0m\u001b[0;34m\u001b[0m\u001b[0m\n\u001b[1;32m      3\u001b[0m \u001b[0;32mimport\u001b[0m \u001b[0mpandas\u001b[0m \u001b[0;32mas\u001b[0m \u001b[0mpd\u001b[0m\u001b[0;34m\u001b[0m\u001b[0;34m\u001b[0m\u001b[0m\n\u001b[1;32m      4\u001b[0m \u001b[0;32mimport\u001b[0m \u001b[0mmatplotlib\u001b[0m\u001b[0;34m.\u001b[0m\u001b[0mpyplot\u001b[0m \u001b[0;32mas\u001b[0m \u001b[0mplt\u001b[0m\u001b[0;34m\u001b[0m\u001b[0;34m\u001b[0m\u001b[0m\n\u001b[1;32m      5\u001b[0m \u001b[0;34m\u001b[0m\u001b[0m\n",
      "\u001b[0;31mModuleNotFoundError\u001b[0m: No module named 'pulp'"
     ]
    }
   ],
   "source": [
    "import pulp\n",
    "import numpy as np\n",
    "import pandas as pd\n",
    "import matplotlib.pyplot as plt\n",
    "\n",
    "# to ignore warnings\n",
    "import warnings\n",
    "warnings.filterwarnings('ignore')\n",
    "\n",
    "# to display all rows columns \n",
    "pd.set_option('display.max_rows', None)\n",
    "pd.set_option('display.max_columns', None)  \n",
    "pd.set_option('display.expand_frame_repr', False)\n",
    "pd.set_option('max_colwidth', -1)"
   ]
  },
  {
   "cell_type": "code",
   "execution_count": null,
   "id": "65c4fdcc",
   "metadata": {
    "id": "nkleYHCMUKJJ"
   },
   "outputs": [],
   "source": [
    "df = pd.read_csv('ind_sl_t20i_1st_2022_02_24.csv')"
   ]
  },
  {
   "cell_type": "code",
   "execution_count": null,
   "id": "6d7c8121",
   "metadata": {
    "id": "k9ovEjv3UKDh"
   },
   "outputs": [],
   "source": [
    "df = df.join(pd.get_dummies(df[['Role', 'Team']]))\n",
    "df['PlayingXI'] = 1\n",
    "\n",
    "teams = list(df.Team.unique())\n",
    "team1, team2 = teams[0], teams[1]\n",
    "\n",
    "# define decision variable\n",
    "pickup_status = pulp.LpVariable.dicts('pickup_status',((obj) for obj in df.index), cat = 'Binary' )\n",
    "\n",
    "# define objective function\n",
    "mo = pulp.LpProblem('Profit maximisation problem', pulp.LpMaximize)\n",
    "mo += pulp.lpSum([pickup_status[obj]*df.loc[(obj),'Sel'] for obj in df.index])\n",
    "\n",
    "# define constraints\n",
    "mo += pulp.lpSum([pickup_status[obj]*df.loc[(obj), 'Credits']] for obj in df.index) <= 100\n",
    "\n",
    "# 11 players\n",
    "mo += pulp.lpSum([pickup_status[obj]*df.loc[(obj), 'PlayingXI']] for obj in df.index) == 11\n",
    "\n",
    "# team constraints\n",
    "mo += pulp.lpSum([pickup_status[obj]*df.loc[(obj), f\"Team_{team1}\"]] for obj in df.index) >= 4\n",
    "mo += pulp.lpSum([pickup_status[obj]*df.loc[(obj), f\"Team_{team1}\"]] for obj in df.index) <= 7\n",
    "\n",
    "mo += pulp.lpSum([pickup_status[obj]*df.loc[(obj), f\"Team_{team2}\"]] for obj in df.index) >= 4\n",
    "mo += pulp.lpSum([pickup_status[obj]*df.loc[(obj), f\"Team_{team2}\"]] for obj in df.index) <= 7\n",
    "\n",
    "# role constraints\n",
    "mo += pulp.lpSum([pickup_status[obj]*df.loc[(obj), 'Role_WK']] for obj in df.index) >= 1\n",
    "mo += pulp.lpSum([pickup_status[obj]*df.loc[(obj), 'Role_WK']] for obj in df.index) <= 4\n",
    "\n",
    "mo += pulp.lpSum([pickup_status[obj]*df.loc[(obj), 'Role_BAT']] for obj in df.index) >= 3\n",
    "mo += pulp.lpSum([pickup_status[obj]*df.loc[(obj), 'Role_BAT']] for obj in df.index) <= 6\n",
    "\n",
    "mo += pulp.lpSum([pickup_status[obj]*df.loc[(obj), 'Role_BOWL']] for obj in df.index) >= 3\n",
    "mo += pulp.lpSum([pickup_status[obj]*df.loc[(obj), 'Role_BOWL']] for obj in df.index) <= 6\n",
    "\n",
    "mo += pulp.lpSum([pickup_status[obj]*df.loc[(obj), 'Role_AR']] for obj in df.index) >= 1\n",
    "mo += pulp.lpSum([pickup_status[obj]*df.loc[(obj), 'Role_AR']] for obj in df.index) <= 4\n",
    "\n",
    "mo.solve()\n",
    "\n",
    "# output as a column in df\n",
    "df['pickup_status'] = 0\n",
    "\n",
    "for obj in df.index:\n",
    "    if pickup_status[obj].varValue:\n",
    "        df['pickup_status'][obj] = 1\n",
    "\n",
    "fdf = df[df['pickup_status'] == 1].sort_values(['Role_BAT', 'Role_WK', 'Role_AR', 'Role_BOWL'], ascending = False).reset_index(drop = True)"
   ]
  },
  {
   "cell_type": "code",
   "execution_count": null,
   "id": "be0f0335",
   "metadata": {
    "colab": {
     "base_uri": "https://localhost:8080/"
    },
    "id": "VV1-MU-lUJzG",
    "outputId": "fa11bb24-d009-4d19-f235-69d37eba6c6f"
   },
   "outputs": [],
   "source": [
    "sum(fdf.Credits)"
   ]
  },
  {
   "cell_type": "code",
   "execution_count": null,
   "id": "7808b93d",
   "metadata": {
    "colab": {
     "base_uri": "https://localhost:8080/",
     "height": 388
    },
    "id": "Fbib79YpUJ2B",
    "outputId": "60ac1398-f246-4297-dfa2-2829fc394d2b"
   },
   "outputs": [],
   "source": [
    "fdf[['Player', 'PlayerId', 'Team', 'Role', 'Sel', 'Credits', 'Series Points', 'PlayingXI', 'pickup_status']]"
   ]
  },
  {
   "cell_type": "markdown",
   "id": "4c95a6ba",
   "metadata": {},
   "source": [
    "### Post Match Analysis"
   ]
  },
  {
   "cell_type": "code",
   "execution_count": null,
   "id": "835161ea",
   "metadata": {},
   "outputs": [],
   "source": [
    "fdf[['Player', 'PlayerId', 'Team', 'Role', 'Sel', 'Credits', 'Series Points', 'PlayingXI', 'Points', 'DT', 'pickup_status']]"
   ]
  },
  {
   "cell_type": "code",
   "execution_count": null,
   "id": "7e11366e",
   "metadata": {},
   "outputs": [],
   "source": []
  }
 ],
 "metadata": {
  "kernelspec": {
   "display_name": "Python 3 (ipykernel)",
   "language": "python",
   "name": "python3"
  },
  "language_info": {
   "codemirror_mode": {
    "name": "ipython",
    "version": 3
   },
   "file_extension": ".py",
   "mimetype": "text/x-python",
   "name": "python",
   "nbconvert_exporter": "python",
   "pygments_lexer": "ipython3",
   "version": "3.9.13"
  }
 },
 "nbformat": 4,
 "nbformat_minor": 5
}
