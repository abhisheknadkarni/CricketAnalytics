{
 "cells": [
  {
   "cell_type": "code",
   "execution_count": 1,
   "id": "43d226ed",
   "metadata": {},
   "outputs": [],
   "source": [
    "import cv2 as cv"
   ]
  },
  {
   "cell_type": "code",
   "execution_count": 2,
   "id": "d01634b2",
   "metadata": {},
   "outputs": [],
   "source": [
    "# read an image\n",
    "img = cv.imread('resources/images/virat_1.jpg')\n",
    "cv.imshow('Virat', img)\n",
    "\n",
    "# wait for a key event\n",
    "while True:\n",
    "    key = cv.waitKey(0)\n",
    "\n",
    "    # if the key event is the 'd' key, break out of the loop\n",
    "    if key == ord('d'):\n",
    "        break\n",
    "\n",
    "# close the window\n",
    "cv.destroyAllWindows()"
   ]
  },
  {
   "cell_type": "code",
   "execution_count": 3,
   "id": "6667e6c2",
   "metadata": {},
   "outputs": [],
   "source": [
    "# Reading Videos"
   ]
  },
  {
   "cell_type": "code",
   "execution_count": 4,
   "id": "05ee7d07",
   "metadata": {},
   "outputs": [],
   "source": [
    "# 0- webcam, 1 - 2nd cam\n",
    "# press d to exit the video\n",
    "capture = cv.VideoCapture(\"resources/videos/dk_last_ball.wmv\")\n",
    "\n",
    "while True:\n",
    "    # a boolean to say whether the frame is read or not\n",
    "    isTrue, frame = capture.read()\n",
    "    cv.imshow('Video', frame)\n",
    "    \n",
    "    # if the letter d is pressed, break out of the loop\n",
    "    if cv.waitKey(25) & 0xFF == ord('d'):\n",
    "        break\n",
    "        \n",
    "capture.release()\n",
    "cv.destroyAllWindows()"
   ]
  },
  {
   "cell_type": "code",
   "execution_count": 5,
   "id": "910896ea",
   "metadata": {},
   "outputs": [],
   "source": [
    "# Resize/Rescale image videos"
   ]
  },
  {
   "cell_type": "code",
   "execution_count": 6,
   "id": "45c7eb44",
   "metadata": {},
   "outputs": [],
   "source": [
    "def rescaleFrame(frame, scale = 0.75):\n",
    "    # images, videos & live video\n",
    "    width = int(frame.shape[1]*scale)\n",
    "    height = int(frame.shape[0]*scale)\n",
    "    dimensions = (width, height)\n",
    "    \n",
    "    return cv.resize(frame, dimensions, interpolation = cv.INTER_AREA)"
   ]
  },
  {
   "cell_type": "code",
   "execution_count": 7,
   "id": "cbe9c4ce",
   "metadata": {},
   "outputs": [],
   "source": [
    "capture = cv.VideoCapture(\"resources/videos/dk_last_ball.wmv\")\n",
    "\n",
    "while True:\n",
    "    # a boolean to say whether the frame is read or not\n",
    "    isTrue, frame = capture.read()\n",
    "    frame_resized = rescaleFrame(frame, 0.5)\n",
    "    \n",
    "    cv.imshow('Video', frame_resized)\n",
    "    \n",
    "    # if the letter d is pressed, break out of the loop\n",
    "    if cv.waitKey(25) & 0xFF == ord('d'):\n",
    "        break\n",
    "        \n",
    "capture.release()\n",
    "cv.destroyAllWindows()"
   ]
  },
  {
   "cell_type": "code",
   "execution_count": 8,
   "id": "af1c29c3",
   "metadata": {},
   "outputs": [],
   "source": [
    "img = cv.imread('resources/images/virat_1.jpg')\n",
    "resized_image = rescaleFrame(img)\n",
    "\n",
    "img = cv.imshow('Image rescaled', resized_image)\n",
    "\n",
    "# wait for a key event\n",
    "while True:\n",
    "    key = cv.waitKey(0)\n",
    "\n",
    "    # if the key event is the 'd' key, break out of the loop\n",
    "    if key == ord('d'):\n",
    "        break\n",
    "\n",
    "# close the window\n",
    "cv.destroyAllWindows()"
   ]
  },
  {
   "cell_type": "code",
   "execution_count": null,
   "id": "ece684c6",
   "metadata": {},
   "outputs": [],
   "source": []
  },
  {
   "cell_type": "code",
   "execution_count": null,
   "id": "d772a0e6",
   "metadata": {},
   "outputs": [],
   "source": []
  },
  {
   "cell_type": "code",
   "execution_count": null,
   "id": "c3fa3ff1",
   "metadata": {},
   "outputs": [],
   "source": []
  },
  {
   "cell_type": "code",
   "execution_count": null,
   "id": "182167a5",
   "metadata": {},
   "outputs": [],
   "source": []
  }
 ],
 "metadata": {
  "kernelspec": {
   "display_name": "Python 3 (ipykernel)",
   "language": "python",
   "name": "python3"
  },
  "language_info": {
   "codemirror_mode": {
    "name": "ipython",
    "version": 3
   },
   "file_extension": ".py",
   "mimetype": "text/x-python",
   "name": "python",
   "nbconvert_exporter": "python",
   "pygments_lexer": "ipython3",
   "version": "3.9.13"
  }
 },
 "nbformat": 4,
 "nbformat_minor": 5
}
